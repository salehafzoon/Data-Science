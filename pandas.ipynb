{
  "nbformat": 4,
  "nbformat_minor": 0,
  "metadata": {
    "colab": {
      "name": "pandas.ipynb",
      "provenance": [],
      "collapsed_sections": [
        "uaCyw8HU7eIY",
        "TquxZduUvzw6",
        "zVr7C6AzzMfO",
        "PILZI2sH2zsa",
        "zB6gi0Brv10C",
        "tXyCSVhuyXrI",
        "T8cIrjRkdx4I",
        "XWc05awbflAi",
        "ke4vS82kg4ZH",
        "ARAmC8LRL4m5",
        "_pAcx0rZM40Z",
        "XUN_DMu3NwNA",
        "oDClatCjPYgh",
        "ewNLttUBQu_c",
        "d3EPVgJwSDJS",
        "8FmrPWmYm-t1",
        "SnuxB3KIoZ_u",
        "CBtRBMALpRUM",
        "vxXCE-8nqSx_",
        "KFnMbqHUrN9o",
        "lBO-jpcCr8ey",
        "PDs1GqOdtPCw",
        "xdOmWeUP7fJB",
        "yFXkwwE-7gJu",
        "8nLHbU72_r6W",
        "m7RrKLzhDtxZ",
        "G6Pua_x0Eetj",
        "ccdCa8PrFkne",
        "gez7Cv_QHtfO"
      ],
      "authorship_tag": "ABX9TyPt7OFIy1dsYN+anq6/6isO",
      "include_colab_link": true
    },
    "kernelspec": {
      "name": "python3",
      "display_name": "Python 3"
    },
    "language_info": {
      "name": "python"
    }
  },
  "cells": [
    {
      "cell_type": "markdown",
      "metadata": {
        "id": "view-in-github",
        "colab_type": "text"
      },
      "source": [
        "<a href=\"https://colab.research.google.com/github/salehafzoon/Data-Science/blob/main/pandas.ipynb\" target=\"_parent\"><img src=\"https://colab.research.google.com/assets/colab-badge.svg\" alt=\"Open In Colab\"/></a>"
      ]
    },
    {
      "cell_type": "markdown",
      "metadata": {
        "id": "iejmSu4OJdDJ"
      },
      "source": [
        "# Show installed versions\n",
        "\n",
        "> update to last version\n",
        "\n",
        "> pandas version\n",
        "\n",
        "> all dependencies versions\n"
      ]
    },
    {
      "cell_type": "code",
      "metadata": {
        "id": "N5dCr0TKx44q"
      },
      "source": [
        "!pip install --upgrade pandas"
      ],
      "execution_count": null,
      "outputs": []
    },
    {
      "cell_type": "code",
      "metadata": {
        "colab": {
          "base_uri": "https://localhost:8080/",
          "height": 35
        },
        "id": "drJRcY24Jsy-",
        "outputId": "276cddad-97ef-49fc-f815-44d28984d135"
      },
      "source": [
        "import pandas as pd\n",
        "import numpy as np\n",
        "pd.__version__"
      ],
      "execution_count": null,
      "outputs": [
        {
          "output_type": "execute_result",
          "data": {
            "application/vnd.google.colaboratory.intrinsic+json": {
              "type": "string"
            },
            "text/plain": [
              "'1.1.5'"
            ]
          },
          "metadata": {
            "tags": []
          },
          "execution_count": 1
        }
      ]
    },
    {
      "cell_type": "code",
      "metadata": {
        "id": "-SScVHqVJy55"
      },
      "source": [
        "pd.show_versions()"
      ],
      "execution_count": null,
      "outputs": []
    },
    {
      "cell_type": "markdown",
      "metadata": {
        "id": "uaCyw8HU7eIY"
      },
      "source": [
        "# Create\n",
        "\n",
        "> from CSV\n",
        "\n",
        "> from Dictionary\n",
        "\n",
        ">randomly\n",
        "\n",
        "\n",
        "\n"
      ]
    },
    {
      "cell_type": "code",
      "metadata": {
        "id": "7p9z1_ph7Pla"
      },
      "source": [
        "\n",
        "print(\"pandas version:\",pd.__version__)\n",
        "\n",
        "url = \"https://www.stats.govt.nz/assets/Uploads/Tools/CSV-files-for-download/analysis-public-place-assaults-sexual-assaults-and-robberies-2015-csv.csv\"\n",
        "df = pd.read_csv(url)\n"
      ],
      "execution_count": null,
      "outputs": []
    },
    {
      "cell_type": "code",
      "metadata": {
        "id": "q5nWN3u-99dd"
      },
      "source": [
        "tempdict = {'col1':[1,2,3], 'col2':[4,5,6]}\n",
        "df2 = pd.DataFrame.from_dict(tempdict)\n",
        "df2"
      ],
      "execution_count": null,
      "outputs": []
    },
    {
      "cell_type": "code",
      "metadata": {
        "colab": {
          "base_uri": "https://localhost:8080/",
          "height": 166
        },
        "id": "PJ6vs7VOvIX0",
        "outputId": "5e7c2a7c-a92f-41de-cecd-5f0c1e1e2929"
      },
      "source": [
        "df3=pd.DataFrame(np.random.rand(4,8), columns = list('abCDEFGH'))\n",
        "df3"
      ],
      "execution_count": null,
      "outputs": [
        {
          "output_type": "execute_result",
          "data": {
            "text/html": [
              "<div>\n",
              "<style scoped>\n",
              "    .dataframe tbody tr th:only-of-type {\n",
              "        vertical-align: middle;\n",
              "    }\n",
              "\n",
              "    .dataframe tbody tr th {\n",
              "        vertical-align: top;\n",
              "    }\n",
              "\n",
              "    .dataframe thead th {\n",
              "        text-align: right;\n",
              "    }\n",
              "</style>\n",
              "<table border=\"1\" class=\"dataframe\">\n",
              "  <thead>\n",
              "    <tr style=\"text-align: right;\">\n",
              "      <th></th>\n",
              "      <th>a</th>\n",
              "      <th>b</th>\n",
              "      <th>C</th>\n",
              "      <th>D</th>\n",
              "      <th>E</th>\n",
              "      <th>F</th>\n",
              "      <th>G</th>\n",
              "      <th>H</th>\n",
              "    </tr>\n",
              "  </thead>\n",
              "  <tbody>\n",
              "    <tr>\n",
              "      <th>0</th>\n",
              "      <td>0.475099</td>\n",
              "      <td>0.264292</td>\n",
              "      <td>0.037506</td>\n",
              "      <td>0.333378</td>\n",
              "      <td>0.927325</td>\n",
              "      <td>0.929411</td>\n",
              "      <td>0.445329</td>\n",
              "      <td>0.111164</td>\n",
              "    </tr>\n",
              "    <tr>\n",
              "      <th>1</th>\n",
              "      <td>0.603878</td>\n",
              "      <td>0.278447</td>\n",
              "      <td>0.569788</td>\n",
              "      <td>0.811392</td>\n",
              "      <td>0.596454</td>\n",
              "      <td>0.592064</td>\n",
              "      <td>0.680034</td>\n",
              "      <td>0.582279</td>\n",
              "    </tr>\n",
              "    <tr>\n",
              "      <th>2</th>\n",
              "      <td>0.512776</td>\n",
              "      <td>0.657998</td>\n",
              "      <td>0.016967</td>\n",
              "      <td>0.492388</td>\n",
              "      <td>0.800390</td>\n",
              "      <td>0.038533</td>\n",
              "      <td>0.068783</td>\n",
              "      <td>0.806877</td>\n",
              "    </tr>\n",
              "    <tr>\n",
              "      <th>3</th>\n",
              "      <td>0.799110</td>\n",
              "      <td>0.557030</td>\n",
              "      <td>0.005385</td>\n",
              "      <td>0.762636</td>\n",
              "      <td>0.015551</td>\n",
              "      <td>0.408375</td>\n",
              "      <td>0.478540</td>\n",
              "      <td>0.368358</td>\n",
              "    </tr>\n",
              "  </tbody>\n",
              "</table>\n",
              "</div>"
            ],
            "text/plain": [
              "          a         b         C  ...         F         G         H\n",
              "0  0.475099  0.264292  0.037506  ...  0.929411  0.445329  0.111164\n",
              "1  0.603878  0.278447  0.569788  ...  0.592064  0.680034  0.582279\n",
              "2  0.512776  0.657998  0.016967  ...  0.038533  0.068783  0.806877\n",
              "3  0.799110  0.557030  0.005385  ...  0.408375  0.478540  0.368358\n",
              "\n",
              "[4 rows x 8 columns]"
            ]
          },
          "metadata": {
            "tags": []
          },
          "execution_count": 3
        }
      ]
    },
    {
      "cell_type": "markdown",
      "metadata": {
        "id": "TquxZduUvzw6"
      },
      "source": [
        "# Rename"
      ]
    },
    {
      "cell_type": "code",
      "metadata": {
        "colab": {
          "base_uri": "https://localhost:8080/",
          "height": 166
        },
        "id": "TsQV39Yov2rF",
        "outputId": "7c51542b-1169-43fb-de9a-0d7fc99a3750"
      },
      "source": [
        "df3.rename({'a':'A','b':'B'} , axis = 'columns')"
      ],
      "execution_count": null,
      "outputs": [
        {
          "output_type": "execute_result",
          "data": {
            "text/html": [
              "<div>\n",
              "<style scoped>\n",
              "    .dataframe tbody tr th:only-of-type {\n",
              "        vertical-align: middle;\n",
              "    }\n",
              "\n",
              "    .dataframe tbody tr th {\n",
              "        vertical-align: top;\n",
              "    }\n",
              "\n",
              "    .dataframe thead th {\n",
              "        text-align: right;\n",
              "    }\n",
              "</style>\n",
              "<table border=\"1\" class=\"dataframe\">\n",
              "  <thead>\n",
              "    <tr style=\"text-align: right;\">\n",
              "      <th></th>\n",
              "      <th>A</th>\n",
              "      <th>B</th>\n",
              "      <th>C</th>\n",
              "      <th>D</th>\n",
              "      <th>E</th>\n",
              "      <th>F</th>\n",
              "      <th>G</th>\n",
              "      <th>H</th>\n",
              "    </tr>\n",
              "  </thead>\n",
              "  <tbody>\n",
              "    <tr>\n",
              "      <th>0</th>\n",
              "      <td>0.475099</td>\n",
              "      <td>0.264292</td>\n",
              "      <td>0.037506</td>\n",
              "      <td>0.333378</td>\n",
              "      <td>0.927325</td>\n",
              "      <td>0.929411</td>\n",
              "      <td>0.445329</td>\n",
              "      <td>0.111164</td>\n",
              "    </tr>\n",
              "    <tr>\n",
              "      <th>1</th>\n",
              "      <td>0.603878</td>\n",
              "      <td>0.278447</td>\n",
              "      <td>0.569788</td>\n",
              "      <td>0.811392</td>\n",
              "      <td>0.596454</td>\n",
              "      <td>0.592064</td>\n",
              "      <td>0.680034</td>\n",
              "      <td>0.582279</td>\n",
              "    </tr>\n",
              "    <tr>\n",
              "      <th>2</th>\n",
              "      <td>0.512776</td>\n",
              "      <td>0.657998</td>\n",
              "      <td>0.016967</td>\n",
              "      <td>0.492388</td>\n",
              "      <td>0.800390</td>\n",
              "      <td>0.038533</td>\n",
              "      <td>0.068783</td>\n",
              "      <td>0.806877</td>\n",
              "    </tr>\n",
              "    <tr>\n",
              "      <th>3</th>\n",
              "      <td>0.799110</td>\n",
              "      <td>0.557030</td>\n",
              "      <td>0.005385</td>\n",
              "      <td>0.762636</td>\n",
              "      <td>0.015551</td>\n",
              "      <td>0.408375</td>\n",
              "      <td>0.478540</td>\n",
              "      <td>0.368358</td>\n",
              "    </tr>\n",
              "  </tbody>\n",
              "</table>\n",
              "</div>"
            ],
            "text/plain": [
              "          A         B         C  ...         F         G         H\n",
              "0  0.475099  0.264292  0.037506  ...  0.929411  0.445329  0.111164\n",
              "1  0.603878  0.278447  0.569788  ...  0.592064  0.680034  0.582279\n",
              "2  0.512776  0.657998  0.016967  ...  0.038533  0.068783  0.806877\n",
              "3  0.799110  0.557030  0.005385  ...  0.408375  0.478540  0.368358\n",
              "\n",
              "[4 rows x 8 columns]"
            ]
          },
          "metadata": {
            "tags": []
          },
          "execution_count": 4
        }
      ]
    },
    {
      "cell_type": "code",
      "metadata": {
        "colab": {
          "base_uri": "https://localhost:8080/",
          "height": 166
        },
        "id": "c73cfqObwmjB",
        "outputId": "5c77112a-5c46-4414-8c9e-d126561f374a"
      },
      "source": [
        "df3.columns = ['v1','v2','v3','v4','v5','v6','v7','v8']\n",
        "\n",
        "df3.columns = df3.columns.str.replace('v','')\n",
        "\n",
        "df3 = df3.add_prefix('col_')\n",
        "df3 = df3.add_suffix('_x')\n",
        "df3"
      ],
      "execution_count": null,
      "outputs": [
        {
          "output_type": "execute_result",
          "data": {
            "text/html": [
              "<div>\n",
              "<style scoped>\n",
              "    .dataframe tbody tr th:only-of-type {\n",
              "        vertical-align: middle;\n",
              "    }\n",
              "\n",
              "    .dataframe tbody tr th {\n",
              "        vertical-align: top;\n",
              "    }\n",
              "\n",
              "    .dataframe thead th {\n",
              "        text-align: right;\n",
              "    }\n",
              "</style>\n",
              "<table border=\"1\" class=\"dataframe\">\n",
              "  <thead>\n",
              "    <tr style=\"text-align: right;\">\n",
              "      <th></th>\n",
              "      <th>col_1_x</th>\n",
              "      <th>col_2_x</th>\n",
              "      <th>col_3_x</th>\n",
              "      <th>col_4_x</th>\n",
              "      <th>col_5_x</th>\n",
              "      <th>col_6_x</th>\n",
              "      <th>col_7_x</th>\n",
              "      <th>col_8_x</th>\n",
              "    </tr>\n",
              "  </thead>\n",
              "  <tbody>\n",
              "    <tr>\n",
              "      <th>0</th>\n",
              "      <td>0.475099</td>\n",
              "      <td>0.264292</td>\n",
              "      <td>0.037506</td>\n",
              "      <td>0.333378</td>\n",
              "      <td>0.927325</td>\n",
              "      <td>0.929411</td>\n",
              "      <td>0.445329</td>\n",
              "      <td>0.111164</td>\n",
              "    </tr>\n",
              "    <tr>\n",
              "      <th>1</th>\n",
              "      <td>0.603878</td>\n",
              "      <td>0.278447</td>\n",
              "      <td>0.569788</td>\n",
              "      <td>0.811392</td>\n",
              "      <td>0.596454</td>\n",
              "      <td>0.592064</td>\n",
              "      <td>0.680034</td>\n",
              "      <td>0.582279</td>\n",
              "    </tr>\n",
              "    <tr>\n",
              "      <th>2</th>\n",
              "      <td>0.512776</td>\n",
              "      <td>0.657998</td>\n",
              "      <td>0.016967</td>\n",
              "      <td>0.492388</td>\n",
              "      <td>0.800390</td>\n",
              "      <td>0.038533</td>\n",
              "      <td>0.068783</td>\n",
              "      <td>0.806877</td>\n",
              "    </tr>\n",
              "    <tr>\n",
              "      <th>3</th>\n",
              "      <td>0.799110</td>\n",
              "      <td>0.557030</td>\n",
              "      <td>0.005385</td>\n",
              "      <td>0.762636</td>\n",
              "      <td>0.015551</td>\n",
              "      <td>0.408375</td>\n",
              "      <td>0.478540</td>\n",
              "      <td>0.368358</td>\n",
              "    </tr>\n",
              "  </tbody>\n",
              "</table>\n",
              "</div>"
            ],
            "text/plain": [
              "    col_1_x   col_2_x   col_3_x  ...   col_6_x   col_7_x   col_8_x\n",
              "0  0.475099  0.264292  0.037506  ...  0.929411  0.445329  0.111164\n",
              "1  0.603878  0.278447  0.569788  ...  0.592064  0.680034  0.582279\n",
              "2  0.512776  0.657998  0.016967  ...  0.038533  0.068783  0.806877\n",
              "3  0.799110  0.557030  0.005385  ...  0.408375  0.478540  0.368358\n",
              "\n",
              "[4 rows x 8 columns]"
            ]
          },
          "metadata": {
            "tags": []
          },
          "execution_count": 11
        }
      ]
    },
    {
      "cell_type": "markdown",
      "metadata": {
        "id": "zVr7C6AzzMfO"
      },
      "source": [
        "\n",
        "# Reverse order\n",
        "\n",
        "\n",
        "> row order\n",
        "\n",
        "> column order\n",
        "\n"
      ]
    },
    {
      "cell_type": "code",
      "metadata": {
        "id": "fvFw-E-MzVe0"
      },
      "source": [
        "drinks = pd.read_csv('https://raw.githubusercontent.com/justmarkham/pandas-videos/master/data/drinks.csv')"
      ],
      "execution_count": null,
      "outputs": []
    },
    {
      "cell_type": "code",
      "metadata": {
        "colab": {
          "base_uri": "https://localhost:8080/",
          "height": 232
        },
        "id": "qR6JBmQGzava",
        "outputId": "6f6ad2f9-c390-4430-c20e-1d56dfa93059"
      },
      "source": [
        "drinks.loc[::-1].reset_index(drop=True).head()"
      ],
      "execution_count": null,
      "outputs": [
        {
          "output_type": "execute_result",
          "data": {
            "text/html": [
              "<div>\n",
              "<style scoped>\n",
              "    .dataframe tbody tr th:only-of-type {\n",
              "        vertical-align: middle;\n",
              "    }\n",
              "\n",
              "    .dataframe tbody tr th {\n",
              "        vertical-align: top;\n",
              "    }\n",
              "\n",
              "    .dataframe thead th {\n",
              "        text-align: right;\n",
              "    }\n",
              "</style>\n",
              "<table border=\"1\" class=\"dataframe\">\n",
              "  <thead>\n",
              "    <tr style=\"text-align: right;\">\n",
              "      <th></th>\n",
              "      <th>country</th>\n",
              "      <th>beer_servings</th>\n",
              "      <th>spirit_servings</th>\n",
              "      <th>wine_servings</th>\n",
              "      <th>total_litres_of_pure_alcohol</th>\n",
              "      <th>continent</th>\n",
              "    </tr>\n",
              "  </thead>\n",
              "  <tbody>\n",
              "    <tr>\n",
              "      <th>0</th>\n",
              "      <td>Zimbabwe</td>\n",
              "      <td>64</td>\n",
              "      <td>18</td>\n",
              "      <td>4</td>\n",
              "      <td>4.7</td>\n",
              "      <td>Africa</td>\n",
              "    </tr>\n",
              "    <tr>\n",
              "      <th>1</th>\n",
              "      <td>Zambia</td>\n",
              "      <td>32</td>\n",
              "      <td>19</td>\n",
              "      <td>4</td>\n",
              "      <td>2.5</td>\n",
              "      <td>Africa</td>\n",
              "    </tr>\n",
              "    <tr>\n",
              "      <th>2</th>\n",
              "      <td>Yemen</td>\n",
              "      <td>6</td>\n",
              "      <td>0</td>\n",
              "      <td>0</td>\n",
              "      <td>0.1</td>\n",
              "      <td>Asia</td>\n",
              "    </tr>\n",
              "    <tr>\n",
              "      <th>3</th>\n",
              "      <td>Vietnam</td>\n",
              "      <td>111</td>\n",
              "      <td>2</td>\n",
              "      <td>1</td>\n",
              "      <td>2.0</td>\n",
              "      <td>Asia</td>\n",
              "    </tr>\n",
              "    <tr>\n",
              "      <th>4</th>\n",
              "      <td>Venezuela</td>\n",
              "      <td>333</td>\n",
              "      <td>100</td>\n",
              "      <td>3</td>\n",
              "      <td>7.7</td>\n",
              "      <td>South America</td>\n",
              "    </tr>\n",
              "  </tbody>\n",
              "</table>\n",
              "</div>"
            ],
            "text/plain": [
              "     country  beer_servings  ...  total_litres_of_pure_alcohol      continent\n",
              "0   Zimbabwe             64  ...                           4.7         Africa\n",
              "1     Zambia             32  ...                           2.5         Africa\n",
              "2      Yemen              6  ...                           0.1           Asia\n",
              "3    Vietnam            111  ...                           2.0           Asia\n",
              "4  Venezuela            333  ...                           7.7  South America\n",
              "\n",
              "[5 rows x 6 columns]"
            ]
          },
          "metadata": {
            "tags": []
          },
          "execution_count": 19
        }
      ]
    },
    {
      "cell_type": "code",
      "metadata": {
        "colab": {
          "base_uri": "https://localhost:8080/",
          "height": 215
        },
        "id": "j2pb5h2Bzp_j",
        "outputId": "bbd5261d-d3b7-4f2d-94a4-ba8497c4e9b6"
      },
      "source": [
        "drinks.loc[:,::-1].head()"
      ],
      "execution_count": null,
      "outputs": [
        {
          "output_type": "execute_result",
          "data": {
            "text/html": [
              "<div>\n",
              "<style scoped>\n",
              "    .dataframe tbody tr th:only-of-type {\n",
              "        vertical-align: middle;\n",
              "    }\n",
              "\n",
              "    .dataframe tbody tr th {\n",
              "        vertical-align: top;\n",
              "    }\n",
              "\n",
              "    .dataframe thead th {\n",
              "        text-align: right;\n",
              "    }\n",
              "</style>\n",
              "<table border=\"1\" class=\"dataframe\">\n",
              "  <thead>\n",
              "    <tr style=\"text-align: right;\">\n",
              "      <th></th>\n",
              "      <th>continent</th>\n",
              "      <th>total_litres_of_pure_alcohol</th>\n",
              "      <th>wine_servings</th>\n",
              "      <th>spirit_servings</th>\n",
              "      <th>beer_servings</th>\n",
              "      <th>country</th>\n",
              "    </tr>\n",
              "  </thead>\n",
              "  <tbody>\n",
              "    <tr>\n",
              "      <th>0</th>\n",
              "      <td>Asia</td>\n",
              "      <td>0.0</td>\n",
              "      <td>0</td>\n",
              "      <td>0</td>\n",
              "      <td>0</td>\n",
              "      <td>Afghanistan</td>\n",
              "    </tr>\n",
              "    <tr>\n",
              "      <th>1</th>\n",
              "      <td>Europe</td>\n",
              "      <td>4.9</td>\n",
              "      <td>54</td>\n",
              "      <td>132</td>\n",
              "      <td>89</td>\n",
              "      <td>Albania</td>\n",
              "    </tr>\n",
              "    <tr>\n",
              "      <th>2</th>\n",
              "      <td>Africa</td>\n",
              "      <td>0.7</td>\n",
              "      <td>14</td>\n",
              "      <td>0</td>\n",
              "      <td>25</td>\n",
              "      <td>Algeria</td>\n",
              "    </tr>\n",
              "    <tr>\n",
              "      <th>3</th>\n",
              "      <td>Europe</td>\n",
              "      <td>12.4</td>\n",
              "      <td>312</td>\n",
              "      <td>138</td>\n",
              "      <td>245</td>\n",
              "      <td>Andorra</td>\n",
              "    </tr>\n",
              "    <tr>\n",
              "      <th>4</th>\n",
              "      <td>Africa</td>\n",
              "      <td>5.9</td>\n",
              "      <td>45</td>\n",
              "      <td>57</td>\n",
              "      <td>217</td>\n",
              "      <td>Angola</td>\n",
              "    </tr>\n",
              "  </tbody>\n",
              "</table>\n",
              "</div>"
            ],
            "text/plain": [
              "  continent  total_litres_of_pure_alcohol  ...  beer_servings      country\n",
              "0      Asia                           0.0  ...              0  Afghanistan\n",
              "1    Europe                           4.9  ...             89      Albania\n",
              "2    Africa                           0.7  ...             25      Algeria\n",
              "3    Europe                          12.4  ...            245      Andorra\n",
              "4    Africa                           5.9  ...            217       Angola\n",
              "\n",
              "[5 rows x 6 columns]"
            ]
          },
          "metadata": {
            "tags": []
          },
          "execution_count": 20
        }
      ]
    },
    {
      "cell_type": "markdown",
      "metadata": {
        "id": "PILZI2sH2zsa"
      },
      "source": [
        "# Select by data type"
      ]
    },
    {
      "cell_type": "code",
      "metadata": {
        "id": "E7BJQQqY251R",
        "colab": {
          "base_uri": "https://localhost:8080/"
        },
        "outputId": "b8476f9f-c790-4567-f476-09f65ec53136"
      },
      "source": [
        "drinks.dtypes"
      ],
      "execution_count": null,
      "outputs": [
        {
          "output_type": "execute_result",
          "data": {
            "text/plain": [
              "country                          object\n",
              "beer_servings                     int64\n",
              "spirit_servings                   int64\n",
              "wine_servings                     int64\n",
              "total_litres_of_pure_alcohol    float64\n",
              "continent                        object\n",
              "dtype: object"
            ]
          },
          "metadata": {
            "tags": []
          },
          "execution_count": 4
        }
      ]
    },
    {
      "cell_type": "code",
      "metadata": {
        "id": "Dt2z6ZzLuRSJ"
      },
      "source": [
        "drinks.select_dtypes(include=['number','object']).head()"
      ],
      "execution_count": null,
      "outputs": []
    },
    {
      "cell_type": "code",
      "metadata": {
        "id": "FQs4Aj-6vU9Z"
      },
      "source": [
        "drinks.select_dtypes(exclude='object').head()"
      ],
      "execution_count": null,
      "outputs": []
    },
    {
      "cell_type": "markdown",
      "metadata": {
        "id": "zB6gi0Brv10C"
      },
      "source": [
        "# Convert string to number"
      ]
    },
    {
      "cell_type": "code",
      "metadata": {
        "id": "301gBRvEv5U0"
      },
      "source": [
        "df = pd.DataFrame({'col_one':['1.1','1.2','1.3',],\n",
        "                   'col_two':['2.1','2.2','2.3',],'col_three':['3.1','3.2','-',]})\n",
        "df"
      ],
      "execution_count": null,
      "outputs": []
    },
    {
      "cell_type": "code",
      "metadata": {
        "id": "JVcHQGlPwizX"
      },
      "source": [
        "df.astype({'col_one':'float','col_two':'float'}).dtypes"
      ],
      "execution_count": null,
      "outputs": []
    },
    {
      "cell_type": "code",
      "metadata": {
        "id": "PAuKNb4Gw3xh"
      },
      "source": [
        "pd.to_numeric(df.col_three, errors = 'coerce')"
      ],
      "execution_count": null,
      "outputs": []
    },
    {
      "cell_type": "code",
      "metadata": {
        "id": "iet8wCiFxORD"
      },
      "source": [
        "df = df.apply(pd.to_numeric, errors = 'coerce').fillna(0)\n",
        "df"
      ],
      "execution_count": null,
      "outputs": []
    },
    {
      "cell_type": "markdown",
      "metadata": {
        "id": "tXyCSVhuyXrI"
      },
      "source": [
        "# Reduce DataFrame size"
      ]
    },
    {
      "cell_type": "code",
      "metadata": {
        "colab": {
          "base_uri": "https://localhost:8080/"
        },
        "id": "5YaqEYYmycPJ",
        "outputId": "5cfb4ca6-002b-4204-aff7-ff7ecaeb35c4"
      },
      "source": [
        "drinks.info(memory_usage='deep')"
      ],
      "execution_count": null,
      "outputs": [
        {
          "output_type": "stream",
          "text": [
            "<class 'pandas.core.frame.DataFrame'>\n",
            "RangeIndex: 193 entries, 0 to 192\n",
            "Data columns (total 6 columns):\n",
            " #   Column                        Non-Null Count  Dtype  \n",
            "---  ------                        --------------  -----  \n",
            " 0   country                       193 non-null    object \n",
            " 1   beer_servings                 193 non-null    int64  \n",
            " 2   spirit_servings               193 non-null    int64  \n",
            " 3   wine_servings                 193 non-null    int64  \n",
            " 4   total_litres_of_pure_alcohol  193 non-null    float64\n",
            " 5   continent                     193 non-null    object \n",
            "dtypes: float64(1), int64(3), object(2)\n",
            "memory usage: 30.5 KB\n"
          ],
          "name": "stdout"
        }
      ]
    },
    {
      "cell_type": "code",
      "metadata": {
        "colab": {
          "base_uri": "https://localhost:8080/"
        },
        "id": "y0VO3WFtyxcP",
        "outputId": "8dbcd92f-2b53-43f9-88c9-3480503c1a29"
      },
      "source": [
        "cols = ['beer_servings','continent']\n",
        "dtypes = {'continent':'category'}\n",
        "small_drinks = pd.read_csv('https://raw.githubusercontent.com/justmarkham/pandas-videos/master/data/drinks.csv',\n",
        "                           usecols=cols, dtype = dtypes)\n",
        "small_drinks.info(memory_usage='deep')"
      ],
      "execution_count": null,
      "outputs": [
        {
          "output_type": "stream",
          "text": [
            "<class 'pandas.core.frame.DataFrame'>\n",
            "RangeIndex: 193 entries, 0 to 192\n",
            "Data columns (total 2 columns):\n",
            " #   Column         Non-Null Count  Dtype   \n",
            "---  ------         --------------  -----   \n",
            " 0   beer_servings  193 non-null    int64   \n",
            " 1   continent      193 non-null    category\n",
            "dtypes: category(1), int64(1)\n",
            "memory usage: 2.4 KB\n"
          ],
          "name": "stdout"
        }
      ]
    },
    {
      "cell_type": "markdown",
      "metadata": {
        "id": "T8cIrjRkdx4I"
      },
      "source": [
        "\n",
        "# Build a DataFrame from multiple files(row-wise)"
      ]
    },
    {
      "cell_type": "code",
      "metadata": {
        "colab": {
          "base_uri": "https://localhost:8080/"
        },
        "id": "JjWWaGGBd8Kw",
        "outputId": "bef49fcf-59ef-4b51-b580-35bd4abaf7cd"
      },
      "source": [
        "from glob import glob\n",
        "\n",
        "stock_files = sorted(glob('data/stocks*.csv'))\n",
        "stock_files"
      ],
      "execution_count": null,
      "outputs": [
        {
          "output_type": "execute_result",
          "data": {
            "text/plain": [
              "['data/stocks.csv', 'data/stocks1.csv', 'data/stocks2.csv', 'data/stocks3.csv']"
            ]
          },
          "metadata": {
            "tags": []
          },
          "execution_count": 10
        }
      ]
    },
    {
      "cell_type": "code",
      "metadata": {
        "id": "-sQfobkwfBKd"
      },
      "source": [
        "pd.concat((pd.read_csv(file) for file in stock_files) , ignore_index= True )"
      ],
      "execution_count": null,
      "outputs": []
    },
    {
      "cell_type": "markdown",
      "metadata": {
        "id": "XWc05awbflAi"
      },
      "source": [
        "\n",
        "# Build a DataFrame from multiple files(column-wise)"
      ]
    },
    {
      "cell_type": "code",
      "metadata": {
        "colab": {
          "base_uri": "https://localhost:8080/"
        },
        "id": "krRx9jZofsRo",
        "outputId": "21405f95-0d0e-4029-e150-c0ef033cd859"
      },
      "source": [
        "drink_files = sorted(glob('data/drinks*.csv'))\n",
        "drink_files"
      ],
      "execution_count": null,
      "outputs": [
        {
          "output_type": "execute_result",
          "data": {
            "text/plain": [
              "['data/drinks.csv', 'data/drinks1.csv', 'data/drinks2.csv']"
            ]
          },
          "metadata": {
            "tags": []
          },
          "execution_count": 15
        }
      ]
    },
    {
      "cell_type": "code",
      "metadata": {
        "colab": {
          "base_uri": "https://localhost:8080/",
          "height": 215
        },
        "id": "VgrmIpwff9hi",
        "outputId": "3190f9ed-50cc-4851-9bf0-b66d08a1d435"
      },
      "source": [
        "pd.concat((pd.read_csv(file) for file in drink_files), axis = 'columns' ).head()"
      ],
      "execution_count": null,
      "outputs": [
        {
          "output_type": "execute_result",
          "data": {
            "text/html": [
              "<div>\n",
              "<style scoped>\n",
              "    .dataframe tbody tr th:only-of-type {\n",
              "        vertical-align: middle;\n",
              "    }\n",
              "\n",
              "    .dataframe tbody tr th {\n",
              "        vertical-align: top;\n",
              "    }\n",
              "\n",
              "    .dataframe thead th {\n",
              "        text-align: right;\n",
              "    }\n",
              "</style>\n",
              "<table border=\"1\" class=\"dataframe\">\n",
              "  <thead>\n",
              "    <tr style=\"text-align: right;\">\n",
              "      <th></th>\n",
              "      <th>country</th>\n",
              "      <th>beer_servings</th>\n",
              "      <th>spirit_servings</th>\n",
              "      <th>wine_servings</th>\n",
              "      <th>total_litres_of_pure_alcohol</th>\n",
              "      <th>continent</th>\n",
              "      <th>country</th>\n",
              "      <th>beer_servings</th>\n",
              "      <th>spirit_servings</th>\n",
              "      <th>wine_servings</th>\n",
              "      <th>total_litres_of_pure_alcohol</th>\n",
              "      <th>continent</th>\n",
              "    </tr>\n",
              "  </thead>\n",
              "  <tbody>\n",
              "    <tr>\n",
              "      <th>0</th>\n",
              "      <td>Afghanistan</td>\n",
              "      <td>0</td>\n",
              "      <td>0</td>\n",
              "      <td>0</td>\n",
              "      <td>0.0</td>\n",
              "      <td>Asia</td>\n",
              "      <td>Afghanistan</td>\n",
              "      <td>0</td>\n",
              "      <td>0</td>\n",
              "      <td>0</td>\n",
              "      <td>0.0</td>\n",
              "      <td>Asia</td>\n",
              "    </tr>\n",
              "    <tr>\n",
              "      <th>1</th>\n",
              "      <td>Albania</td>\n",
              "      <td>89</td>\n",
              "      <td>132</td>\n",
              "      <td>54</td>\n",
              "      <td>4.9</td>\n",
              "      <td>Europe</td>\n",
              "      <td>Albania</td>\n",
              "      <td>89</td>\n",
              "      <td>132</td>\n",
              "      <td>54</td>\n",
              "      <td>4.9</td>\n",
              "      <td>Europe</td>\n",
              "    </tr>\n",
              "    <tr>\n",
              "      <th>2</th>\n",
              "      <td>Algeria</td>\n",
              "      <td>25</td>\n",
              "      <td>0</td>\n",
              "      <td>14</td>\n",
              "      <td>0.7</td>\n",
              "      <td>Africa</td>\n",
              "      <td>Algeria</td>\n",
              "      <td>25</td>\n",
              "      <td>0</td>\n",
              "      <td>14</td>\n",
              "      <td>0.7</td>\n",
              "      <td>Africa</td>\n",
              "    </tr>\n",
              "    <tr>\n",
              "      <th>3</th>\n",
              "      <td>Andorra</td>\n",
              "      <td>245</td>\n",
              "      <td>138</td>\n",
              "      <td>312</td>\n",
              "      <td>12.4</td>\n",
              "      <td>Europe</td>\n",
              "      <td>Andorra</td>\n",
              "      <td>245</td>\n",
              "      <td>138</td>\n",
              "      <td>312</td>\n",
              "      <td>12.4</td>\n",
              "      <td>Europe</td>\n",
              "    </tr>\n",
              "    <tr>\n",
              "      <th>4</th>\n",
              "      <td>Angola</td>\n",
              "      <td>217</td>\n",
              "      <td>57</td>\n",
              "      <td>45</td>\n",
              "      <td>5.9</td>\n",
              "      <td>Africa</td>\n",
              "      <td>Angola</td>\n",
              "      <td>217</td>\n",
              "      <td>57</td>\n",
              "      <td>45</td>\n",
              "      <td>5.9</td>\n",
              "      <td>Africa</td>\n",
              "    </tr>\n",
              "  </tbody>\n",
              "</table>\n",
              "</div>"
            ],
            "text/plain": [
              "       country  beer_servings  ...  total_litres_of_pure_alcohol  continent\n",
              "0  Afghanistan              0  ...                           0.0       Asia\n",
              "1      Albania             89  ...                           4.9     Europe\n",
              "2      Algeria             25  ...                           0.7     Africa\n",
              "3      Andorra            245  ...                          12.4     Europe\n",
              "4       Angola            217  ...                           5.9     Africa\n",
              "\n",
              "[5 rows x 12 columns]"
            ]
          },
          "metadata": {
            "tags": []
          },
          "execution_count": 18
        }
      ]
    },
    {
      "cell_type": "markdown",
      "metadata": {
        "id": "ke4vS82kg4ZH"
      },
      "source": [
        "# Split a DataFrame into two random subsets"
      ]
    },
    {
      "cell_type": "code",
      "metadata": {
        "colab": {
          "base_uri": "https://localhost:8080/"
        },
        "id": "SF3qvx95hBcF",
        "outputId": "38703c1c-1410-4b33-b76f-0d006ed25c54"
      },
      "source": [
        "movies = pd.read_csv('data/imdb_1000.csv')\n",
        "len(movies)"
      ],
      "execution_count": null,
      "outputs": [
        {
          "output_type": "execute_result",
          "data": {
            "text/plain": [
              "979"
            ]
          },
          "metadata": {
            "tags": []
          },
          "execution_count": 21
        }
      ]
    },
    {
      "cell_type": "code",
      "metadata": {
        "id": "cTco7xOhhLVP",
        "colab": {
          "base_uri": "https://localhost:8080/"
        },
        "outputId": "e9a6d67d-6392-4dae-e4be-fd59514fe0dc"
      },
      "source": [
        "# just works fot data with unique index\n",
        "movie1 = movies.sample(frac = 0.75,random_state = 12345)\n",
        "movie2 = movies.drop(movie1.index)\n",
        "len(movie1) + len(movie2)"
      ],
      "execution_count": null,
      "outputs": [
        {
          "output_type": "execute_result",
          "data": {
            "text/plain": [
              "979"
            ]
          },
          "metadata": {
            "tags": []
          },
          "execution_count": 22
        }
      ]
    },
    {
      "cell_type": "code",
      "metadata": {
        "colab": {
          "base_uri": "https://localhost:8080/"
        },
        "id": "bL0xpoh9Lnko",
        "outputId": "05e80a0b-1094-480a-bd10-0a1bb1b89fac"
      },
      "source": [
        "movie1.index.sort_values()"
      ],
      "execution_count": null,
      "outputs": [
        {
          "output_type": "execute_result",
          "data": {
            "text/plain": [
              "Int64Index([  0,   2,   3,   4,   6,   7,   8,   9,  10,  11,\n",
              "            ...\n",
              "            969, 970, 971, 972, 973, 974, 975, 976, 977, 978],\n",
              "           dtype='int64', length=734)"
            ]
          },
          "metadata": {
            "tags": []
          },
          "execution_count": 23
        }
      ]
    },
    {
      "cell_type": "code",
      "metadata": {
        "colab": {
          "base_uri": "https://localhost:8080/"
        },
        "id": "HFjCFIbNLveL",
        "outputId": "d1bfffbb-12c1-43e4-b035-1f11c44bc7fe"
      },
      "source": [
        "movie2.index.sort_values()"
      ],
      "execution_count": null,
      "outputs": [
        {
          "output_type": "execute_result",
          "data": {
            "text/plain": [
              "Int64Index([  1,   5,  15,  23,  26,  29,  32,  34,  36,  37,\n",
              "            ...\n",
              "            913, 914, 915, 916, 918, 919, 921, 926, 929, 941],\n",
              "           dtype='int64', length=245)"
            ]
          },
          "metadata": {
            "tags": []
          },
          "execution_count": 24
        }
      ]
    },
    {
      "cell_type": "markdown",
      "metadata": {
        "id": "ARAmC8LRL4m5"
      },
      "source": [
        "# Filter a DataFrame by multiple categories"
      ]
    },
    {
      "cell_type": "code",
      "metadata": {
        "colab": {
          "base_uri": "https://localhost:8080/"
        },
        "id": "ga8LC8QeMGL3",
        "outputId": "b571e417-5312-4bcb-ae33-1e590eda2a95"
      },
      "source": [
        "movies.genre.unique()"
      ],
      "execution_count": null,
      "outputs": [
        {
          "output_type": "execute_result",
          "data": {
            "text/plain": [
              "array(['Crime', 'Action', 'Drama', 'Western', 'Adventure', 'Biography',\n",
              "       'Comedy', 'Animation', 'Mystery', 'Horror', 'Film-Noir', 'Sci-Fi',\n",
              "       'History', 'Thriller', 'Family', 'Fantasy'], dtype=object)"
            ]
          },
          "metadata": {
            "tags": []
          },
          "execution_count": 25
        }
      ]
    },
    {
      "cell_type": "code",
      "metadata": {
        "colab": {
          "base_uri": "https://localhost:8080/",
          "height": 548
        },
        "id": "alwb6dyLMbHQ",
        "outputId": "67139542-c2e9-4c59-d501-d817aef7791f"
      },
      "source": [
        "movies[movies.genre.isin(['Crime', 'Action', 'Drama'])].head()\n",
        "\n",
        "# or not\n",
        "\n",
        "movies[~movies.genre.isin(['Crime', 'Action', 'Drama'])].head()\n",
        "\n"
      ],
      "execution_count": null,
      "outputs": [
        {
          "output_type": "execute_result",
          "data": {
            "text/html": [
              "<div>\n",
              "<style scoped>\n",
              "    .dataframe tbody tr th:only-of-type {\n",
              "        vertical-align: middle;\n",
              "    }\n",
              "\n",
              "    .dataframe tbody tr th {\n",
              "        vertical-align: top;\n",
              "    }\n",
              "\n",
              "    .dataframe thead th {\n",
              "        text-align: right;\n",
              "    }\n",
              "</style>\n",
              "<table border=\"1\" class=\"dataframe\">\n",
              "  <thead>\n",
              "    <tr style=\"text-align: right;\">\n",
              "      <th></th>\n",
              "      <th>star_rating</th>\n",
              "      <th>title</th>\n",
              "      <th>content_rating</th>\n",
              "      <th>genre</th>\n",
              "      <th>duration</th>\n",
              "      <th>actors_list</th>\n",
              "    </tr>\n",
              "  </thead>\n",
              "  <tbody>\n",
              "    <tr>\n",
              "      <th>6</th>\n",
              "      <td>8.9</td>\n",
              "      <td>The Good, the Bad and the Ugly</td>\n",
              "      <td>NOT RATED</td>\n",
              "      <td>Western</td>\n",
              "      <td>161</td>\n",
              "      <td>[u'Clint Eastwood', u'Eli Wallach', u'Lee Van ...</td>\n",
              "    </tr>\n",
              "    <tr>\n",
              "      <th>7</th>\n",
              "      <td>8.9</td>\n",
              "      <td>The Lord of the Rings: The Return of the King</td>\n",
              "      <td>PG-13</td>\n",
              "      <td>Adventure</td>\n",
              "      <td>201</td>\n",
              "      <td>[u'Elijah Wood', u'Viggo Mortensen', u'Ian McK...</td>\n",
              "    </tr>\n",
              "    <tr>\n",
              "      <th>8</th>\n",
              "      <td>8.9</td>\n",
              "      <td>Schindler's List</td>\n",
              "      <td>R</td>\n",
              "      <td>Biography</td>\n",
              "      <td>195</td>\n",
              "      <td>[u'Liam Neeson', u'Ralph Fiennes', u'Ben Kings...</td>\n",
              "    </tr>\n",
              "    <tr>\n",
              "      <th>10</th>\n",
              "      <td>8.8</td>\n",
              "      <td>The Lord of the Rings: The Fellowship of the Ring</td>\n",
              "      <td>PG-13</td>\n",
              "      <td>Adventure</td>\n",
              "      <td>178</td>\n",
              "      <td>[u'Elijah Wood', u'Ian McKellen', u'Orlando Bl...</td>\n",
              "    </tr>\n",
              "    <tr>\n",
              "      <th>14</th>\n",
              "      <td>8.8</td>\n",
              "      <td>The Lord of the Rings: The Two Towers</td>\n",
              "      <td>PG-13</td>\n",
              "      <td>Adventure</td>\n",
              "      <td>179</td>\n",
              "      <td>[u'Elijah Wood', u'Ian McKellen', u'Viggo Mort...</td>\n",
              "    </tr>\n",
              "  </tbody>\n",
              "</table>\n",
              "</div>"
            ],
            "text/plain": [
              "    star_rating  ...                                        actors_list\n",
              "6           8.9  ...  [u'Clint Eastwood', u'Eli Wallach', u'Lee Van ...\n",
              "7           8.9  ...  [u'Elijah Wood', u'Viggo Mortensen', u'Ian McK...\n",
              "8           8.9  ...  [u'Liam Neeson', u'Ralph Fiennes', u'Ben Kings...\n",
              "10          8.8  ...  [u'Elijah Wood', u'Ian McKellen', u'Orlando Bl...\n",
              "14          8.8  ...  [u'Elijah Wood', u'Ian McKellen', u'Viggo Mort...\n",
              "\n",
              "[5 rows x 6 columns]"
            ]
          },
          "metadata": {
            "tags": []
          },
          "execution_count": 30
        }
      ]
    },
    {
      "cell_type": "markdown",
      "metadata": {
        "id": "_pAcx0rZM40Z"
      },
      "source": [
        "# Filter a DataFrame by largest categories"
      ]
    },
    {
      "cell_type": "code",
      "metadata": {
        "colab": {
          "base_uri": "https://localhost:8080/"
        },
        "id": "PY3ZsXBuM6bD",
        "outputId": "834cbbc7-c0f9-43ec-fb77-1fac44b174d1"
      },
      "source": [
        "count = movies.genre.value_counts()\n",
        "count"
      ],
      "execution_count": null,
      "outputs": [
        {
          "output_type": "execute_result",
          "data": {
            "text/plain": [
              "Drama        278\n",
              "Comedy       156\n",
              "Action       136\n",
              "Crime        124\n",
              "Biography     77\n",
              "Adventure     75\n",
              "Animation     62\n",
              "Horror        29\n",
              "Mystery       16\n",
              "Western        9\n",
              "Thriller       5\n",
              "Sci-Fi         5\n",
              "Film-Noir      3\n",
              "Family         2\n",
              "History        1\n",
              "Fantasy        1\n",
              "Name: genre, dtype: int64"
            ]
          },
          "metadata": {
            "tags": []
          },
          "execution_count": 32
        }
      ]
    },
    {
      "cell_type": "code",
      "metadata": {
        "colab": {
          "base_uri": "https://localhost:8080/"
        },
        "id": "8y_LXaXINSC7",
        "outputId": "3e1963e5-49d8-479c-da6a-12ff60bb65d5"
      },
      "source": [
        "count.nlargest(3)"
      ],
      "execution_count": null,
      "outputs": [
        {
          "output_type": "execute_result",
          "data": {
            "text/plain": [
              "Drama     278\n",
              "Comedy    156\n",
              "Action    136\n",
              "Name: genre, dtype: int64"
            ]
          },
          "metadata": {
            "tags": []
          },
          "execution_count": 33
        }
      ]
    },
    {
      "cell_type": "code",
      "metadata": {
        "colab": {
          "base_uri": "https://localhost:8080/"
        },
        "id": "r9YY_7EWNbxr",
        "outputId": "63262246-bcea-4cd2-ce57-03547d5cb400"
      },
      "source": [
        "count.nlargest(3).index"
      ],
      "execution_count": null,
      "outputs": [
        {
          "output_type": "execute_result",
          "data": {
            "text/plain": [
              "Index(['Drama', 'Comedy', 'Action'], dtype='object')"
            ]
          },
          "metadata": {
            "tags": []
          },
          "execution_count": 34
        }
      ]
    },
    {
      "cell_type": "code",
      "metadata": {
        "id": "WZkIhoemNfC9"
      },
      "source": [
        "movies[movies.genre.isin(count.nlargest(3).index)].head()"
      ],
      "execution_count": null,
      "outputs": []
    },
    {
      "cell_type": "markdown",
      "metadata": {
        "id": "XUN_DMu3NwNA"
      },
      "source": [
        "# Handle missing values"
      ]
    },
    {
      "cell_type": "code",
      "metadata": {
        "colab": {
          "base_uri": "https://localhost:8080/"
        },
        "id": "63KZj9gNNy9q",
        "outputId": "9294300e-59ff-4978-ea1f-1375a282ccf1"
      },
      "source": [
        "ufo = pd.read_csv('data/ufo.csv')\n",
        "\n",
        "# number of nulls per each column\n",
        "ufo.isna().sum()\n"
      ],
      "execution_count": null,
      "outputs": [
        {
          "output_type": "execute_result",
          "data": {
            "text/plain": [
              "City                  25\n",
              "Colors Reported    15359\n",
              "Shape Reported      2644\n",
              "State                  0\n",
              "Time                   0\n",
              "dtype: int64"
            ]
          },
          "metadata": {
            "tags": []
          },
          "execution_count": 37
        }
      ]
    },
    {
      "cell_type": "code",
      "metadata": {
        "colab": {
          "base_uri": "https://localhost:8080/"
        },
        "id": "WcYQzmFtOSzL",
        "outputId": "a883f3ab-22fe-487a-912b-0f7c618f0bca"
      },
      "source": [
        "ufo.isna().mean()"
      ],
      "execution_count": null,
      "outputs": [
        {
          "output_type": "execute_result",
          "data": {
            "text/plain": [
              "City               0.001371\n",
              "Colors Reported    0.842004\n",
              "Shape Reported     0.144948\n",
              "State              0.000000\n",
              "Time               0.000000\n",
              "dtype: float64"
            ]
          },
          "metadata": {
            "tags": []
          },
          "execution_count": 38
        }
      ]
    },
    {
      "cell_type": "code",
      "metadata": {
        "colab": {
          "base_uri": "https://localhost:8080/",
          "height": 195
        },
        "id": "1AYEBp-XOd8I",
        "outputId": "d942aa75-4a97-4e01-9009-2e36de912c70"
      },
      "source": [
        "ufo.dropna(axis='columns').head()"
      ],
      "execution_count": null,
      "outputs": [
        {
          "output_type": "execute_result",
          "data": {
            "text/html": [
              "<div>\n",
              "<style scoped>\n",
              "    .dataframe tbody tr th:only-of-type {\n",
              "        vertical-align: middle;\n",
              "    }\n",
              "\n",
              "    .dataframe tbody tr th {\n",
              "        vertical-align: top;\n",
              "    }\n",
              "\n",
              "    .dataframe thead th {\n",
              "        text-align: right;\n",
              "    }\n",
              "</style>\n",
              "<table border=\"1\" class=\"dataframe\">\n",
              "  <thead>\n",
              "    <tr style=\"text-align: right;\">\n",
              "      <th></th>\n",
              "      <th>State</th>\n",
              "      <th>Time</th>\n",
              "    </tr>\n",
              "  </thead>\n",
              "  <tbody>\n",
              "    <tr>\n",
              "      <th>0</th>\n",
              "      <td>NY</td>\n",
              "      <td>6/1/1930 22:00</td>\n",
              "    </tr>\n",
              "    <tr>\n",
              "      <th>1</th>\n",
              "      <td>NJ</td>\n",
              "      <td>6/30/1930 20:00</td>\n",
              "    </tr>\n",
              "    <tr>\n",
              "      <th>2</th>\n",
              "      <td>CO</td>\n",
              "      <td>2/15/1931 14:00</td>\n",
              "    </tr>\n",
              "    <tr>\n",
              "      <th>3</th>\n",
              "      <td>KS</td>\n",
              "      <td>6/1/1931 13:00</td>\n",
              "    </tr>\n",
              "    <tr>\n",
              "      <th>4</th>\n",
              "      <td>NY</td>\n",
              "      <td>4/18/1933 19:00</td>\n",
              "    </tr>\n",
              "  </tbody>\n",
              "</table>\n",
              "</div>"
            ],
            "text/plain": [
              "  State             Time\n",
              "0    NY   6/1/1930 22:00\n",
              "1    NJ  6/30/1930 20:00\n",
              "2    CO  2/15/1931 14:00\n",
              "3    KS   6/1/1931 13:00\n",
              "4    NY  4/18/1933 19:00"
            ]
          },
          "metadata": {
            "tags": []
          },
          "execution_count": 39
        }
      ]
    },
    {
      "cell_type": "code",
      "metadata": {
        "colab": {
          "base_uri": "https://localhost:8080/",
          "height": 195
        },
        "id": "pv5eYeXFO0Mt",
        "outputId": "ab5546c9-4e77-4536-a050-13ab77fe33a8"
      },
      "source": [
        "# droping only rows with >='10%' of values\n",
        "\n",
        "# number of rows = len(ufo)\n",
        "\n",
        "ufo.dropna(thresh= 0.9 * len(ufo), axis='columns').head()"
      ],
      "execution_count": null,
      "outputs": [
        {
          "output_type": "execute_result",
          "data": {
            "text/html": [
              "<div>\n",
              "<style scoped>\n",
              "    .dataframe tbody tr th:only-of-type {\n",
              "        vertical-align: middle;\n",
              "    }\n",
              "\n",
              "    .dataframe tbody tr th {\n",
              "        vertical-align: top;\n",
              "    }\n",
              "\n",
              "    .dataframe thead th {\n",
              "        text-align: right;\n",
              "    }\n",
              "</style>\n",
              "<table border=\"1\" class=\"dataframe\">\n",
              "  <thead>\n",
              "    <tr style=\"text-align: right;\">\n",
              "      <th></th>\n",
              "      <th>City</th>\n",
              "      <th>State</th>\n",
              "      <th>Time</th>\n",
              "    </tr>\n",
              "  </thead>\n",
              "  <tbody>\n",
              "    <tr>\n",
              "      <th>0</th>\n",
              "      <td>Ithaca</td>\n",
              "      <td>NY</td>\n",
              "      <td>6/1/1930 22:00</td>\n",
              "    </tr>\n",
              "    <tr>\n",
              "      <th>1</th>\n",
              "      <td>Willingboro</td>\n",
              "      <td>NJ</td>\n",
              "      <td>6/30/1930 20:00</td>\n",
              "    </tr>\n",
              "    <tr>\n",
              "      <th>2</th>\n",
              "      <td>Holyoke</td>\n",
              "      <td>CO</td>\n",
              "      <td>2/15/1931 14:00</td>\n",
              "    </tr>\n",
              "    <tr>\n",
              "      <th>3</th>\n",
              "      <td>Abilene</td>\n",
              "      <td>KS</td>\n",
              "      <td>6/1/1931 13:00</td>\n",
              "    </tr>\n",
              "    <tr>\n",
              "      <th>4</th>\n",
              "      <td>New York Worlds Fair</td>\n",
              "      <td>NY</td>\n",
              "      <td>4/18/1933 19:00</td>\n",
              "    </tr>\n",
              "  </tbody>\n",
              "</table>\n",
              "</div>"
            ],
            "text/plain": [
              "                   City State             Time\n",
              "0                Ithaca    NY   6/1/1930 22:00\n",
              "1           Willingboro    NJ  6/30/1930 20:00\n",
              "2               Holyoke    CO  2/15/1931 14:00\n",
              "3               Abilene    KS   6/1/1931 13:00\n",
              "4  New York Worlds Fair    NY  4/18/1933 19:00"
            ]
          },
          "metadata": {
            "tags": []
          },
          "execution_count": 40
        }
      ]
    },
    {
      "cell_type": "markdown",
      "metadata": {
        "id": "oDClatCjPYgh"
      },
      "source": [
        "# Split a string into multiple columns"
      ]
    },
    {
      "cell_type": "code",
      "metadata": {
        "colab": {
          "base_uri": "https://localhost:8080/",
          "height": 106
        },
        "id": "8j7fJZSDPdby",
        "outputId": "cee04a62-603a-4ba0-fecb-b4ae5c088f6d"
      },
      "source": [
        "df = pd.DataFrame({'name':['John Arthur Doe','Jane Ann Smith'],\n",
        "                   'location':['Los Angeles , CA','Washington, DC']})\n",
        "df"
      ],
      "execution_count": null,
      "outputs": [
        {
          "output_type": "execute_result",
          "data": {
            "text/html": [
              "<div>\n",
              "<style scoped>\n",
              "    .dataframe tbody tr th:only-of-type {\n",
              "        vertical-align: middle;\n",
              "    }\n",
              "\n",
              "    .dataframe tbody tr th {\n",
              "        vertical-align: top;\n",
              "    }\n",
              "\n",
              "    .dataframe thead th {\n",
              "        text-align: right;\n",
              "    }\n",
              "</style>\n",
              "<table border=\"1\" class=\"dataframe\">\n",
              "  <thead>\n",
              "    <tr style=\"text-align: right;\">\n",
              "      <th></th>\n",
              "      <th>name</th>\n",
              "      <th>location</th>\n",
              "    </tr>\n",
              "  </thead>\n",
              "  <tbody>\n",
              "    <tr>\n",
              "      <th>0</th>\n",
              "      <td>John Arthur Doe</td>\n",
              "      <td>Los Angeles , CA</td>\n",
              "    </tr>\n",
              "    <tr>\n",
              "      <th>1</th>\n",
              "      <td>Jane Ann Smith</td>\n",
              "      <td>Washington, DC</td>\n",
              "    </tr>\n",
              "  </tbody>\n",
              "</table>\n",
              "</div>"
            ],
            "text/plain": [
              "              name          location\n",
              "0  John Arthur Doe  Los Angeles , CA\n",
              "1   Jane Ann Smith    Washington, DC"
            ]
          },
          "metadata": {
            "tags": []
          },
          "execution_count": 42
        }
      ]
    },
    {
      "cell_type": "code",
      "metadata": {
        "colab": {
          "base_uri": "https://localhost:8080/",
          "height": 106
        },
        "id": "WVkYhSITQOP5",
        "outputId": "8a4cba46-9f00-4ad1-a15c-1272fc0e806f"
      },
      "source": [
        "df.name.str.split(' ', expand=True)"
      ],
      "execution_count": null,
      "outputs": [
        {
          "output_type": "execute_result",
          "data": {
            "text/html": [
              "<div>\n",
              "<style scoped>\n",
              "    .dataframe tbody tr th:only-of-type {\n",
              "        vertical-align: middle;\n",
              "    }\n",
              "\n",
              "    .dataframe tbody tr th {\n",
              "        vertical-align: top;\n",
              "    }\n",
              "\n",
              "    .dataframe thead th {\n",
              "        text-align: right;\n",
              "    }\n",
              "</style>\n",
              "<table border=\"1\" class=\"dataframe\">\n",
              "  <thead>\n",
              "    <tr style=\"text-align: right;\">\n",
              "      <th></th>\n",
              "      <th>0</th>\n",
              "      <th>1</th>\n",
              "      <th>2</th>\n",
              "    </tr>\n",
              "  </thead>\n",
              "  <tbody>\n",
              "    <tr>\n",
              "      <th>0</th>\n",
              "      <td>John</td>\n",
              "      <td>Arthur</td>\n",
              "      <td>Doe</td>\n",
              "    </tr>\n",
              "    <tr>\n",
              "      <th>1</th>\n",
              "      <td>Jane</td>\n",
              "      <td>Ann</td>\n",
              "      <td>Smith</td>\n",
              "    </tr>\n",
              "  </tbody>\n",
              "</table>\n",
              "</div>"
            ],
            "text/plain": [
              "      0       1      2\n",
              "0  John  Arthur    Doe\n",
              "1  Jane     Ann  Smith"
            ]
          },
          "metadata": {
            "tags": []
          },
          "execution_count": 44
        }
      ]
    },
    {
      "cell_type": "code",
      "metadata": {
        "colab": {
          "base_uri": "https://localhost:8080/",
          "height": 106
        },
        "id": "pJMISB1LQZWl",
        "outputId": "4d8e9699-794c-4335-b7f3-1b036d3eba16"
      },
      "source": [
        "df[['first','mid','last']]= df.name.str.split(' ', expand=True)\n",
        "df"
      ],
      "execution_count": null,
      "outputs": [
        {
          "output_type": "execute_result",
          "data": {
            "text/html": [
              "<div>\n",
              "<style scoped>\n",
              "    .dataframe tbody tr th:only-of-type {\n",
              "        vertical-align: middle;\n",
              "    }\n",
              "\n",
              "    .dataframe tbody tr th {\n",
              "        vertical-align: top;\n",
              "    }\n",
              "\n",
              "    .dataframe thead th {\n",
              "        text-align: right;\n",
              "    }\n",
              "</style>\n",
              "<table border=\"1\" class=\"dataframe\">\n",
              "  <thead>\n",
              "    <tr style=\"text-align: right;\">\n",
              "      <th></th>\n",
              "      <th>name</th>\n",
              "      <th>location</th>\n",
              "      <th>first</th>\n",
              "      <th>mid</th>\n",
              "      <th>last</th>\n",
              "    </tr>\n",
              "  </thead>\n",
              "  <tbody>\n",
              "    <tr>\n",
              "      <th>0</th>\n",
              "      <td>John Arthur Doe</td>\n",
              "      <td>Los Angeles , CA</td>\n",
              "      <td>John</td>\n",
              "      <td>Arthur</td>\n",
              "      <td>Doe</td>\n",
              "    </tr>\n",
              "    <tr>\n",
              "      <th>1</th>\n",
              "      <td>Jane Ann Smith</td>\n",
              "      <td>Washington, DC</td>\n",
              "      <td>Jane</td>\n",
              "      <td>Ann</td>\n",
              "      <td>Smith</td>\n",
              "    </tr>\n",
              "  </tbody>\n",
              "</table>\n",
              "</div>"
            ],
            "text/plain": [
              "              name          location first     mid   last\n",
              "0  John Arthur Doe  Los Angeles , CA  John  Arthur    Doe\n",
              "1   Jane Ann Smith    Washington, DC  Jane     Ann  Smith"
            ]
          },
          "metadata": {
            "tags": []
          },
          "execution_count": 46
        }
      ]
    },
    {
      "cell_type": "code",
      "metadata": {
        "colab": {
          "base_uri": "https://localhost:8080/",
          "height": 106
        },
        "id": "MepCb73SQk0x",
        "outputId": "1aadcd01-8a9a-4260-c35d-5a6ad04d4ef3"
      },
      "source": [
        "df['city']= df.location.str.split(',', expand=True)[0]\n",
        "df"
      ],
      "execution_count": null,
      "outputs": [
        {
          "output_type": "execute_result",
          "data": {
            "text/html": [
              "<div>\n",
              "<style scoped>\n",
              "    .dataframe tbody tr th:only-of-type {\n",
              "        vertical-align: middle;\n",
              "    }\n",
              "\n",
              "    .dataframe tbody tr th {\n",
              "        vertical-align: top;\n",
              "    }\n",
              "\n",
              "    .dataframe thead th {\n",
              "        text-align: right;\n",
              "    }\n",
              "</style>\n",
              "<table border=\"1\" class=\"dataframe\">\n",
              "  <thead>\n",
              "    <tr style=\"text-align: right;\">\n",
              "      <th></th>\n",
              "      <th>name</th>\n",
              "      <th>location</th>\n",
              "      <th>first</th>\n",
              "      <th>mid</th>\n",
              "      <th>last</th>\n",
              "      <th>city</th>\n",
              "    </tr>\n",
              "  </thead>\n",
              "  <tbody>\n",
              "    <tr>\n",
              "      <th>0</th>\n",
              "      <td>John Arthur Doe</td>\n",
              "      <td>Los Angeles , CA</td>\n",
              "      <td>John</td>\n",
              "      <td>Arthur</td>\n",
              "      <td>Doe</td>\n",
              "      <td>Los Angeles</td>\n",
              "    </tr>\n",
              "    <tr>\n",
              "      <th>1</th>\n",
              "      <td>Jane Ann Smith</td>\n",
              "      <td>Washington, DC</td>\n",
              "      <td>Jane</td>\n",
              "      <td>Ann</td>\n",
              "      <td>Smith</td>\n",
              "      <td>Washington</td>\n",
              "    </tr>\n",
              "  </tbody>\n",
              "</table>\n",
              "</div>"
            ],
            "text/plain": [
              "              name          location first     mid   last          city\n",
              "0  John Arthur Doe  Los Angeles , CA  John  Arthur    Doe  Los Angeles \n",
              "1   Jane Ann Smith    Washington, DC  Jane     Ann  Smith    Washington"
            ]
          },
          "metadata": {
            "tags": []
          },
          "execution_count": 47
        }
      ]
    },
    {
      "cell_type": "markdown",
      "metadata": {
        "id": "ewNLttUBQu_c"
      },
      "source": [
        "# Expand a Series of list into a DataFrame"
      ]
    },
    {
      "cell_type": "code",
      "metadata": {
        "colab": {
          "base_uri": "https://localhost:8080/",
          "height": 136
        },
        "id": "cVkw3h4jQwma",
        "outputId": "6d43bf12-c47b-48c8-d3bc-85af4d7cdb4b"
      },
      "source": [
        "df = pd.DataFrame({'col_one':['a','b','c'], 'col_two':[[10,40],[20,50],[30,60],]})\n",
        "df"
      ],
      "execution_count": null,
      "outputs": [
        {
          "output_type": "execute_result",
          "data": {
            "text/html": [
              "<div>\n",
              "<style scoped>\n",
              "    .dataframe tbody tr th:only-of-type {\n",
              "        vertical-align: middle;\n",
              "    }\n",
              "\n",
              "    .dataframe tbody tr th {\n",
              "        vertical-align: top;\n",
              "    }\n",
              "\n",
              "    .dataframe thead th {\n",
              "        text-align: right;\n",
              "    }\n",
              "</style>\n",
              "<table border=\"1\" class=\"dataframe\">\n",
              "  <thead>\n",
              "    <tr style=\"text-align: right;\">\n",
              "      <th></th>\n",
              "      <th>col_one</th>\n",
              "      <th>col_two</th>\n",
              "    </tr>\n",
              "  </thead>\n",
              "  <tbody>\n",
              "    <tr>\n",
              "      <th>0</th>\n",
              "      <td>a</td>\n",
              "      <td>[10, 40]</td>\n",
              "    </tr>\n",
              "    <tr>\n",
              "      <th>1</th>\n",
              "      <td>b</td>\n",
              "      <td>[20, 50]</td>\n",
              "    </tr>\n",
              "    <tr>\n",
              "      <th>2</th>\n",
              "      <td>c</td>\n",
              "      <td>[30, 60]</td>\n",
              "    </tr>\n",
              "  </tbody>\n",
              "</table>\n",
              "</div>"
            ],
            "text/plain": [
              "  col_one   col_two\n",
              "0       a  [10, 40]\n",
              "1       b  [20, 50]\n",
              "2       c  [30, 60]"
            ]
          },
          "metadata": {
            "tags": []
          },
          "execution_count": 48
        }
      ]
    },
    {
      "cell_type": "code",
      "metadata": {
        "colab": {
          "base_uri": "https://localhost:8080/",
          "height": 136
        },
        "id": "X1g5k8iCRSf9",
        "outputId": "fb571217-8309-40ac-fcbf-4a3ae3a5d2e1"
      },
      "source": [
        "df_new = df.col_two.apply(pd.Series)\n",
        "df_new"
      ],
      "execution_count": null,
      "outputs": [
        {
          "output_type": "execute_result",
          "data": {
            "text/html": [
              "<div>\n",
              "<style scoped>\n",
              "    .dataframe tbody tr th:only-of-type {\n",
              "        vertical-align: middle;\n",
              "    }\n",
              "\n",
              "    .dataframe tbody tr th {\n",
              "        vertical-align: top;\n",
              "    }\n",
              "\n",
              "    .dataframe thead th {\n",
              "        text-align: right;\n",
              "    }\n",
              "</style>\n",
              "<table border=\"1\" class=\"dataframe\">\n",
              "  <thead>\n",
              "    <tr style=\"text-align: right;\">\n",
              "      <th></th>\n",
              "      <th>0</th>\n",
              "      <th>1</th>\n",
              "    </tr>\n",
              "  </thead>\n",
              "  <tbody>\n",
              "    <tr>\n",
              "      <th>0</th>\n",
              "      <td>10</td>\n",
              "      <td>40</td>\n",
              "    </tr>\n",
              "    <tr>\n",
              "      <th>1</th>\n",
              "      <td>20</td>\n",
              "      <td>50</td>\n",
              "    </tr>\n",
              "    <tr>\n",
              "      <th>2</th>\n",
              "      <td>30</td>\n",
              "      <td>60</td>\n",
              "    </tr>\n",
              "  </tbody>\n",
              "</table>\n",
              "</div>"
            ],
            "text/plain": [
              "    0   1\n",
              "0  10  40\n",
              "1  20  50\n",
              "2  30  60"
            ]
          },
          "metadata": {
            "tags": []
          },
          "execution_count": 50
        }
      ]
    },
    {
      "cell_type": "code",
      "metadata": {
        "colab": {
          "base_uri": "https://localhost:8080/",
          "height": 136
        },
        "id": "d4mvz6wpRynP",
        "outputId": "576c28eb-f601-4ca8-a5a1-9a15ceb5cfe5"
      },
      "source": [
        "pd.concat([df,df_new] , axis='columns')"
      ],
      "execution_count": null,
      "outputs": [
        {
          "output_type": "execute_result",
          "data": {
            "text/html": [
              "<div>\n",
              "<style scoped>\n",
              "    .dataframe tbody tr th:only-of-type {\n",
              "        vertical-align: middle;\n",
              "    }\n",
              "\n",
              "    .dataframe tbody tr th {\n",
              "        vertical-align: top;\n",
              "    }\n",
              "\n",
              "    .dataframe thead th {\n",
              "        text-align: right;\n",
              "    }\n",
              "</style>\n",
              "<table border=\"1\" class=\"dataframe\">\n",
              "  <thead>\n",
              "    <tr style=\"text-align: right;\">\n",
              "      <th></th>\n",
              "      <th>col_one</th>\n",
              "      <th>col_two</th>\n",
              "      <th>0</th>\n",
              "      <th>1</th>\n",
              "    </tr>\n",
              "  </thead>\n",
              "  <tbody>\n",
              "    <tr>\n",
              "      <th>0</th>\n",
              "      <td>a</td>\n",
              "      <td>[10, 40]</td>\n",
              "      <td>10</td>\n",
              "      <td>40</td>\n",
              "    </tr>\n",
              "    <tr>\n",
              "      <th>1</th>\n",
              "      <td>b</td>\n",
              "      <td>[20, 50]</td>\n",
              "      <td>20</td>\n",
              "      <td>50</td>\n",
              "    </tr>\n",
              "    <tr>\n",
              "      <th>2</th>\n",
              "      <td>c</td>\n",
              "      <td>[30, 60]</td>\n",
              "      <td>30</td>\n",
              "      <td>60</td>\n",
              "    </tr>\n",
              "  </tbody>\n",
              "</table>\n",
              "</div>"
            ],
            "text/plain": [
              "  col_one   col_two   0   1\n",
              "0       a  [10, 40]  10  40\n",
              "1       b  [20, 50]  20  50\n",
              "2       c  [30, 60]  30  60"
            ]
          },
          "metadata": {
            "tags": []
          },
          "execution_count": 52
        }
      ]
    },
    {
      "cell_type": "markdown",
      "metadata": {
        "id": "d3EPVgJwSDJS"
      },
      "source": [
        "# Aggregate by multiple functions"
      ]
    },
    {
      "cell_type": "code",
      "metadata": {
        "colab": {
          "base_uri": "https://localhost:8080/",
          "height": 246
        },
        "id": "KCzmdl3LkF8e",
        "outputId": "6d21c684-f613-46ec-c1b5-61b20470dbdb"
      },
      "source": [
        "orders = pd.read_csv('data/chipotle.tsv',sep='\\t')\n",
        "orders.head()"
      ],
      "execution_count": 8,
      "outputs": [
        {
          "output_type": "execute_result",
          "data": {
            "text/html": [
              "<div>\n",
              "<style scoped>\n",
              "    .dataframe tbody tr th:only-of-type {\n",
              "        vertical-align: middle;\n",
              "    }\n",
              "\n",
              "    .dataframe tbody tr th {\n",
              "        vertical-align: top;\n",
              "    }\n",
              "\n",
              "    .dataframe thead th {\n",
              "        text-align: right;\n",
              "    }\n",
              "</style>\n",
              "<table border=\"1\" class=\"dataframe\">\n",
              "  <thead>\n",
              "    <tr style=\"text-align: right;\">\n",
              "      <th></th>\n",
              "      <th>order_id</th>\n",
              "      <th>quantity</th>\n",
              "      <th>item_name</th>\n",
              "      <th>choice_description</th>\n",
              "      <th>item_price</th>\n",
              "    </tr>\n",
              "  </thead>\n",
              "  <tbody>\n",
              "    <tr>\n",
              "      <th>0</th>\n",
              "      <td>1</td>\n",
              "      <td>1</td>\n",
              "      <td>Chips and Fresh Tomato Salsa</td>\n",
              "      <td>NaN</td>\n",
              "      <td>$2.39</td>\n",
              "    </tr>\n",
              "    <tr>\n",
              "      <th>1</th>\n",
              "      <td>1</td>\n",
              "      <td>1</td>\n",
              "      <td>Izze</td>\n",
              "      <td>[Clementine]</td>\n",
              "      <td>$3.39</td>\n",
              "    </tr>\n",
              "    <tr>\n",
              "      <th>2</th>\n",
              "      <td>1</td>\n",
              "      <td>1</td>\n",
              "      <td>Nantucket Nectar</td>\n",
              "      <td>[Apple]</td>\n",
              "      <td>$3.39</td>\n",
              "    </tr>\n",
              "    <tr>\n",
              "      <th>3</th>\n",
              "      <td>1</td>\n",
              "      <td>1</td>\n",
              "      <td>Chips and Tomatillo-Green Chili Salsa</td>\n",
              "      <td>NaN</td>\n",
              "      <td>$2.39</td>\n",
              "    </tr>\n",
              "    <tr>\n",
              "      <th>4</th>\n",
              "      <td>2</td>\n",
              "      <td>2</td>\n",
              "      <td>Chicken Bowl</td>\n",
              "      <td>[Tomatillo-Red Chili Salsa (Hot), [Black Beans...</td>\n",
              "      <td>$16.98</td>\n",
              "    </tr>\n",
              "  </tbody>\n",
              "</table>\n",
              "</div>"
            ],
            "text/plain": [
              "   order_id  ...  item_price\n",
              "0         1  ...      $2.39 \n",
              "1         1  ...      $3.39 \n",
              "2         1  ...      $3.39 \n",
              "3         1  ...      $2.39 \n",
              "4         2  ...     $16.98 \n",
              "\n",
              "[5 rows x 5 columns]"
            ]
          },
          "metadata": {
            "tags": []
          },
          "execution_count": 8
        }
      ]
    },
    {
      "cell_type": "code",
      "metadata": {
        "id": "OHxeD34YSG9z",
        "colab": {
          "base_uri": "https://localhost:8080/",
          "height": 225
        },
        "outputId": "5385918a-011d-44ba-e9aa-652d7c675951"
      },
      "source": [
        "orders.groupby('order_id').item_price.sum().head()\n",
        "\n",
        "# and for multiple aggregate functions\n",
        "\n",
        "orders.groupby('order_id').item_price.agg(['sum','count']).head()\n"
      ],
      "execution_count": 11,
      "outputs": [
        {
          "output_type": "execute_result",
          "data": {
            "text/html": [
              "<div>\n",
              "<style scoped>\n",
              "    .dataframe tbody tr th:only-of-type {\n",
              "        vertical-align: middle;\n",
              "    }\n",
              "\n",
              "    .dataframe tbody tr th {\n",
              "        vertical-align: top;\n",
              "    }\n",
              "\n",
              "    .dataframe thead th {\n",
              "        text-align: right;\n",
              "    }\n",
              "</style>\n",
              "<table border=\"1\" class=\"dataframe\">\n",
              "  <thead>\n",
              "    <tr style=\"text-align: right;\">\n",
              "      <th></th>\n",
              "      <th>sum</th>\n",
              "      <th>count</th>\n",
              "    </tr>\n",
              "    <tr>\n",
              "      <th>order_id</th>\n",
              "      <th></th>\n",
              "      <th></th>\n",
              "    </tr>\n",
              "  </thead>\n",
              "  <tbody>\n",
              "    <tr>\n",
              "      <th>1</th>\n",
              "      <td>$2.39 $3.39 $3.39 $2.39</td>\n",
              "      <td>4</td>\n",
              "    </tr>\n",
              "    <tr>\n",
              "      <th>2</th>\n",
              "      <td>$16.98</td>\n",
              "      <td>1</td>\n",
              "    </tr>\n",
              "    <tr>\n",
              "      <th>3</th>\n",
              "      <td>$10.98 $1.69</td>\n",
              "      <td>2</td>\n",
              "    </tr>\n",
              "    <tr>\n",
              "      <th>4</th>\n",
              "      <td>$11.75 $9.25</td>\n",
              "      <td>2</td>\n",
              "    </tr>\n",
              "    <tr>\n",
              "      <th>5</th>\n",
              "      <td>$9.25 $4.45</td>\n",
              "      <td>2</td>\n",
              "    </tr>\n",
              "  </tbody>\n",
              "</table>\n",
              "</div>"
            ],
            "text/plain": [
              "                               sum  count\n",
              "order_id                                 \n",
              "1         $2.39 $3.39 $3.39 $2.39       4\n",
              "2                          $16.98       1\n",
              "3                    $10.98 $1.69       2\n",
              "4                    $11.75 $9.25       2\n",
              "5                     $9.25 $4.45       2"
            ]
          },
          "metadata": {
            "tags": []
          },
          "execution_count": 11
        }
      ]
    },
    {
      "cell_type": "markdown",
      "metadata": {
        "id": "8FmrPWmYm-t1"
      },
      "source": [
        "# Combine aggergation output with a DataFrame"
      ]
    },
    {
      "cell_type": "markdown",
      "metadata": {
        "id": "xvU26ix1nYrv"
      },
      "source": [
        "Output of aggregate function is smaller than input\n",
        "so we can use transform function"
      ]
    },
    {
      "cell_type": "code",
      "metadata": {
        "colab": {
          "base_uri": "https://localhost:8080/",
          "height": 279
        },
        "id": "-VkJ-oC0nD3F",
        "outputId": "5d36b119-e988-4b58-b65e-4b88292c64a1"
      },
      "source": [
        "orders['tota_price'] = orders.groupby('order_id').item_price.transform('sum')\n",
        "orders.head()"
      ],
      "execution_count": 14,
      "outputs": [
        {
          "output_type": "execute_result",
          "data": {
            "text/html": [
              "<div>\n",
              "<style scoped>\n",
              "    .dataframe tbody tr th:only-of-type {\n",
              "        vertical-align: middle;\n",
              "    }\n",
              "\n",
              "    .dataframe tbody tr th {\n",
              "        vertical-align: top;\n",
              "    }\n",
              "\n",
              "    .dataframe thead th {\n",
              "        text-align: right;\n",
              "    }\n",
              "</style>\n",
              "<table border=\"1\" class=\"dataframe\">\n",
              "  <thead>\n",
              "    <tr style=\"text-align: right;\">\n",
              "      <th></th>\n",
              "      <th>order_id</th>\n",
              "      <th>quantity</th>\n",
              "      <th>item_name</th>\n",
              "      <th>choice_description</th>\n",
              "      <th>item_price</th>\n",
              "      <th>tota_price</th>\n",
              "    </tr>\n",
              "  </thead>\n",
              "  <tbody>\n",
              "    <tr>\n",
              "      <th>0</th>\n",
              "      <td>1</td>\n",
              "      <td>1</td>\n",
              "      <td>Chips and Fresh Tomato Salsa</td>\n",
              "      <td>NaN</td>\n",
              "      <td>$2.39</td>\n",
              "      <td>$2.39 $3.39 $3.39 $2.39</td>\n",
              "    </tr>\n",
              "    <tr>\n",
              "      <th>1</th>\n",
              "      <td>1</td>\n",
              "      <td>1</td>\n",
              "      <td>Izze</td>\n",
              "      <td>[Clementine]</td>\n",
              "      <td>$3.39</td>\n",
              "      <td>$2.39 $3.39 $3.39 $2.39</td>\n",
              "    </tr>\n",
              "    <tr>\n",
              "      <th>2</th>\n",
              "      <td>1</td>\n",
              "      <td>1</td>\n",
              "      <td>Nantucket Nectar</td>\n",
              "      <td>[Apple]</td>\n",
              "      <td>$3.39</td>\n",
              "      <td>$2.39 $3.39 $3.39 $2.39</td>\n",
              "    </tr>\n",
              "    <tr>\n",
              "      <th>3</th>\n",
              "      <td>1</td>\n",
              "      <td>1</td>\n",
              "      <td>Chips and Tomatillo-Green Chili Salsa</td>\n",
              "      <td>NaN</td>\n",
              "      <td>$2.39</td>\n",
              "      <td>$2.39 $3.39 $3.39 $2.39</td>\n",
              "    </tr>\n",
              "    <tr>\n",
              "      <th>4</th>\n",
              "      <td>2</td>\n",
              "      <td>2</td>\n",
              "      <td>Chicken Bowl</td>\n",
              "      <td>[Tomatillo-Red Chili Salsa (Hot), [Black Beans...</td>\n",
              "      <td>$16.98</td>\n",
              "      <td>$16.98</td>\n",
              "    </tr>\n",
              "  </tbody>\n",
              "</table>\n",
              "</div>"
            ],
            "text/plain": [
              "   order_id  quantity  ... item_price                tota_price\n",
              "0         1         1  ...     $2.39   $2.39 $3.39 $3.39 $2.39 \n",
              "1         1         1  ...     $3.39   $2.39 $3.39 $3.39 $2.39 \n",
              "2         1         1  ...     $3.39   $2.39 $3.39 $3.39 $2.39 \n",
              "3         1         1  ...     $2.39   $2.39 $3.39 $3.39 $2.39 \n",
              "4         2         2  ...    $16.98                    $16.98 \n",
              "\n",
              "[5 rows x 6 columns]"
            ]
          },
          "metadata": {
            "tags": []
          },
          "execution_count": 14
        }
      ]
    },
    {
      "cell_type": "markdown",
      "metadata": {
        "id": "SnuxB3KIoZ_u"
      },
      "source": [
        "# Select a slice of rows and columns"
      ]
    },
    {
      "cell_type": "code",
      "metadata": {
        "id": "AHU5d6mboecP"
      },
      "source": [
        "titanic = pd.read_csv('data/titanic_train.csv')\n",
        "titanic.head()"
      ],
      "execution_count": null,
      "outputs": []
    },
    {
      "cell_type": "code",
      "metadata": {
        "colab": {
          "base_uri": "https://localhost:8080/",
          "height": 195
        },
        "id": "9LgxMR0cpE2U",
        "outputId": "9dceafb7-592a-41f7-abca-30c028ed1794"
      },
      "source": [
        "titanic.describe().loc['min':'max','Pclass':'Parch']"
      ],
      "execution_count": 16,
      "outputs": [
        {
          "output_type": "execute_result",
          "data": {
            "text/html": [
              "<div>\n",
              "<style scoped>\n",
              "    .dataframe tbody tr th:only-of-type {\n",
              "        vertical-align: middle;\n",
              "    }\n",
              "\n",
              "    .dataframe tbody tr th {\n",
              "        vertical-align: top;\n",
              "    }\n",
              "\n",
              "    .dataframe thead th {\n",
              "        text-align: right;\n",
              "    }\n",
              "</style>\n",
              "<table border=\"1\" class=\"dataframe\">\n",
              "  <thead>\n",
              "    <tr style=\"text-align: right;\">\n",
              "      <th></th>\n",
              "      <th>Pclass</th>\n",
              "      <th>Age</th>\n",
              "      <th>SibSp</th>\n",
              "      <th>Parch</th>\n",
              "    </tr>\n",
              "  </thead>\n",
              "  <tbody>\n",
              "    <tr>\n",
              "      <th>min</th>\n",
              "      <td>1.0</td>\n",
              "      <td>0.420</td>\n",
              "      <td>0.0</td>\n",
              "      <td>0.0</td>\n",
              "    </tr>\n",
              "    <tr>\n",
              "      <th>25%</th>\n",
              "      <td>2.0</td>\n",
              "      <td>20.125</td>\n",
              "      <td>0.0</td>\n",
              "      <td>0.0</td>\n",
              "    </tr>\n",
              "    <tr>\n",
              "      <th>50%</th>\n",
              "      <td>3.0</td>\n",
              "      <td>28.000</td>\n",
              "      <td>0.0</td>\n",
              "      <td>0.0</td>\n",
              "    </tr>\n",
              "    <tr>\n",
              "      <th>75%</th>\n",
              "      <td>3.0</td>\n",
              "      <td>38.000</td>\n",
              "      <td>1.0</td>\n",
              "      <td>0.0</td>\n",
              "    </tr>\n",
              "    <tr>\n",
              "      <th>max</th>\n",
              "      <td>3.0</td>\n",
              "      <td>80.000</td>\n",
              "      <td>8.0</td>\n",
              "      <td>6.0</td>\n",
              "    </tr>\n",
              "  </tbody>\n",
              "</table>\n",
              "</div>"
            ],
            "text/plain": [
              "     Pclass     Age  SibSp  Parch\n",
              "min     1.0   0.420    0.0    0.0\n",
              "25%     2.0  20.125    0.0    0.0\n",
              "50%     3.0  28.000    0.0    0.0\n",
              "75%     3.0  38.000    1.0    0.0\n",
              "max     3.0  80.000    8.0    6.0"
            ]
          },
          "metadata": {
            "tags": []
          },
          "execution_count": 16
        }
      ]
    },
    {
      "cell_type": "markdown",
      "metadata": {
        "id": "CBtRBMALpRUM"
      },
      "source": [
        "# Reshape a MultiIndexed Series"
      ]
    },
    {
      "cell_type": "markdown",
      "metadata": {
        "id": "F8sewkT5p7hZ"
      },
      "source": [
        "- Multi indexed series could be resulted from groupby multi columns\n",
        "\n",
        "- for creating better view we could use unstack method"
      ]
    },
    {
      "cell_type": "code",
      "metadata": {
        "colab": {
          "base_uri": "https://localhost:8080/"
        },
        "id": "WsgLovNLpShh",
        "outputId": "4d6e4b63-2df4-4f9b-ec84-ede96b292970"
      },
      "source": [
        "titanic.groupby('Sex').Survived.mean()"
      ],
      "execution_count": 20,
      "outputs": [
        {
          "output_type": "execute_result",
          "data": {
            "text/plain": [
              "Sex\n",
              "female    0.742038\n",
              "male      0.188908\n",
              "Name: Survived, dtype: float64"
            ]
          },
          "metadata": {
            "tags": []
          },
          "execution_count": 20
        }
      ]
    },
    {
      "cell_type": "code",
      "metadata": {
        "colab": {
          "base_uri": "https://localhost:8080/",
          "height": 136
        },
        "id": "Eg5RRXbdpuTs",
        "outputId": "2362736d-1d6a-4627-e302-0459bf8fe083"
      },
      "source": [
        "titanic.groupby(['Sex','Pclass']).Survived.mean().unstack()"
      ],
      "execution_count": 21,
      "outputs": [
        {
          "output_type": "execute_result",
          "data": {
            "text/html": [
              "<div>\n",
              "<style scoped>\n",
              "    .dataframe tbody tr th:only-of-type {\n",
              "        vertical-align: middle;\n",
              "    }\n",
              "\n",
              "    .dataframe tbody tr th {\n",
              "        vertical-align: top;\n",
              "    }\n",
              "\n",
              "    .dataframe thead th {\n",
              "        text-align: right;\n",
              "    }\n",
              "</style>\n",
              "<table border=\"1\" class=\"dataframe\">\n",
              "  <thead>\n",
              "    <tr style=\"text-align: right;\">\n",
              "      <th>Pclass</th>\n",
              "      <th>1</th>\n",
              "      <th>2</th>\n",
              "      <th>3</th>\n",
              "    </tr>\n",
              "    <tr>\n",
              "      <th>Sex</th>\n",
              "      <th></th>\n",
              "      <th></th>\n",
              "      <th></th>\n",
              "    </tr>\n",
              "  </thead>\n",
              "  <tbody>\n",
              "    <tr>\n",
              "      <th>female</th>\n",
              "      <td>0.968085</td>\n",
              "      <td>0.921053</td>\n",
              "      <td>0.500000</td>\n",
              "    </tr>\n",
              "    <tr>\n",
              "      <th>male</th>\n",
              "      <td>0.368852</td>\n",
              "      <td>0.157407</td>\n",
              "      <td>0.135447</td>\n",
              "    </tr>\n",
              "  </tbody>\n",
              "</table>\n",
              "</div>"
            ],
            "text/plain": [
              "Pclass         1         2         3\n",
              "Sex                                 \n",
              "female  0.968085  0.921053  0.500000\n",
              "male    0.368852  0.157407  0.135447"
            ]
          },
          "metadata": {
            "tags": []
          },
          "execution_count": 21
        }
      ]
    },
    {
      "cell_type": "markdown",
      "metadata": {
        "id": "vxXCE-8nqSx_"
      },
      "source": [
        "# Create a pivot table"
      ]
    },
    {
      "cell_type": "code",
      "metadata": {
        "colab": {
          "base_uri": "https://localhost:8080/",
          "height": 136
        },
        "id": "8AWCM5B1qZC7",
        "outputId": "09cf05f4-444c-4add-b464-055be031ece0"
      },
      "source": [
        "titanic.pivot_table(index = 'Sex' , columns='Pclass' , values='Survived', aggfunc='mean')"
      ],
      "execution_count": 22,
      "outputs": [
        {
          "output_type": "execute_result",
          "data": {
            "text/html": [
              "<div>\n",
              "<style scoped>\n",
              "    .dataframe tbody tr th:only-of-type {\n",
              "        vertical-align: middle;\n",
              "    }\n",
              "\n",
              "    .dataframe tbody tr th {\n",
              "        vertical-align: top;\n",
              "    }\n",
              "\n",
              "    .dataframe thead th {\n",
              "        text-align: right;\n",
              "    }\n",
              "</style>\n",
              "<table border=\"1\" class=\"dataframe\">\n",
              "  <thead>\n",
              "    <tr style=\"text-align: right;\">\n",
              "      <th>Pclass</th>\n",
              "      <th>1</th>\n",
              "      <th>2</th>\n",
              "      <th>3</th>\n",
              "    </tr>\n",
              "    <tr>\n",
              "      <th>Sex</th>\n",
              "      <th></th>\n",
              "      <th></th>\n",
              "      <th></th>\n",
              "    </tr>\n",
              "  </thead>\n",
              "  <tbody>\n",
              "    <tr>\n",
              "      <th>female</th>\n",
              "      <td>0.968085</td>\n",
              "      <td>0.921053</td>\n",
              "      <td>0.500000</td>\n",
              "    </tr>\n",
              "    <tr>\n",
              "      <th>male</th>\n",
              "      <td>0.368852</td>\n",
              "      <td>0.157407</td>\n",
              "      <td>0.135447</td>\n",
              "    </tr>\n",
              "  </tbody>\n",
              "</table>\n",
              "</div>"
            ],
            "text/plain": [
              "Pclass         1         2         3\n",
              "Sex                                 \n",
              "female  0.968085  0.921053  0.500000\n",
              "male    0.368852  0.157407  0.135447"
            ]
          },
          "metadata": {
            "tags": []
          },
          "execution_count": 22
        }
      ]
    },
    {
      "cell_type": "code",
      "metadata": {
        "colab": {
          "base_uri": "https://localhost:8080/",
          "height": 166
        },
        "id": "vIlh1sbBq_lJ",
        "outputId": "7f9c65ed-294d-4d2f-bf9f-ef7573f2947a"
      },
      "source": [
        "titanic.pivot_table(index = 'Sex' , columns='Pclass' , values='Survived', aggfunc='mean',\n",
        "                    margins = True)"
      ],
      "execution_count": 23,
      "outputs": [
        {
          "output_type": "execute_result",
          "data": {
            "text/html": [
              "<div>\n",
              "<style scoped>\n",
              "    .dataframe tbody tr th:only-of-type {\n",
              "        vertical-align: middle;\n",
              "    }\n",
              "\n",
              "    .dataframe tbody tr th {\n",
              "        vertical-align: top;\n",
              "    }\n",
              "\n",
              "    .dataframe thead th {\n",
              "        text-align: right;\n",
              "    }\n",
              "</style>\n",
              "<table border=\"1\" class=\"dataframe\">\n",
              "  <thead>\n",
              "    <tr style=\"text-align: right;\">\n",
              "      <th>Pclass</th>\n",
              "      <th>1</th>\n",
              "      <th>2</th>\n",
              "      <th>3</th>\n",
              "      <th>All</th>\n",
              "    </tr>\n",
              "    <tr>\n",
              "      <th>Sex</th>\n",
              "      <th></th>\n",
              "      <th></th>\n",
              "      <th></th>\n",
              "      <th></th>\n",
              "    </tr>\n",
              "  </thead>\n",
              "  <tbody>\n",
              "    <tr>\n",
              "      <th>female</th>\n",
              "      <td>0.968085</td>\n",
              "      <td>0.921053</td>\n",
              "      <td>0.500000</td>\n",
              "      <td>0.742038</td>\n",
              "    </tr>\n",
              "    <tr>\n",
              "      <th>male</th>\n",
              "      <td>0.368852</td>\n",
              "      <td>0.157407</td>\n",
              "      <td>0.135447</td>\n",
              "      <td>0.188908</td>\n",
              "    </tr>\n",
              "    <tr>\n",
              "      <th>All</th>\n",
              "      <td>0.629630</td>\n",
              "      <td>0.472826</td>\n",
              "      <td>0.242363</td>\n",
              "      <td>0.383838</td>\n",
              "    </tr>\n",
              "  </tbody>\n",
              "</table>\n",
              "</div>"
            ],
            "text/plain": [
              "Pclass         1         2         3       All\n",
              "Sex                                           \n",
              "female  0.968085  0.921053  0.500000  0.742038\n",
              "male    0.368852  0.157407  0.135447  0.188908\n",
              "All     0.629630  0.472826  0.242363  0.383838"
            ]
          },
          "metadata": {
            "tags": []
          },
          "execution_count": 23
        }
      ]
    },
    {
      "cell_type": "code",
      "metadata": {
        "colab": {
          "base_uri": "https://localhost:8080/",
          "height": 166
        },
        "id": "ri6KvPHMrD3j",
        "outputId": "e9345ad2-da9e-4d4d-f8bb-104ae800f08c"
      },
      "source": [
        "titanic.pivot_table(index = 'Sex' , columns='Pclass' , values='Survived', \n",
        "                    aggfunc='count',margins = True)"
      ],
      "execution_count": 24,
      "outputs": [
        {
          "output_type": "execute_result",
          "data": {
            "text/html": [
              "<div>\n",
              "<style scoped>\n",
              "    .dataframe tbody tr th:only-of-type {\n",
              "        vertical-align: middle;\n",
              "    }\n",
              "\n",
              "    .dataframe tbody tr th {\n",
              "        vertical-align: top;\n",
              "    }\n",
              "\n",
              "    .dataframe thead th {\n",
              "        text-align: right;\n",
              "    }\n",
              "</style>\n",
              "<table border=\"1\" class=\"dataframe\">\n",
              "  <thead>\n",
              "    <tr style=\"text-align: right;\">\n",
              "      <th>Pclass</th>\n",
              "      <th>1</th>\n",
              "      <th>2</th>\n",
              "      <th>3</th>\n",
              "      <th>All</th>\n",
              "    </tr>\n",
              "    <tr>\n",
              "      <th>Sex</th>\n",
              "      <th></th>\n",
              "      <th></th>\n",
              "      <th></th>\n",
              "      <th></th>\n",
              "    </tr>\n",
              "  </thead>\n",
              "  <tbody>\n",
              "    <tr>\n",
              "      <th>female</th>\n",
              "      <td>94</td>\n",
              "      <td>76</td>\n",
              "      <td>144</td>\n",
              "      <td>314</td>\n",
              "    </tr>\n",
              "    <tr>\n",
              "      <th>male</th>\n",
              "      <td>122</td>\n",
              "      <td>108</td>\n",
              "      <td>347</td>\n",
              "      <td>577</td>\n",
              "    </tr>\n",
              "    <tr>\n",
              "      <th>All</th>\n",
              "      <td>216</td>\n",
              "      <td>184</td>\n",
              "      <td>491</td>\n",
              "      <td>891</td>\n",
              "    </tr>\n",
              "  </tbody>\n",
              "</table>\n",
              "</div>"
            ],
            "text/plain": [
              "Pclass    1    2    3  All\n",
              "Sex                       \n",
              "female   94   76  144  314\n",
              "male    122  108  347  577\n",
              "All     216  184  491  891"
            ]
          },
          "metadata": {
            "tags": []
          },
          "execution_count": 24
        }
      ]
    },
    {
      "cell_type": "markdown",
      "metadata": {
        "id": "KFnMbqHUrN9o"
      },
      "source": [
        "# Convert continuous data into categorical data"
      ]
    },
    {
      "cell_type": "code",
      "metadata": {
        "colab": {
          "base_uri": "https://localhost:8080/"
        },
        "id": "ZuIxogI0rPZv",
        "outputId": "98cffe18-1290-484f-c74b-04602412b17d"
      },
      "source": [
        "titanic.Age.head(10)"
      ],
      "execution_count": 25,
      "outputs": [
        {
          "output_type": "execute_result",
          "data": {
            "text/plain": [
              "0    22.0\n",
              "1    38.0\n",
              "2    26.0\n",
              "3    35.0\n",
              "4    35.0\n",
              "5     NaN\n",
              "6    54.0\n",
              "7     2.0\n",
              "8    27.0\n",
              "9    14.0\n",
              "Name: Age, dtype: float64"
            ]
          },
          "metadata": {
            "tags": []
          },
          "execution_count": 25
        }
      ]
    },
    {
      "cell_type": "code",
      "metadata": {
        "colab": {
          "base_uri": "https://localhost:8080/"
        },
        "id": "fQoYJYj9rnvR",
        "outputId": "0280a399-e496-4e80-fa6b-cc997a5cc63b"
      },
      "source": [
        "pd.cut(titanic.Age, bins=[0,18,25,99], labels = ['child','young adult', 'adult']).head(10)"
      ],
      "execution_count": 28,
      "outputs": [
        {
          "output_type": "execute_result",
          "data": {
            "text/plain": [
              "0    young adult\n",
              "1          adult\n",
              "2          adult\n",
              "3          adult\n",
              "4          adult\n",
              "5            NaN\n",
              "6          adult\n",
              "7          child\n",
              "8          adult\n",
              "9          child\n",
              "Name: Age, dtype: category\n",
              "Categories (3, object): ['child' < 'young adult' < 'adult']"
            ]
          },
          "metadata": {
            "tags": []
          },
          "execution_count": 28
        }
      ]
    },
    {
      "cell_type": "markdown",
      "metadata": {
        "id": "lBO-jpcCr8ey"
      },
      "source": [
        "# Change display options"
      ]
    },
    {
      "cell_type": "code",
      "metadata": {
        "colab": {
          "base_uri": "https://localhost:8080/",
          "height": 195
        },
        "id": "ZYvCcYXGr9w3",
        "outputId": "ef5dcc35-91cb-4236-dc69-ccb667671200"
      },
      "source": [
        "titanic[['Age','Fare']].head()"
      ],
      "execution_count": 35,
      "outputs": [
        {
          "output_type": "execute_result",
          "data": {
            "text/html": [
              "<div>\n",
              "<style scoped>\n",
              "    .dataframe tbody tr th:only-of-type {\n",
              "        vertical-align: middle;\n",
              "    }\n",
              "\n",
              "    .dataframe tbody tr th {\n",
              "        vertical-align: top;\n",
              "    }\n",
              "\n",
              "    .dataframe thead th {\n",
              "        text-align: right;\n",
              "    }\n",
              "</style>\n",
              "<table border=\"1\" class=\"dataframe\">\n",
              "  <thead>\n",
              "    <tr style=\"text-align: right;\">\n",
              "      <th></th>\n",
              "      <th>Age</th>\n",
              "      <th>Fare</th>\n",
              "    </tr>\n",
              "  </thead>\n",
              "  <tbody>\n",
              "    <tr>\n",
              "      <th>0</th>\n",
              "      <td>22.00</td>\n",
              "      <td>7.25</td>\n",
              "    </tr>\n",
              "    <tr>\n",
              "      <th>1</th>\n",
              "      <td>38.00</td>\n",
              "      <td>71.28</td>\n",
              "    </tr>\n",
              "    <tr>\n",
              "      <th>2</th>\n",
              "      <td>26.00</td>\n",
              "      <td>7.92</td>\n",
              "    </tr>\n",
              "    <tr>\n",
              "      <th>3</th>\n",
              "      <td>35.00</td>\n",
              "      <td>53.10</td>\n",
              "    </tr>\n",
              "    <tr>\n",
              "      <th>4</th>\n",
              "      <td>35.00</td>\n",
              "      <td>8.05</td>\n",
              "    </tr>\n",
              "  </tbody>\n",
              "</table>\n",
              "</div>"
            ],
            "text/plain": [
              "    Age  Fare\n",
              "0 22.00  7.25\n",
              "1 38.00 71.28\n",
              "2 26.00  7.92\n",
              "3 35.00 53.10\n",
              "4 35.00  8.05"
            ]
          },
          "metadata": {
            "tags": []
          },
          "execution_count": 35
        }
      ]
    },
    {
      "cell_type": "code",
      "metadata": {
        "colab": {
          "base_uri": "https://localhost:8080/",
          "height": 195
        },
        "id": "ubcVFsQIsLE5",
        "outputId": "9b478fa6-c5ac-4454-83c1-7adb6e1b414e"
      },
      "source": [
        "pd.set_option('display.float_format','{:.2f}'.format)\n",
        "titanic[['Age','Fare']].head()"
      ],
      "execution_count": 38,
      "outputs": [
        {
          "output_type": "execute_result",
          "data": {
            "text/html": [
              "<div>\n",
              "<style scoped>\n",
              "    .dataframe tbody tr th:only-of-type {\n",
              "        vertical-align: middle;\n",
              "    }\n",
              "\n",
              "    .dataframe tbody tr th {\n",
              "        vertical-align: top;\n",
              "    }\n",
              "\n",
              "    .dataframe thead th {\n",
              "        text-align: right;\n",
              "    }\n",
              "</style>\n",
              "<table border=\"1\" class=\"dataframe\">\n",
              "  <thead>\n",
              "    <tr style=\"text-align: right;\">\n",
              "      <th></th>\n",
              "      <th>Age</th>\n",
              "      <th>Fare</th>\n",
              "    </tr>\n",
              "  </thead>\n",
              "  <tbody>\n",
              "    <tr>\n",
              "      <th>0</th>\n",
              "      <td>22.00</td>\n",
              "      <td>7.25</td>\n",
              "    </tr>\n",
              "    <tr>\n",
              "      <th>1</th>\n",
              "      <td>38.00</td>\n",
              "      <td>71.28</td>\n",
              "    </tr>\n",
              "    <tr>\n",
              "      <th>2</th>\n",
              "      <td>26.00</td>\n",
              "      <td>7.92</td>\n",
              "    </tr>\n",
              "    <tr>\n",
              "      <th>3</th>\n",
              "      <td>35.00</td>\n",
              "      <td>53.10</td>\n",
              "    </tr>\n",
              "    <tr>\n",
              "      <th>4</th>\n",
              "      <td>35.00</td>\n",
              "      <td>8.05</td>\n",
              "    </tr>\n",
              "  </tbody>\n",
              "</table>\n",
              "</div>"
            ],
            "text/plain": [
              "    Age  Fare\n",
              "0 22.00  7.25\n",
              "1 38.00 71.28\n",
              "2 26.00  7.92\n",
              "3 35.00 53.10\n",
              "4 35.00  8.05"
            ]
          },
          "metadata": {
            "tags": []
          },
          "execution_count": 38
        }
      ]
    },
    {
      "cell_type": "code",
      "metadata": {
        "id": "2oXghTBosXhA"
      },
      "source": [
        "pd.reset_option('display.float_format')"
      ],
      "execution_count": 37,
      "outputs": []
    },
    {
      "cell_type": "markdown",
      "metadata": {
        "id": "PDs1GqOdtPCw"
      },
      "source": [
        "# Style a DataFrame"
      ]
    },
    {
      "cell_type": "code",
      "metadata": {
        "colab": {
          "base_uri": "https://localhost:8080/",
          "height": 195
        },
        "id": "FYIPFJUotUrS",
        "outputId": "8ba1afae-857e-43b2-885f-8e1d56c8a320"
      },
      "source": [
        "stocks = pd.read_csv('data/stocks.csv')\n",
        "stocks.head()"
      ],
      "execution_count": 39,
      "outputs": [
        {
          "output_type": "execute_result",
          "data": {
            "text/html": [
              "<div>\n",
              "<style scoped>\n",
              "    .dataframe tbody tr th:only-of-type {\n",
              "        vertical-align: middle;\n",
              "    }\n",
              "\n",
              "    .dataframe tbody tr th {\n",
              "        vertical-align: top;\n",
              "    }\n",
              "\n",
              "    .dataframe thead th {\n",
              "        text-align: right;\n",
              "    }\n",
              "</style>\n",
              "<table border=\"1\" class=\"dataframe\">\n",
              "  <thead>\n",
              "    <tr style=\"text-align: right;\">\n",
              "      <th></th>\n",
              "      <th>Date</th>\n",
              "      <th>Close</th>\n",
              "      <th>Volume</th>\n",
              "      <th>Symbol</th>\n",
              "    </tr>\n",
              "  </thead>\n",
              "  <tbody>\n",
              "    <tr>\n",
              "      <th>0</th>\n",
              "      <td>2016-10-03</td>\n",
              "      <td>31.50</td>\n",
              "      <td>14070500</td>\n",
              "      <td>CSCO</td>\n",
              "    </tr>\n",
              "    <tr>\n",
              "      <th>1</th>\n",
              "      <td>2016-10-03</td>\n",
              "      <td>112.52</td>\n",
              "      <td>21701800</td>\n",
              "      <td>AAPL</td>\n",
              "    </tr>\n",
              "    <tr>\n",
              "      <th>2</th>\n",
              "      <td>2016-10-03</td>\n",
              "      <td>57.42</td>\n",
              "      <td>19189500</td>\n",
              "      <td>MSFT</td>\n",
              "    </tr>\n",
              "    <tr>\n",
              "      <th>3</th>\n",
              "      <td>2016-10-04</td>\n",
              "      <td>113.00</td>\n",
              "      <td>29736800</td>\n",
              "      <td>AAPL</td>\n",
              "    </tr>\n",
              "    <tr>\n",
              "      <th>4</th>\n",
              "      <td>2016-10-04</td>\n",
              "      <td>57.24</td>\n",
              "      <td>20085900</td>\n",
              "      <td>MSFT</td>\n",
              "    </tr>\n",
              "  </tbody>\n",
              "</table>\n",
              "</div>"
            ],
            "text/plain": [
              "         Date  Close    Volume Symbol\n",
              "0  2016-10-03  31.50  14070500   CSCO\n",
              "1  2016-10-03 112.52  21701800   AAPL\n",
              "2  2016-10-03  57.42  19189500   MSFT\n",
              "3  2016-10-04 113.00  29736800   AAPL\n",
              "4  2016-10-04  57.24  20085900   MSFT"
            ]
          },
          "metadata": {
            "tags": []
          },
          "execution_count": 39
        }
      ]
    },
    {
      "cell_type": "code",
      "metadata": {
        "colab": {
          "base_uri": "https://localhost:8080/",
          "height": 218
        },
        "id": "czoWz3XtttY3",
        "outputId": "42ffc626-d4b0-4c58-ca04-e8a7de20fb65"
      },
      "source": [
        "# format_dict = {'Date': '{: %m/%d/%y}','Close':'${:.2f}','Volume':'{:,}'}\n",
        "format_dict = {'Close':'${:.2f}','Volume':'{:,}'}\n",
        "\n",
        "stocks.style.format(format_dict)"
      ],
      "execution_count": 54,
      "outputs": [
        {
          "output_type": "execute_result",
          "data": {
            "text/html": [
              "<style  type=\"text/css\" >\n",
              "</style><table id=\"T_f6d6822e_b03e_11eb_b28d_0242ac1c0002\" ><thead>    <tr>        <th class=\"blank level0\" ></th>        <th class=\"col_heading level0 col0\" >Date</th>        <th class=\"col_heading level0 col1\" >Close</th>        <th class=\"col_heading level0 col2\" >Volume</th>        <th class=\"col_heading level0 col3\" >Symbol</th>    </tr></thead><tbody>\n",
              "                <tr>\n",
              "                        <th id=\"T_f6d6822e_b03e_11eb_b28d_0242ac1c0002level0_row0\" class=\"row_heading level0 row0\" >0</th>\n",
              "                        <td id=\"T_f6d6822e_b03e_11eb_b28d_0242ac1c0002row0_col0\" class=\"data row0 col0\" >2016-10-03</td>\n",
              "                        <td id=\"T_f6d6822e_b03e_11eb_b28d_0242ac1c0002row0_col1\" class=\"data row0 col1\" >$31.50</td>\n",
              "                        <td id=\"T_f6d6822e_b03e_11eb_b28d_0242ac1c0002row0_col2\" class=\"data row0 col2\" >14,070,500</td>\n",
              "                        <td id=\"T_f6d6822e_b03e_11eb_b28d_0242ac1c0002row0_col3\" class=\"data row0 col3\" >CSCO</td>\n",
              "            </tr>\n",
              "            <tr>\n",
              "                        <th id=\"T_f6d6822e_b03e_11eb_b28d_0242ac1c0002level0_row1\" class=\"row_heading level0 row1\" >1</th>\n",
              "                        <td id=\"T_f6d6822e_b03e_11eb_b28d_0242ac1c0002row1_col0\" class=\"data row1 col0\" >2016-10-03</td>\n",
              "                        <td id=\"T_f6d6822e_b03e_11eb_b28d_0242ac1c0002row1_col1\" class=\"data row1 col1\" >$112.52</td>\n",
              "                        <td id=\"T_f6d6822e_b03e_11eb_b28d_0242ac1c0002row1_col2\" class=\"data row1 col2\" >21,701,800</td>\n",
              "                        <td id=\"T_f6d6822e_b03e_11eb_b28d_0242ac1c0002row1_col3\" class=\"data row1 col3\" >AAPL</td>\n",
              "            </tr>\n",
              "            <tr>\n",
              "                        <th id=\"T_f6d6822e_b03e_11eb_b28d_0242ac1c0002level0_row2\" class=\"row_heading level0 row2\" >2</th>\n",
              "                        <td id=\"T_f6d6822e_b03e_11eb_b28d_0242ac1c0002row2_col0\" class=\"data row2 col0\" >2016-10-03</td>\n",
              "                        <td id=\"T_f6d6822e_b03e_11eb_b28d_0242ac1c0002row2_col1\" class=\"data row2 col1\" >$57.42</td>\n",
              "                        <td id=\"T_f6d6822e_b03e_11eb_b28d_0242ac1c0002row2_col2\" class=\"data row2 col2\" >19,189,500</td>\n",
              "                        <td id=\"T_f6d6822e_b03e_11eb_b28d_0242ac1c0002row2_col3\" class=\"data row2 col3\" >MSFT</td>\n",
              "            </tr>\n",
              "            <tr>\n",
              "                        <th id=\"T_f6d6822e_b03e_11eb_b28d_0242ac1c0002level0_row3\" class=\"row_heading level0 row3\" >3</th>\n",
              "                        <td id=\"T_f6d6822e_b03e_11eb_b28d_0242ac1c0002row3_col0\" class=\"data row3 col0\" >2016-10-04</td>\n",
              "                        <td id=\"T_f6d6822e_b03e_11eb_b28d_0242ac1c0002row3_col1\" class=\"data row3 col1\" >$113.00</td>\n",
              "                        <td id=\"T_f6d6822e_b03e_11eb_b28d_0242ac1c0002row3_col2\" class=\"data row3 col2\" >29,736,800</td>\n",
              "                        <td id=\"T_f6d6822e_b03e_11eb_b28d_0242ac1c0002row3_col3\" class=\"data row3 col3\" >AAPL</td>\n",
              "            </tr>\n",
              "            <tr>\n",
              "                        <th id=\"T_f6d6822e_b03e_11eb_b28d_0242ac1c0002level0_row4\" class=\"row_heading level0 row4\" >4</th>\n",
              "                        <td id=\"T_f6d6822e_b03e_11eb_b28d_0242ac1c0002row4_col0\" class=\"data row4 col0\" >2016-10-04</td>\n",
              "                        <td id=\"T_f6d6822e_b03e_11eb_b28d_0242ac1c0002row4_col1\" class=\"data row4 col1\" >$57.24</td>\n",
              "                        <td id=\"T_f6d6822e_b03e_11eb_b28d_0242ac1c0002row4_col2\" class=\"data row4 col2\" >20,085,900</td>\n",
              "                        <td id=\"T_f6d6822e_b03e_11eb_b28d_0242ac1c0002row4_col3\" class=\"data row4 col3\" >MSFT</td>\n",
              "            </tr>\n",
              "            <tr>\n",
              "                        <th id=\"T_f6d6822e_b03e_11eb_b28d_0242ac1c0002level0_row5\" class=\"row_heading level0 row5\" >5</th>\n",
              "                        <td id=\"T_f6d6822e_b03e_11eb_b28d_0242ac1c0002row5_col0\" class=\"data row5 col0\" >2016-10-04</td>\n",
              "                        <td id=\"T_f6d6822e_b03e_11eb_b28d_0242ac1c0002row5_col1\" class=\"data row5 col1\" >$31.35</td>\n",
              "                        <td id=\"T_f6d6822e_b03e_11eb_b28d_0242ac1c0002row5_col2\" class=\"data row5 col2\" >18,460,400</td>\n",
              "                        <td id=\"T_f6d6822e_b03e_11eb_b28d_0242ac1c0002row5_col3\" class=\"data row5 col3\" >CSCO</td>\n",
              "            </tr>\n",
              "            <tr>\n",
              "                        <th id=\"T_f6d6822e_b03e_11eb_b28d_0242ac1c0002level0_row6\" class=\"row_heading level0 row6\" >6</th>\n",
              "                        <td id=\"T_f6d6822e_b03e_11eb_b28d_0242ac1c0002row6_col0\" class=\"data row6 col0\" >2016-10-05</td>\n",
              "                        <td id=\"T_f6d6822e_b03e_11eb_b28d_0242ac1c0002row6_col1\" class=\"data row6 col1\" >$57.64</td>\n",
              "                        <td id=\"T_f6d6822e_b03e_11eb_b28d_0242ac1c0002row6_col2\" class=\"data row6 col2\" >16,726,400</td>\n",
              "                        <td id=\"T_f6d6822e_b03e_11eb_b28d_0242ac1c0002row6_col3\" class=\"data row6 col3\" >MSFT</td>\n",
              "            </tr>\n",
              "            <tr>\n",
              "                        <th id=\"T_f6d6822e_b03e_11eb_b28d_0242ac1c0002level0_row7\" class=\"row_heading level0 row7\" >7</th>\n",
              "                        <td id=\"T_f6d6822e_b03e_11eb_b28d_0242ac1c0002row7_col0\" class=\"data row7 col0\" >2016-10-05</td>\n",
              "                        <td id=\"T_f6d6822e_b03e_11eb_b28d_0242ac1c0002row7_col1\" class=\"data row7 col1\" >$31.59</td>\n",
              "                        <td id=\"T_f6d6822e_b03e_11eb_b28d_0242ac1c0002row7_col2\" class=\"data row7 col2\" >11,808,600</td>\n",
              "                        <td id=\"T_f6d6822e_b03e_11eb_b28d_0242ac1c0002row7_col3\" class=\"data row7 col3\" >CSCO</td>\n",
              "            </tr>\n",
              "            <tr>\n",
              "                        <th id=\"T_f6d6822e_b03e_11eb_b28d_0242ac1c0002level0_row8\" class=\"row_heading level0 row8\" >8</th>\n",
              "                        <td id=\"T_f6d6822e_b03e_11eb_b28d_0242ac1c0002row8_col0\" class=\"data row8 col0\" >2016-10-05</td>\n",
              "                        <td id=\"T_f6d6822e_b03e_11eb_b28d_0242ac1c0002row8_col1\" class=\"data row8 col1\" >$113.05</td>\n",
              "                        <td id=\"T_f6d6822e_b03e_11eb_b28d_0242ac1c0002row8_col2\" class=\"data row8 col2\" >21,453,100</td>\n",
              "                        <td id=\"T_f6d6822e_b03e_11eb_b28d_0242ac1c0002row8_col3\" class=\"data row8 col3\" >AAPL</td>\n",
              "            </tr>\n",
              "    </tbody></table>"
            ],
            "text/plain": [
              "<pandas.io.formats.style.Styler at 0x7f79007d19d0>"
            ]
          },
          "metadata": {
            "tags": []
          },
          "execution_count": 54
        }
      ]
    },
    {
      "cell_type": "code",
      "metadata": {
        "colab": {
          "base_uri": "https://localhost:8080/",
          "height": 218
        },
        "id": "hwBSGy59vuKa",
        "outputId": "27fc76c3-3cd4-46e2-bdda-1387a26b29f8"
      },
      "source": [
        "(stocks.style.format(format_dict).hide_index()\n",
        ".highlight_min('Close', color = 'red')\n",
        ".highlight_max('Close', color = 'lightgreen')\n",
        ")"
      ],
      "execution_count": 58,
      "outputs": [
        {
          "output_type": "execute_result",
          "data": {
            "text/html": [
              "<style  type=\"text/css\" >\n",
              "#T_4476f554_b03f_11eb_b28d_0242ac1c0002row5_col1{\n",
              "            background-color:  red;\n",
              "        }#T_4476f554_b03f_11eb_b28d_0242ac1c0002row8_col1{\n",
              "            background-color:  lightgreen;\n",
              "        }</style><table id=\"T_4476f554_b03f_11eb_b28d_0242ac1c0002\" ><thead>    <tr>        <th class=\"col_heading level0 col0\" >Date</th>        <th class=\"col_heading level0 col1\" >Close</th>        <th class=\"col_heading level0 col2\" >Volume</th>        <th class=\"col_heading level0 col3\" >Symbol</th>    </tr></thead><tbody>\n",
              "                <tr>\n",
              "                                <td id=\"T_4476f554_b03f_11eb_b28d_0242ac1c0002row0_col0\" class=\"data row0 col0\" >2016-10-03</td>\n",
              "                        <td id=\"T_4476f554_b03f_11eb_b28d_0242ac1c0002row0_col1\" class=\"data row0 col1\" >$31.50</td>\n",
              "                        <td id=\"T_4476f554_b03f_11eb_b28d_0242ac1c0002row0_col2\" class=\"data row0 col2\" >14,070,500</td>\n",
              "                        <td id=\"T_4476f554_b03f_11eb_b28d_0242ac1c0002row0_col3\" class=\"data row0 col3\" >CSCO</td>\n",
              "            </tr>\n",
              "            <tr>\n",
              "                                <td id=\"T_4476f554_b03f_11eb_b28d_0242ac1c0002row1_col0\" class=\"data row1 col0\" >2016-10-03</td>\n",
              "                        <td id=\"T_4476f554_b03f_11eb_b28d_0242ac1c0002row1_col1\" class=\"data row1 col1\" >$112.52</td>\n",
              "                        <td id=\"T_4476f554_b03f_11eb_b28d_0242ac1c0002row1_col2\" class=\"data row1 col2\" >21,701,800</td>\n",
              "                        <td id=\"T_4476f554_b03f_11eb_b28d_0242ac1c0002row1_col3\" class=\"data row1 col3\" >AAPL</td>\n",
              "            </tr>\n",
              "            <tr>\n",
              "                                <td id=\"T_4476f554_b03f_11eb_b28d_0242ac1c0002row2_col0\" class=\"data row2 col0\" >2016-10-03</td>\n",
              "                        <td id=\"T_4476f554_b03f_11eb_b28d_0242ac1c0002row2_col1\" class=\"data row2 col1\" >$57.42</td>\n",
              "                        <td id=\"T_4476f554_b03f_11eb_b28d_0242ac1c0002row2_col2\" class=\"data row2 col2\" >19,189,500</td>\n",
              "                        <td id=\"T_4476f554_b03f_11eb_b28d_0242ac1c0002row2_col3\" class=\"data row2 col3\" >MSFT</td>\n",
              "            </tr>\n",
              "            <tr>\n",
              "                                <td id=\"T_4476f554_b03f_11eb_b28d_0242ac1c0002row3_col0\" class=\"data row3 col0\" >2016-10-04</td>\n",
              "                        <td id=\"T_4476f554_b03f_11eb_b28d_0242ac1c0002row3_col1\" class=\"data row3 col1\" >$113.00</td>\n",
              "                        <td id=\"T_4476f554_b03f_11eb_b28d_0242ac1c0002row3_col2\" class=\"data row3 col2\" >29,736,800</td>\n",
              "                        <td id=\"T_4476f554_b03f_11eb_b28d_0242ac1c0002row3_col3\" class=\"data row3 col3\" >AAPL</td>\n",
              "            </tr>\n",
              "            <tr>\n",
              "                                <td id=\"T_4476f554_b03f_11eb_b28d_0242ac1c0002row4_col0\" class=\"data row4 col0\" >2016-10-04</td>\n",
              "                        <td id=\"T_4476f554_b03f_11eb_b28d_0242ac1c0002row4_col1\" class=\"data row4 col1\" >$57.24</td>\n",
              "                        <td id=\"T_4476f554_b03f_11eb_b28d_0242ac1c0002row4_col2\" class=\"data row4 col2\" >20,085,900</td>\n",
              "                        <td id=\"T_4476f554_b03f_11eb_b28d_0242ac1c0002row4_col3\" class=\"data row4 col3\" >MSFT</td>\n",
              "            </tr>\n",
              "            <tr>\n",
              "                                <td id=\"T_4476f554_b03f_11eb_b28d_0242ac1c0002row5_col0\" class=\"data row5 col0\" >2016-10-04</td>\n",
              "                        <td id=\"T_4476f554_b03f_11eb_b28d_0242ac1c0002row5_col1\" class=\"data row5 col1\" >$31.35</td>\n",
              "                        <td id=\"T_4476f554_b03f_11eb_b28d_0242ac1c0002row5_col2\" class=\"data row5 col2\" >18,460,400</td>\n",
              "                        <td id=\"T_4476f554_b03f_11eb_b28d_0242ac1c0002row5_col3\" class=\"data row5 col3\" >CSCO</td>\n",
              "            </tr>\n",
              "            <tr>\n",
              "                                <td id=\"T_4476f554_b03f_11eb_b28d_0242ac1c0002row6_col0\" class=\"data row6 col0\" >2016-10-05</td>\n",
              "                        <td id=\"T_4476f554_b03f_11eb_b28d_0242ac1c0002row6_col1\" class=\"data row6 col1\" >$57.64</td>\n",
              "                        <td id=\"T_4476f554_b03f_11eb_b28d_0242ac1c0002row6_col2\" class=\"data row6 col2\" >16,726,400</td>\n",
              "                        <td id=\"T_4476f554_b03f_11eb_b28d_0242ac1c0002row6_col3\" class=\"data row6 col3\" >MSFT</td>\n",
              "            </tr>\n",
              "            <tr>\n",
              "                                <td id=\"T_4476f554_b03f_11eb_b28d_0242ac1c0002row7_col0\" class=\"data row7 col0\" >2016-10-05</td>\n",
              "                        <td id=\"T_4476f554_b03f_11eb_b28d_0242ac1c0002row7_col1\" class=\"data row7 col1\" >$31.59</td>\n",
              "                        <td id=\"T_4476f554_b03f_11eb_b28d_0242ac1c0002row7_col2\" class=\"data row7 col2\" >11,808,600</td>\n",
              "                        <td id=\"T_4476f554_b03f_11eb_b28d_0242ac1c0002row7_col3\" class=\"data row7 col3\" >CSCO</td>\n",
              "            </tr>\n",
              "            <tr>\n",
              "                                <td id=\"T_4476f554_b03f_11eb_b28d_0242ac1c0002row8_col0\" class=\"data row8 col0\" >2016-10-05</td>\n",
              "                        <td id=\"T_4476f554_b03f_11eb_b28d_0242ac1c0002row8_col1\" class=\"data row8 col1\" >$113.05</td>\n",
              "                        <td id=\"T_4476f554_b03f_11eb_b28d_0242ac1c0002row8_col2\" class=\"data row8 col2\" >21,453,100</td>\n",
              "                        <td id=\"T_4476f554_b03f_11eb_b28d_0242ac1c0002row8_col3\" class=\"data row8 col3\" >AAPL</td>\n",
              "            </tr>\n",
              "    </tbody></table>"
            ],
            "text/plain": [
              "<pandas.io.formats.style.Styler at 0x7f79007d1890>"
            ]
          },
          "metadata": {
            "tags": []
          },
          "execution_count": 58
        }
      ]
    },
    {
      "cell_type": "code",
      "metadata": {
        "colab": {
          "base_uri": "https://localhost:8080/",
          "height": 218
        },
        "id": "Ix40Fg72wJrz",
        "outputId": "6d2fc2aa-ab03-43e0-8bf5-0f977f20b606"
      },
      "source": [
        "(stocks.style.format(format_dict).hide_index()\n",
        ".background_gradient(subset = 'Volume' , cmap = 'Blues')\n",
        ")"
      ],
      "execution_count": 62,
      "outputs": [
        {
          "output_type": "execute_result",
          "data": {
            "text/html": [
              "<style  type=\"text/css\" >\n",
              "#T_7f30733c_b03f_11eb_b28d_0242ac1c0002row0_col2{\n",
              "            background-color:  #deebf7;\n",
              "            color:  #000000;\n",
              "        }#T_7f30733c_b03f_11eb_b28d_0242ac1c0002row1_col2{\n",
              "            background-color:  #5aa2cf;\n",
              "            color:  #000000;\n",
              "        }#T_7f30733c_b03f_11eb_b28d_0242ac1c0002row2_col2{\n",
              "            background-color:  #8fc2de;\n",
              "            color:  #000000;\n",
              "        }#T_7f30733c_b03f_11eb_b28d_0242ac1c0002row3_col2{\n",
              "            background-color:  #08306b;\n",
              "            color:  #f1f1f1;\n",
              "        }#T_7f30733c_b03f_11eb_b28d_0242ac1c0002row4_col2{\n",
              "            background-color:  #7ab6d9;\n",
              "            color:  #000000;\n",
              "        }#T_7f30733c_b03f_11eb_b28d_0242ac1c0002row5_col2{\n",
              "            background-color:  #a0cbe2;\n",
              "            color:  #000000;\n",
              "        }#T_7f30733c_b03f_11eb_b28d_0242ac1c0002row6_col2{\n",
              "            background-color:  #bed8ec;\n",
              "            color:  #000000;\n",
              "        }#T_7f30733c_b03f_11eb_b28d_0242ac1c0002row7_col2{\n",
              "            background-color:  #f7fbff;\n",
              "            color:  #000000;\n",
              "        }#T_7f30733c_b03f_11eb_b28d_0242ac1c0002row8_col2{\n",
              "            background-color:  #5fa6d1;\n",
              "            color:  #000000;\n",
              "        }</style><table id=\"T_7f30733c_b03f_11eb_b28d_0242ac1c0002\" ><thead>    <tr>        <th class=\"col_heading level0 col0\" >Date</th>        <th class=\"col_heading level0 col1\" >Close</th>        <th class=\"col_heading level0 col2\" >Volume</th>        <th class=\"col_heading level0 col3\" >Symbol</th>    </tr></thead><tbody>\n",
              "                <tr>\n",
              "                                <td id=\"T_7f30733c_b03f_11eb_b28d_0242ac1c0002row0_col0\" class=\"data row0 col0\" >2016-10-03</td>\n",
              "                        <td id=\"T_7f30733c_b03f_11eb_b28d_0242ac1c0002row0_col1\" class=\"data row0 col1\" >$31.50</td>\n",
              "                        <td id=\"T_7f30733c_b03f_11eb_b28d_0242ac1c0002row0_col2\" class=\"data row0 col2\" >14,070,500</td>\n",
              "                        <td id=\"T_7f30733c_b03f_11eb_b28d_0242ac1c0002row0_col3\" class=\"data row0 col3\" >CSCO</td>\n",
              "            </tr>\n",
              "            <tr>\n",
              "                                <td id=\"T_7f30733c_b03f_11eb_b28d_0242ac1c0002row1_col0\" class=\"data row1 col0\" >2016-10-03</td>\n",
              "                        <td id=\"T_7f30733c_b03f_11eb_b28d_0242ac1c0002row1_col1\" class=\"data row1 col1\" >$112.52</td>\n",
              "                        <td id=\"T_7f30733c_b03f_11eb_b28d_0242ac1c0002row1_col2\" class=\"data row1 col2\" >21,701,800</td>\n",
              "                        <td id=\"T_7f30733c_b03f_11eb_b28d_0242ac1c0002row1_col3\" class=\"data row1 col3\" >AAPL</td>\n",
              "            </tr>\n",
              "            <tr>\n",
              "                                <td id=\"T_7f30733c_b03f_11eb_b28d_0242ac1c0002row2_col0\" class=\"data row2 col0\" >2016-10-03</td>\n",
              "                        <td id=\"T_7f30733c_b03f_11eb_b28d_0242ac1c0002row2_col1\" class=\"data row2 col1\" >$57.42</td>\n",
              "                        <td id=\"T_7f30733c_b03f_11eb_b28d_0242ac1c0002row2_col2\" class=\"data row2 col2\" >19,189,500</td>\n",
              "                        <td id=\"T_7f30733c_b03f_11eb_b28d_0242ac1c0002row2_col3\" class=\"data row2 col3\" >MSFT</td>\n",
              "            </tr>\n",
              "            <tr>\n",
              "                                <td id=\"T_7f30733c_b03f_11eb_b28d_0242ac1c0002row3_col0\" class=\"data row3 col0\" >2016-10-04</td>\n",
              "                        <td id=\"T_7f30733c_b03f_11eb_b28d_0242ac1c0002row3_col1\" class=\"data row3 col1\" >$113.00</td>\n",
              "                        <td id=\"T_7f30733c_b03f_11eb_b28d_0242ac1c0002row3_col2\" class=\"data row3 col2\" >29,736,800</td>\n",
              "                        <td id=\"T_7f30733c_b03f_11eb_b28d_0242ac1c0002row3_col3\" class=\"data row3 col3\" >AAPL</td>\n",
              "            </tr>\n",
              "            <tr>\n",
              "                                <td id=\"T_7f30733c_b03f_11eb_b28d_0242ac1c0002row4_col0\" class=\"data row4 col0\" >2016-10-04</td>\n",
              "                        <td id=\"T_7f30733c_b03f_11eb_b28d_0242ac1c0002row4_col1\" class=\"data row4 col1\" >$57.24</td>\n",
              "                        <td id=\"T_7f30733c_b03f_11eb_b28d_0242ac1c0002row4_col2\" class=\"data row4 col2\" >20,085,900</td>\n",
              "                        <td id=\"T_7f30733c_b03f_11eb_b28d_0242ac1c0002row4_col3\" class=\"data row4 col3\" >MSFT</td>\n",
              "            </tr>\n",
              "            <tr>\n",
              "                                <td id=\"T_7f30733c_b03f_11eb_b28d_0242ac1c0002row5_col0\" class=\"data row5 col0\" >2016-10-04</td>\n",
              "                        <td id=\"T_7f30733c_b03f_11eb_b28d_0242ac1c0002row5_col1\" class=\"data row5 col1\" >$31.35</td>\n",
              "                        <td id=\"T_7f30733c_b03f_11eb_b28d_0242ac1c0002row5_col2\" class=\"data row5 col2\" >18,460,400</td>\n",
              "                        <td id=\"T_7f30733c_b03f_11eb_b28d_0242ac1c0002row5_col3\" class=\"data row5 col3\" >CSCO</td>\n",
              "            </tr>\n",
              "            <tr>\n",
              "                                <td id=\"T_7f30733c_b03f_11eb_b28d_0242ac1c0002row6_col0\" class=\"data row6 col0\" >2016-10-05</td>\n",
              "                        <td id=\"T_7f30733c_b03f_11eb_b28d_0242ac1c0002row6_col1\" class=\"data row6 col1\" >$57.64</td>\n",
              "                        <td id=\"T_7f30733c_b03f_11eb_b28d_0242ac1c0002row6_col2\" class=\"data row6 col2\" >16,726,400</td>\n",
              "                        <td id=\"T_7f30733c_b03f_11eb_b28d_0242ac1c0002row6_col3\" class=\"data row6 col3\" >MSFT</td>\n",
              "            </tr>\n",
              "            <tr>\n",
              "                                <td id=\"T_7f30733c_b03f_11eb_b28d_0242ac1c0002row7_col0\" class=\"data row7 col0\" >2016-10-05</td>\n",
              "                        <td id=\"T_7f30733c_b03f_11eb_b28d_0242ac1c0002row7_col1\" class=\"data row7 col1\" >$31.59</td>\n",
              "                        <td id=\"T_7f30733c_b03f_11eb_b28d_0242ac1c0002row7_col2\" class=\"data row7 col2\" >11,808,600</td>\n",
              "                        <td id=\"T_7f30733c_b03f_11eb_b28d_0242ac1c0002row7_col3\" class=\"data row7 col3\" >CSCO</td>\n",
              "            </tr>\n",
              "            <tr>\n",
              "                                <td id=\"T_7f30733c_b03f_11eb_b28d_0242ac1c0002row8_col0\" class=\"data row8 col0\" >2016-10-05</td>\n",
              "                        <td id=\"T_7f30733c_b03f_11eb_b28d_0242ac1c0002row8_col1\" class=\"data row8 col1\" >$113.05</td>\n",
              "                        <td id=\"T_7f30733c_b03f_11eb_b28d_0242ac1c0002row8_col2\" class=\"data row8 col2\" >21,453,100</td>\n",
              "                        <td id=\"T_7f30733c_b03f_11eb_b28d_0242ac1c0002row8_col3\" class=\"data row8 col3\" >AAPL</td>\n",
              "            </tr>\n",
              "    </tbody></table>"
            ],
            "text/plain": [
              "<pandas.io.formats.style.Styler at 0x7f790076f290>"
            ]
          },
          "metadata": {
            "tags": []
          },
          "execution_count": 62
        }
      ]
    },
    {
      "cell_type": "code",
      "metadata": {
        "colab": {
          "base_uri": "https://localhost:8080/",
          "height": 235
        },
        "id": "yHij7R3KwpJ4",
        "outputId": "7e1b9d32-950c-4fc1-d28d-eb54fd443566"
      },
      "source": [
        "(stocks.style.format(format_dict).hide_index()\n",
        ".bar('Volume' ,color = 'lightblue' ,align = 'zero')\n",
        ".set_caption('Stock Price from October 2016')\n",
        ")"
      ],
      "execution_count": 63,
      "outputs": [
        {
          "output_type": "execute_result",
          "data": {
            "text/html": [
              "<style  type=\"text/css\" >\n",
              "#T_b205f9c6_b03f_11eb_b28d_0242ac1c0002row0_col2{\n",
              "            width:  10em;\n",
              "             height:  80%;\n",
              "            background:  linear-gradient(90deg, transparent 50.0%, lightblue 50.0%, lightblue 73.7%, transparent 73.7%);\n",
              "        }#T_b205f9c6_b03f_11eb_b28d_0242ac1c0002row1_col2{\n",
              "            width:  10em;\n",
              "             height:  80%;\n",
              "            background:  linear-gradient(90deg, transparent 50.0%, lightblue 50.0%, lightblue 86.5%, transparent 86.5%);\n",
              "        }#T_b205f9c6_b03f_11eb_b28d_0242ac1c0002row2_col2{\n",
              "            width:  10em;\n",
              "             height:  80%;\n",
              "            background:  linear-gradient(90deg, transparent 50.0%, lightblue 50.0%, lightblue 82.3%, transparent 82.3%);\n",
              "        }#T_b205f9c6_b03f_11eb_b28d_0242ac1c0002row3_col2{\n",
              "            width:  10em;\n",
              "             height:  80%;\n",
              "            background:  linear-gradient(90deg, transparent 50.0%, lightblue 50.0%, lightblue 100.0%, transparent 100.0%);\n",
              "        }#T_b205f9c6_b03f_11eb_b28d_0242ac1c0002row4_col2{\n",
              "            width:  10em;\n",
              "             height:  80%;\n",
              "            background:  linear-gradient(90deg, transparent 50.0%, lightblue 50.0%, lightblue 83.8%, transparent 83.8%);\n",
              "        }#T_b205f9c6_b03f_11eb_b28d_0242ac1c0002row5_col2{\n",
              "            width:  10em;\n",
              "             height:  80%;\n",
              "            background:  linear-gradient(90deg, transparent 50.0%, lightblue 50.0%, lightblue 81.0%, transparent 81.0%);\n",
              "        }#T_b205f9c6_b03f_11eb_b28d_0242ac1c0002row6_col2{\n",
              "            width:  10em;\n",
              "             height:  80%;\n",
              "            background:  linear-gradient(90deg, transparent 50.0%, lightblue 50.0%, lightblue 78.1%, transparent 78.1%);\n",
              "        }#T_b205f9c6_b03f_11eb_b28d_0242ac1c0002row7_col2{\n",
              "            width:  10em;\n",
              "             height:  80%;\n",
              "            background:  linear-gradient(90deg, transparent 50.0%, lightblue 50.0%, lightblue 69.9%, transparent 69.9%);\n",
              "        }#T_b205f9c6_b03f_11eb_b28d_0242ac1c0002row8_col2{\n",
              "            width:  10em;\n",
              "             height:  80%;\n",
              "            background:  linear-gradient(90deg, transparent 50.0%, lightblue 50.0%, lightblue 86.1%, transparent 86.1%);\n",
              "        }</style><table id=\"T_b205f9c6_b03f_11eb_b28d_0242ac1c0002\" ><caption>Stock Price from October 2016</caption><thead>    <tr>        <th class=\"col_heading level0 col0\" >Date</th>        <th class=\"col_heading level0 col1\" >Close</th>        <th class=\"col_heading level0 col2\" >Volume</th>        <th class=\"col_heading level0 col3\" >Symbol</th>    </tr></thead><tbody>\n",
              "                <tr>\n",
              "                                <td id=\"T_b205f9c6_b03f_11eb_b28d_0242ac1c0002row0_col0\" class=\"data row0 col0\" >2016-10-03</td>\n",
              "                        <td id=\"T_b205f9c6_b03f_11eb_b28d_0242ac1c0002row0_col1\" class=\"data row0 col1\" >$31.50</td>\n",
              "                        <td id=\"T_b205f9c6_b03f_11eb_b28d_0242ac1c0002row0_col2\" class=\"data row0 col2\" >14,070,500</td>\n",
              "                        <td id=\"T_b205f9c6_b03f_11eb_b28d_0242ac1c0002row0_col3\" class=\"data row0 col3\" >CSCO</td>\n",
              "            </tr>\n",
              "            <tr>\n",
              "                                <td id=\"T_b205f9c6_b03f_11eb_b28d_0242ac1c0002row1_col0\" class=\"data row1 col0\" >2016-10-03</td>\n",
              "                        <td id=\"T_b205f9c6_b03f_11eb_b28d_0242ac1c0002row1_col1\" class=\"data row1 col1\" >$112.52</td>\n",
              "                        <td id=\"T_b205f9c6_b03f_11eb_b28d_0242ac1c0002row1_col2\" class=\"data row1 col2\" >21,701,800</td>\n",
              "                        <td id=\"T_b205f9c6_b03f_11eb_b28d_0242ac1c0002row1_col3\" class=\"data row1 col3\" >AAPL</td>\n",
              "            </tr>\n",
              "            <tr>\n",
              "                                <td id=\"T_b205f9c6_b03f_11eb_b28d_0242ac1c0002row2_col0\" class=\"data row2 col0\" >2016-10-03</td>\n",
              "                        <td id=\"T_b205f9c6_b03f_11eb_b28d_0242ac1c0002row2_col1\" class=\"data row2 col1\" >$57.42</td>\n",
              "                        <td id=\"T_b205f9c6_b03f_11eb_b28d_0242ac1c0002row2_col2\" class=\"data row2 col2\" >19,189,500</td>\n",
              "                        <td id=\"T_b205f9c6_b03f_11eb_b28d_0242ac1c0002row2_col3\" class=\"data row2 col3\" >MSFT</td>\n",
              "            </tr>\n",
              "            <tr>\n",
              "                                <td id=\"T_b205f9c6_b03f_11eb_b28d_0242ac1c0002row3_col0\" class=\"data row3 col0\" >2016-10-04</td>\n",
              "                        <td id=\"T_b205f9c6_b03f_11eb_b28d_0242ac1c0002row3_col1\" class=\"data row3 col1\" >$113.00</td>\n",
              "                        <td id=\"T_b205f9c6_b03f_11eb_b28d_0242ac1c0002row3_col2\" class=\"data row3 col2\" >29,736,800</td>\n",
              "                        <td id=\"T_b205f9c6_b03f_11eb_b28d_0242ac1c0002row3_col3\" class=\"data row3 col3\" >AAPL</td>\n",
              "            </tr>\n",
              "            <tr>\n",
              "                                <td id=\"T_b205f9c6_b03f_11eb_b28d_0242ac1c0002row4_col0\" class=\"data row4 col0\" >2016-10-04</td>\n",
              "                        <td id=\"T_b205f9c6_b03f_11eb_b28d_0242ac1c0002row4_col1\" class=\"data row4 col1\" >$57.24</td>\n",
              "                        <td id=\"T_b205f9c6_b03f_11eb_b28d_0242ac1c0002row4_col2\" class=\"data row4 col2\" >20,085,900</td>\n",
              "                        <td id=\"T_b205f9c6_b03f_11eb_b28d_0242ac1c0002row4_col3\" class=\"data row4 col3\" >MSFT</td>\n",
              "            </tr>\n",
              "            <tr>\n",
              "                                <td id=\"T_b205f9c6_b03f_11eb_b28d_0242ac1c0002row5_col0\" class=\"data row5 col0\" >2016-10-04</td>\n",
              "                        <td id=\"T_b205f9c6_b03f_11eb_b28d_0242ac1c0002row5_col1\" class=\"data row5 col1\" >$31.35</td>\n",
              "                        <td id=\"T_b205f9c6_b03f_11eb_b28d_0242ac1c0002row5_col2\" class=\"data row5 col2\" >18,460,400</td>\n",
              "                        <td id=\"T_b205f9c6_b03f_11eb_b28d_0242ac1c0002row5_col3\" class=\"data row5 col3\" >CSCO</td>\n",
              "            </tr>\n",
              "            <tr>\n",
              "                                <td id=\"T_b205f9c6_b03f_11eb_b28d_0242ac1c0002row6_col0\" class=\"data row6 col0\" >2016-10-05</td>\n",
              "                        <td id=\"T_b205f9c6_b03f_11eb_b28d_0242ac1c0002row6_col1\" class=\"data row6 col1\" >$57.64</td>\n",
              "                        <td id=\"T_b205f9c6_b03f_11eb_b28d_0242ac1c0002row6_col2\" class=\"data row6 col2\" >16,726,400</td>\n",
              "                        <td id=\"T_b205f9c6_b03f_11eb_b28d_0242ac1c0002row6_col3\" class=\"data row6 col3\" >MSFT</td>\n",
              "            </tr>\n",
              "            <tr>\n",
              "                                <td id=\"T_b205f9c6_b03f_11eb_b28d_0242ac1c0002row7_col0\" class=\"data row7 col0\" >2016-10-05</td>\n",
              "                        <td id=\"T_b205f9c6_b03f_11eb_b28d_0242ac1c0002row7_col1\" class=\"data row7 col1\" >$31.59</td>\n",
              "                        <td id=\"T_b205f9c6_b03f_11eb_b28d_0242ac1c0002row7_col2\" class=\"data row7 col2\" >11,808,600</td>\n",
              "                        <td id=\"T_b205f9c6_b03f_11eb_b28d_0242ac1c0002row7_col3\" class=\"data row7 col3\" >CSCO</td>\n",
              "            </tr>\n",
              "            <tr>\n",
              "                                <td id=\"T_b205f9c6_b03f_11eb_b28d_0242ac1c0002row8_col0\" class=\"data row8 col0\" >2016-10-05</td>\n",
              "                        <td id=\"T_b205f9c6_b03f_11eb_b28d_0242ac1c0002row8_col1\" class=\"data row8 col1\" >$113.05</td>\n",
              "                        <td id=\"T_b205f9c6_b03f_11eb_b28d_0242ac1c0002row8_col2\" class=\"data row8 col2\" >21,453,100</td>\n",
              "                        <td id=\"T_b205f9c6_b03f_11eb_b28d_0242ac1c0002row8_col3\" class=\"data row8 col3\" >AAPL</td>\n",
              "            </tr>\n",
              "    </tbody></table>"
            ],
            "text/plain": [
              "<pandas.io.formats.style.Styler at 0x7f7900765fd0>"
            ]
          },
          "metadata": {
            "tags": []
          },
          "execution_count": 63
        }
      ]
    },
    {
      "cell_type": "markdown",
      "metadata": {
        "id": "0ZArZI1iw5sX"
      },
      "source": [
        "# Profile a DataFrame"
      ]
    },
    {
      "cell_type": "code",
      "metadata": {
        "id": "AsrHfc_fxmdc"
      },
      "source": [
        "!pip install pandas_profiling --upgrade"
      ],
      "execution_count": null,
      "outputs": []
    },
    {
      "cell_type": "code",
      "metadata": {
        "colab": {
          "base_uri": "https://localhost:8080/",
          "height": 505
        },
        "id": "uHwubZMXw9oH",
        "outputId": "5e3f86b5-20ac-44a5-a643-6d9fc027fa50"
      },
      "source": [
        "\n",
        "from pandas_profiling import ProfileReport\n",
        "ProfileReport(stocks)"
      ],
      "execution_count": 72,
      "outputs": [
        {
          "output_type": "error",
          "ename": "OSError",
          "evalue": "ignored",
          "traceback": [
            "\u001b[0;31m---------------------------------------------------------------------------\u001b[0m",
            "\u001b[0;31mFileNotFoundError\u001b[0m                         Traceback (most recent call last)",
            "\u001b[0;32m/usr/local/lib/python3.7/dist-packages/matplotlib/style/core.py\u001b[0m in \u001b[0;36muse\u001b[0;34m(style)\u001b[0m\n\u001b[1;32m    113\u001b[0m             \u001b[0;32mtry\u001b[0m\u001b[0;34m:\u001b[0m\u001b[0;34m\u001b[0m\u001b[0;34m\u001b[0m\u001b[0m\n\u001b[0;32m--> 114\u001b[0;31m                 \u001b[0mrc\u001b[0m \u001b[0;34m=\u001b[0m \u001b[0mrc_params_from_file\u001b[0m\u001b[0;34m(\u001b[0m\u001b[0mstyle\u001b[0m\u001b[0;34m,\u001b[0m \u001b[0muse_default_template\u001b[0m\u001b[0;34m=\u001b[0m\u001b[0;32mFalse\u001b[0m\u001b[0;34m)\u001b[0m\u001b[0;34m\u001b[0m\u001b[0;34m\u001b[0m\u001b[0m\n\u001b[0m\u001b[1;32m    115\u001b[0m                 \u001b[0m_apply_style\u001b[0m\u001b[0;34m(\u001b[0m\u001b[0mrc\u001b[0m\u001b[0;34m)\u001b[0m\u001b[0;34m\u001b[0m\u001b[0;34m\u001b[0m\u001b[0m\n",
            "\u001b[0;32m/usr/local/lib/python3.7/dist-packages/matplotlib/__init__.py\u001b[0m in \u001b[0;36mrc_params_from_file\u001b[0;34m(fname, fail_on_error, use_default_template)\u001b[0m\n\u001b[1;32m    983\u001b[0m     \"\"\"\n\u001b[0;32m--> 984\u001b[0;31m     \u001b[0mconfig_from_file\u001b[0m \u001b[0;34m=\u001b[0m \u001b[0m_rc_params_in_file\u001b[0m\u001b[0;34m(\u001b[0m\u001b[0mfname\u001b[0m\u001b[0;34m,\u001b[0m \u001b[0mfail_on_error\u001b[0m\u001b[0;34m)\u001b[0m\u001b[0;34m\u001b[0m\u001b[0;34m\u001b[0m\u001b[0m\n\u001b[0m\u001b[1;32m    985\u001b[0m \u001b[0;34m\u001b[0m\u001b[0m\n",
            "\u001b[0;32m/usr/local/lib/python3.7/dist-packages/matplotlib/__init__.py\u001b[0m in \u001b[0;36m_rc_params_in_file\u001b[0;34m(fname, fail_on_error)\u001b[0m\n\u001b[1;32m    913\u001b[0m     \u001b[0mrc_temp\u001b[0m \u001b[0;34m=\u001b[0m \u001b[0;34m{\u001b[0m\u001b[0;34m}\u001b[0m\u001b[0;34m\u001b[0m\u001b[0;34m\u001b[0m\u001b[0m\n\u001b[0;32m--> 914\u001b[0;31m     \u001b[0;32mwith\u001b[0m \u001b[0m_open_file_or_url\u001b[0m\u001b[0;34m(\u001b[0m\u001b[0mfname\u001b[0m\u001b[0;34m)\u001b[0m \u001b[0;32mas\u001b[0m \u001b[0mfd\u001b[0m\u001b[0;34m:\u001b[0m\u001b[0;34m\u001b[0m\u001b[0;34m\u001b[0m\u001b[0m\n\u001b[0m\u001b[1;32m    915\u001b[0m         \u001b[0;32mtry\u001b[0m\u001b[0;34m:\u001b[0m\u001b[0;34m\u001b[0m\u001b[0;34m\u001b[0m\u001b[0m\n",
            "\u001b[0;32m/usr/lib/python3.7/contextlib.py\u001b[0m in \u001b[0;36m__enter__\u001b[0;34m(self)\u001b[0m\n\u001b[1;32m    111\u001b[0m         \u001b[0;32mtry\u001b[0m\u001b[0;34m:\u001b[0m\u001b[0;34m\u001b[0m\u001b[0;34m\u001b[0m\u001b[0m\n\u001b[0;32m--> 112\u001b[0;31m             \u001b[0;32mreturn\u001b[0m \u001b[0mnext\u001b[0m\u001b[0;34m(\u001b[0m\u001b[0mself\u001b[0m\u001b[0;34m.\u001b[0m\u001b[0mgen\u001b[0m\u001b[0;34m)\u001b[0m\u001b[0;34m\u001b[0m\u001b[0;34m\u001b[0m\u001b[0m\n\u001b[0m\u001b[1;32m    113\u001b[0m         \u001b[0;32mexcept\u001b[0m \u001b[0mStopIteration\u001b[0m\u001b[0;34m:\u001b[0m\u001b[0;34m\u001b[0m\u001b[0;34m\u001b[0m\u001b[0m\n",
            "\u001b[0;32m/usr/local/lib/python3.7/dist-packages/matplotlib/__init__.py\u001b[0m in \u001b[0;36m_open_file_or_url\u001b[0;34m(fname)\u001b[0m\n\u001b[1;32m    899\u001b[0m             \u001b[0mencoding\u001b[0m \u001b[0;34m=\u001b[0m \u001b[0;34m\"utf-8\"\u001b[0m\u001b[0;34m\u001b[0m\u001b[0;34m\u001b[0m\u001b[0m\n\u001b[0;32m--> 900\u001b[0;31m         \u001b[0;32mwith\u001b[0m \u001b[0mopen\u001b[0m\u001b[0;34m(\u001b[0m\u001b[0mfname\u001b[0m\u001b[0;34m,\u001b[0m \u001b[0mencoding\u001b[0m\u001b[0;34m=\u001b[0m\u001b[0mencoding\u001b[0m\u001b[0;34m)\u001b[0m \u001b[0;32mas\u001b[0m \u001b[0mf\u001b[0m\u001b[0;34m:\u001b[0m\u001b[0;34m\u001b[0m\u001b[0;34m\u001b[0m\u001b[0m\n\u001b[0m\u001b[1;32m    901\u001b[0m             \u001b[0;32myield\u001b[0m \u001b[0mf\u001b[0m\u001b[0;34m\u001b[0m\u001b[0;34m\u001b[0m\u001b[0m\n",
            "\u001b[0;31mFileNotFoundError\u001b[0m: [Errno 2] No such file or directory: '/usr/local/lib/python3.7/dist-packages/pandas_profiling/pandas_profiling.mplstyle'",
            "\nDuring handling of the above exception, another exception occurred:\n",
            "\u001b[0;31mOSError\u001b[0m                                   Traceback (most recent call last)",
            "\u001b[0;32m<ipython-input-72-0f5d07c0eb4e>\u001b[0m in \u001b[0;36m<module>\u001b[0;34m()\u001b[0m\n\u001b[1;32m      1\u001b[0m \u001b[0;34m\u001b[0m\u001b[0m\n\u001b[1;32m      2\u001b[0m \u001b[0;32mfrom\u001b[0m \u001b[0mpandas_profiling\u001b[0m \u001b[0;32mimport\u001b[0m \u001b[0mProfileReport\u001b[0m\u001b[0;34m\u001b[0m\u001b[0;34m\u001b[0m\u001b[0m\n\u001b[0;32m----> 3\u001b[0;31m \u001b[0mProfileReport\u001b[0m\u001b[0;34m(\u001b[0m\u001b[0mstocks\u001b[0m\u001b[0;34m)\u001b[0m\u001b[0;34m\u001b[0m\u001b[0;34m\u001b[0m\u001b[0m\n\u001b[0m",
            "\u001b[0;32m/usr/local/lib/python3.7/dist-packages/pandas_profiling/__init__.py\u001b[0m in \u001b[0;36m__init__\u001b[0;34m(self, df, **kwargs)\u001b[0m\n",
            "\u001b[0;32m/usr/local/lib/python3.7/dist-packages/pandas_profiling/describe.py\u001b[0m in \u001b[0;36mdescribe\u001b[0;34m(df, bins, check_correlation, correlation_threshold, correlation_overrides, check_recoded, pool_size, **kwargs)\u001b[0m\n",
            "\u001b[0;32m/usr/local/lib/python3.7/dist-packages/matplotlib/style/core.py\u001b[0m in \u001b[0;36muse\u001b[0;34m(style)\u001b[0m\n\u001b[1;32m    118\u001b[0m                     \u001b[0;34m\"{!r} not found in the style library and input is not a \"\u001b[0m\u001b[0;34m\u001b[0m\u001b[0;34m\u001b[0m\u001b[0m\n\u001b[1;32m    119\u001b[0m                     \u001b[0;34m\"valid URL or path; see `style.available` for list of \"\u001b[0m\u001b[0;34m\u001b[0m\u001b[0;34m\u001b[0m\u001b[0m\n\u001b[0;32m--> 120\u001b[0;31m                     \"available styles\".format(style))\n\u001b[0m\u001b[1;32m    121\u001b[0m \u001b[0;34m\u001b[0m\u001b[0m\n\u001b[1;32m    122\u001b[0m \u001b[0;34m\u001b[0m\u001b[0m\n",
            "\u001b[0;31mOSError\u001b[0m: '/usr/local/lib/python3.7/dist-packages/pandas_profiling/pandas_profiling.mplstyle' not found in the style library and input is not a valid URL or path; see `style.available` for list of available styles"
          ]
        }
      ]
    },
    {
      "cell_type": "markdown",
      "metadata": {
        "id": "xdOmWeUP7fJB"
      },
      "source": [
        "# Read\n",
        "\n",
        "> show top,bottom 3 rows\n",
        "\n",
        "\n",
        "> show columns , data types\n",
        "\n",
        "\n",
        "\n"
      ]
    },
    {
      "cell_type": "code",
      "metadata": {
        "colab": {
          "base_uri": "https://localhost:8080/",
          "height": 173
        },
        "id": "u3zqCI0U9xiS",
        "outputId": "a43d4152-04d3-4c6b-a7c6-94874f7463ef"
      },
      "source": [
        "df.head(3)"
      ],
      "execution_count": null,
      "outputs": [
        {
          "output_type": "execute_result",
          "data": {
            "text/html": [
              "<div>\n",
              "<style scoped>\n",
              "    .dataframe tbody tr th:only-of-type {\n",
              "        vertical-align: middle;\n",
              "    }\n",
              "\n",
              "    .dataframe tbody tr th {\n",
              "        vertical-align: top;\n",
              "    }\n",
              "\n",
              "    .dataframe thead th {\n",
              "        text-align: right;\n",
              "    }\n",
              "</style>\n",
              "<table border=\"1\" class=\"dataframe\">\n",
              "  <thead>\n",
              "    <tr style=\"text-align: right;\">\n",
              "      <th></th>\n",
              "      <th>Index</th>\n",
              "      <th>Area_unit_2013_code</th>\n",
              "      <th>Area_unit_2013_label</th>\n",
              "      <th>Victimisations_calendar_year_2015</th>\n",
              "      <th>Population_mid_point_2015</th>\n",
              "      <th>Rate_per_10000_population</th>\n",
              "      <th>Rate_ratio_NZ_average_rate</th>\n",
              "      <th>Urban_area_2013_code</th>\n",
              "      <th>Urban_area_2013_label</th>\n",
              "      <th>Urban_area_type</th>\n",
              "      <th>Territorial_authority_area_2013_code</th>\n",
              "      <th>Territorial_authority_area_2013_label</th>\n",
              "      <th>Region_2013_code</th>\n",
              "      <th>Region_2013_label</th>\n",
              "    </tr>\n",
              "  </thead>\n",
              "  <tbody>\n",
              "    <tr>\n",
              "      <th>0</th>\n",
              "      <td>1</td>\n",
              "      <td>514102</td>\n",
              "      <td>Auckland Central West</td>\n",
              "      <td>550</td>\n",
              "      <td>15900</td>\n",
              "      <td>346</td>\n",
              "      <td>6.6</td>\n",
              "      <td>4</td>\n",
              "      <td>Central Auckland Zone</td>\n",
              "      <td>Main urban area</td>\n",
              "      <td>76</td>\n",
              "      <td>Auckland</td>\n",
              "      <td>2</td>\n",
              "      <td>Auckland Region</td>\n",
              "    </tr>\n",
              "    <tr>\n",
              "      <th>1</th>\n",
              "      <td>2</td>\n",
              "      <td>573101</td>\n",
              "      <td>Willis Street-Cambridge Terrace</td>\n",
              "      <td>447</td>\n",
              "      <td>8300</td>\n",
              "      <td>539</td>\n",
              "      <td>10.3</td>\n",
              "      <td>20</td>\n",
              "      <td>Wellington Zone</td>\n",
              "      <td>Main urban area</td>\n",
              "      <td>47</td>\n",
              "      <td>Wellington City</td>\n",
              "      <td>9</td>\n",
              "      <td>Wellington Region</td>\n",
              "    </tr>\n",
              "    <tr>\n",
              "      <th>2</th>\n",
              "      <td>3</td>\n",
              "      <td>529700</td>\n",
              "      <td>Hamilton Central</td>\n",
              "      <td>380</td>\n",
              "      <td>3170</td>\n",
              "      <td>1,199</td>\n",
              "      <td>22.9</td>\n",
              "      <td>6</td>\n",
              "      <td>Hamilton Zone</td>\n",
              "      <td>Main urban area</td>\n",
              "      <td>16</td>\n",
              "      <td>Hamilton City</td>\n",
              "      <td>3</td>\n",
              "      <td>Waikato Region</td>\n",
              "    </tr>\n",
              "  </tbody>\n",
              "</table>\n",
              "</div>"
            ],
            "text/plain": [
              "   Index  Area_unit_2013_code  ... Region_2013_code  Region_2013_label\n",
              "0      1               514102  ...                2    Auckland Region\n",
              "1      2               573101  ...                9  Wellington Region\n",
              "2      3               529700  ...                3     Waikato Region\n",
              "\n",
              "[3 rows x 14 columns]"
            ]
          },
          "metadata": {
            "tags": []
          },
          "execution_count": 22
        }
      ]
    },
    {
      "cell_type": "code",
      "metadata": {
        "colab": {
          "base_uri": "https://localhost:8080/",
          "height": 156
        },
        "id": "TFivRF5a_awc",
        "outputId": "d7182069-33ab-4128-d0fd-3ed2074b804b"
      },
      "source": [
        "df.tail(3)"
      ],
      "execution_count": null,
      "outputs": [
        {
          "output_type": "execute_result",
          "data": {
            "text/html": [
              "<div>\n",
              "<style scoped>\n",
              "    .dataframe tbody tr th:only-of-type {\n",
              "        vertical-align: middle;\n",
              "    }\n",
              "\n",
              "    .dataframe tbody tr th {\n",
              "        vertical-align: top;\n",
              "    }\n",
              "\n",
              "    .dataframe thead th {\n",
              "        text-align: right;\n",
              "    }\n",
              "</style>\n",
              "<table border=\"1\" class=\"dataframe\">\n",
              "  <thead>\n",
              "    <tr style=\"text-align: right;\">\n",
              "      <th></th>\n",
              "      <th>Index</th>\n",
              "      <th>Area_unit_2013_code</th>\n",
              "      <th>Area_unit_2013_label</th>\n",
              "      <th>Victimisations_calendar_year_2015</th>\n",
              "      <th>Population_mid_point_2015</th>\n",
              "      <th>Rate_per_10000_population</th>\n",
              "      <th>Rate_ratio_NZ_average_rate</th>\n",
              "      <th>Urban_area_2013_code</th>\n",
              "      <th>Urban_area_2013_label</th>\n",
              "      <th>Urban_area_type</th>\n",
              "      <th>Territorial_authority_area_2013_code</th>\n",
              "      <th>Territorial_authority_area_2013_label</th>\n",
              "      <th>Region_2013_code</th>\n",
              "      <th>Region_2013_label</th>\n",
              "    </tr>\n",
              "  </thead>\n",
              "  <tbody>\n",
              "    <tr>\n",
              "      <th>2017</th>\n",
              "      <td>2018</td>\n",
              "      <td>536513</td>\n",
              "      <td>Bethlehem East</td>\n",
              "      <td>0</td>\n",
              "      <td>3590</td>\n",
              "      <td>-</td>\n",
              "      <td>-</td>\n",
              "      <td>9</td>\n",
              "      <td>Tauranga</td>\n",
              "      <td>Main urban area</td>\n",
              "      <td>23</td>\n",
              "      <td>Tauranga City</td>\n",
              "      <td>4</td>\n",
              "      <td>Bay of Plenty Region</td>\n",
              "    </tr>\n",
              "    <tr>\n",
              "      <th>2018</th>\n",
              "      <td>2019</td>\n",
              "      <td>574302</td>\n",
              "      <td>Te Kainga</td>\n",
              "      <td>0</td>\n",
              "      <td>4020</td>\n",
              "      <td>-</td>\n",
              "      <td>-</td>\n",
              "      <td>20</td>\n",
              "      <td>Wellington Zone</td>\n",
              "      <td>Main urban area</td>\n",
              "      <td>47</td>\n",
              "      <td>Wellington City</td>\n",
              "      <td>9</td>\n",
              "      <td>Wellington Region</td>\n",
              "    </tr>\n",
              "    <tr>\n",
              "      <th>2019</th>\n",
              "      <td>2020</td>\n",
              "      <td>527007</td>\n",
              "      <td>Horsham Downs</td>\n",
              "      <td>0</td>\n",
              "      <td>5440</td>\n",
              "      <td>-</td>\n",
              "      <td>-</td>\n",
              "      <td>6</td>\n",
              "      <td>Hamilton Zone</td>\n",
              "      <td>Main urban area</td>\n",
              "      <td>16</td>\n",
              "      <td>Hamilton City</td>\n",
              "      <td>3</td>\n",
              "      <td>Waikato Region</td>\n",
              "    </tr>\n",
              "  </tbody>\n",
              "</table>\n",
              "</div>"
            ],
            "text/plain": [
              "      Index  Area_unit_2013_code  ... Region_2013_code     Region_2013_label\n",
              "2017   2018               536513  ...                4  Bay of Plenty Region\n",
              "2018   2019               574302  ...                9     Wellington Region\n",
              "2019   2020               527007  ...                3        Waikato Region\n",
              "\n",
              "[3 rows x 14 columns]"
            ]
          },
          "metadata": {
            "tags": []
          },
          "execution_count": 15
        }
      ]
    },
    {
      "cell_type": "code",
      "metadata": {
        "colab": {
          "base_uri": "https://localhost:8080/"
        },
        "id": "8wgRMWFS_JnI",
        "outputId": "5eb577ca-246a-4ce5-b6af-2e46681966d5"
      },
      "source": [
        "df.columns"
      ],
      "execution_count": null,
      "outputs": [
        {
          "output_type": "execute_result",
          "data": {
            "text/plain": [
              "Index(['Index', 'Area_unit_2013_code', 'Area_unit_2013_label',\n",
              "       'Victimisations_calendar_year_2015', 'Population_mid_point_2015',\n",
              "       ' Rate_per_10000_population ', ' Rate_ratio_NZ_average_rate ',\n",
              "       'Urban_area_2013_code', 'Urban_area_2013_label', 'Urban_area_type',\n",
              "       'Territorial_authority_area_2013_code',\n",
              "       'Territorial_authority_area_2013_label', 'Region_2013_code',\n",
              "       'Region_2013_label'],\n",
              "      dtype='object')"
            ]
          },
          "metadata": {
            "tags": []
          },
          "execution_count": 16
        }
      ]
    },
    {
      "cell_type": "code",
      "metadata": {
        "colab": {
          "base_uri": "https://localhost:8080/"
        },
        "id": "Ulpv2-57_etP",
        "outputId": "6a054cfd-f122-4f81-a20e-96007b95ad0c"
      },
      "source": [
        "df.dtypes"
      ],
      "execution_count": null,
      "outputs": [
        {
          "output_type": "execute_result",
          "data": {
            "text/plain": [
              "Index                                     int64\n",
              "Area_unit_2013_code                       int64\n",
              "Area_unit_2013_label                     object\n",
              "Victimisations_calendar_year_2015         int64\n",
              "Population_mid_point_2015                 int64\n",
              " Rate_per_10000_population               object\n",
              " Rate_ratio_NZ_average_rate              object\n",
              "Urban_area_2013_code                      int64\n",
              "Urban_area_2013_label                    object\n",
              "Urban_area_type                          object\n",
              "Territorial_authority_area_2013_code      int64\n",
              "Territorial_authority_area_2013_label    object\n",
              "Region_2013_code                          int64\n",
              "Region_2013_label                        object\n",
              "dtype: object"
            ]
          },
          "metadata": {
            "tags": []
          },
          "execution_count": 17
        }
      ]
    },
    {
      "cell_type": "markdown",
      "metadata": {
        "id": "yFXkwwE-7gJu"
      },
      "source": [
        "# Summary Statistics"
      ]
    },
    {
      "cell_type": "code",
      "metadata": {
        "colab": {
          "base_uri": "https://localhost:8080/",
          "height": 304
        },
        "id": "ruE4l6mI_624",
        "outputId": "2828e633-30c1-4b40-8bfe-13c36573de8b"
      },
      "source": [
        "df.describe()"
      ],
      "execution_count": null,
      "outputs": [
        {
          "output_type": "execute_result",
          "data": {
            "text/html": [
              "<div>\n",
              "<style scoped>\n",
              "    .dataframe tbody tr th:only-of-type {\n",
              "        vertical-align: middle;\n",
              "    }\n",
              "\n",
              "    .dataframe tbody tr th {\n",
              "        vertical-align: top;\n",
              "    }\n",
              "\n",
              "    .dataframe thead th {\n",
              "        text-align: right;\n",
              "    }\n",
              "</style>\n",
              "<table border=\"1\" class=\"dataframe\">\n",
              "  <thead>\n",
              "    <tr style=\"text-align: right;\">\n",
              "      <th></th>\n",
              "      <th>Index</th>\n",
              "      <th>Area_unit_2013_code</th>\n",
              "      <th>Victimisations_calendar_year_2015</th>\n",
              "      <th>Population_mid_point_2015</th>\n",
              "      <th>Urban_area_2013_code</th>\n",
              "      <th>Territorial_authority_area_2013_code</th>\n",
              "      <th>Region_2013_code</th>\n",
              "    </tr>\n",
              "  </thead>\n",
              "  <tbody>\n",
              "    <tr>\n",
              "      <th>count</th>\n",
              "      <td>2020.000000</td>\n",
              "      <td>2020.000000</td>\n",
              "      <td>2020.000000</td>\n",
              "      <td>2020.000000</td>\n",
              "      <td>2020.000000</td>\n",
              "      <td>2020.000000</td>\n",
              "      <td>2020.000000</td>\n",
              "    </tr>\n",
              "    <tr>\n",
              "      <th>mean</th>\n",
              "      <td>1010.500000</td>\n",
              "      <td>558310.185644</td>\n",
              "      <td>11.898515</td>\n",
              "      <td>2274.975248</td>\n",
              "      <td>190.513861</td>\n",
              "      <td>71.168317</td>\n",
              "      <td>8.205941</td>\n",
              "    </tr>\n",
              "    <tr>\n",
              "      <th>std</th>\n",
              "      <td>583.268092</td>\n",
              "      <td>36014.196850</td>\n",
              "      <td>27.959854</td>\n",
              "      <td>1871.846299</td>\n",
              "      <td>221.931445</td>\n",
              "      <td>143.492317</td>\n",
              "      <td>10.171251</td>\n",
              "    </tr>\n",
              "    <tr>\n",
              "      <th>min</th>\n",
              "      <td>1.000000</td>\n",
              "      <td>500100.000000</td>\n",
              "      <td>0.000000</td>\n",
              "      <td>0.000000</td>\n",
              "      <td>1.000000</td>\n",
              "      <td>1.000000</td>\n",
              "      <td>1.000000</td>\n",
              "    </tr>\n",
              "    <tr>\n",
              "      <th>25%</th>\n",
              "      <td>505.750000</td>\n",
              "      <td>526176.500000</td>\n",
              "      <td>1.000000</td>\n",
              "      <td>660.000000</td>\n",
              "      <td>10.000000</td>\n",
              "      <td>31.000000</td>\n",
              "      <td>2.000000</td>\n",
              "    </tr>\n",
              "    <tr>\n",
              "      <th>50%</th>\n",
              "      <td>1010.500000</td>\n",
              "      <td>555350.000000</td>\n",
              "      <td>4.000000</td>\n",
              "      <td>1985.000000</td>\n",
              "      <td>23.000000</td>\n",
              "      <td>53.000000</td>\n",
              "      <td>7.000000</td>\n",
              "    </tr>\n",
              "    <tr>\n",
              "      <th>75%</th>\n",
              "      <td>1515.250000</td>\n",
              "      <td>587302.250000</td>\n",
              "      <td>13.000000</td>\n",
              "      <td>3462.500000</td>\n",
              "      <td>502.000000</td>\n",
              "      <td>75.000000</td>\n",
              "      <td>13.000000</td>\n",
              "    </tr>\n",
              "    <tr>\n",
              "      <th>max</th>\n",
              "      <td>2020.000000</td>\n",
              "      <td>666673.000000</td>\n",
              "      <td>550.000000</td>\n",
              "      <td>15900.000000</td>\n",
              "      <td>511.000000</td>\n",
              "      <td>999.000000</td>\n",
              "      <td>99.000000</td>\n",
              "    </tr>\n",
              "  </tbody>\n",
              "</table>\n",
              "</div>"
            ],
            "text/plain": [
              "             Index  ...  Region_2013_code\n",
              "count  2020.000000  ...       2020.000000\n",
              "mean   1010.500000  ...          8.205941\n",
              "std     583.268092  ...         10.171251\n",
              "min       1.000000  ...          1.000000\n",
              "25%     505.750000  ...          2.000000\n",
              "50%    1010.500000  ...          7.000000\n",
              "75%    1515.250000  ...         13.000000\n",
              "max    2020.000000  ...         99.000000\n",
              "\n",
              "[8 rows x 7 columns]"
            ]
          },
          "metadata": {
            "tags": []
          },
          "execution_count": 18
        }
      ]
    },
    {
      "cell_type": "code",
      "metadata": {
        "id": "8S8z_XSg_-pq",
        "colab": {
          "base_uri": "https://localhost:8080/",
          "height": 202
        },
        "outputId": "e81256c4-40db-42be-97c5-7457b2accc57"
      },
      "source": [
        "df.describe(include =\"object\")"
      ],
      "execution_count": null,
      "outputs": [
        {
          "output_type": "execute_result",
          "data": {
            "text/html": [
              "<div>\n",
              "<style scoped>\n",
              "    .dataframe tbody tr th:only-of-type {\n",
              "        vertical-align: middle;\n",
              "    }\n",
              "\n",
              "    .dataframe tbody tr th {\n",
              "        vertical-align: top;\n",
              "    }\n",
              "\n",
              "    .dataframe thead th {\n",
              "        text-align: right;\n",
              "    }\n",
              "</style>\n",
              "<table border=\"1\" class=\"dataframe\">\n",
              "  <thead>\n",
              "    <tr style=\"text-align: right;\">\n",
              "      <th></th>\n",
              "      <th>Area_unit_2013_label</th>\n",
              "      <th>Rate_per_10000_population</th>\n",
              "      <th>Rate_ratio_NZ_average_rate</th>\n",
              "      <th>Urban_area_2013_label</th>\n",
              "      <th>Urban_area_type</th>\n",
              "      <th>Territorial_authority_area_2013_label</th>\n",
              "      <th>Region_2013_label</th>\n",
              "    </tr>\n",
              "  </thead>\n",
              "  <tbody>\n",
              "    <tr>\n",
              "      <th>count</th>\n",
              "      <td>2020</td>\n",
              "      <td>2020</td>\n",
              "      <td>2020</td>\n",
              "      <td>2020</td>\n",
              "      <td>2020</td>\n",
              "      <td>2020</td>\n",
              "      <td>2020</td>\n",
              "    </tr>\n",
              "    <tr>\n",
              "      <th>unique</th>\n",
              "      <td>2020</td>\n",
              "      <td>238</td>\n",
              "      <td>102</td>\n",
              "      <td>150</td>\n",
              "      <td>4</td>\n",
              "      <td>68</td>\n",
              "      <td>17</td>\n",
              "    </tr>\n",
              "    <tr>\n",
              "      <th>top</th>\n",
              "      <td>Bare Island</td>\n",
              "      <td>-</td>\n",
              "      <td>-</td>\n",
              "      <td>Rural (Incl.some Off Shore Islands)</td>\n",
              "      <td>Main urban area</td>\n",
              "      <td>Auckland</td>\n",
              "      <td>Auckland Region</td>\n",
              "    </tr>\n",
              "    <tr>\n",
              "      <th>freq</th>\n",
              "      <td>1</td>\n",
              "      <td>417</td>\n",
              "      <td>417</td>\n",
              "      <td>387</td>\n",
              "      <td>1112</td>\n",
              "      <td>437</td>\n",
              "      <td>437</td>\n",
              "    </tr>\n",
              "  </tbody>\n",
              "</table>\n",
              "</div>"
            ],
            "text/plain": [
              "       Area_unit_2013_label  ... Region_2013_label\n",
              "count                  2020  ...              2020\n",
              "unique                 2020  ...                17\n",
              "top             Bare Island  ...   Auckland Region\n",
              "freq                      1  ...               437\n",
              "\n",
              "[4 rows x 7 columns]"
            ]
          },
          "metadata": {
            "tags": []
          },
          "execution_count": 19
        }
      ]
    },
    {
      "cell_type": "markdown",
      "metadata": {
        "id": "8nLHbU72_r6W"
      },
      "source": [
        "# Filtering Columns\n",
        "\n",
        "\n",
        "> column base\n",
        "\n",
        "\n",
        "> row base\n",
        "\n",
        "\n",
        "\n"
      ]
    },
    {
      "cell_type": "code",
      "metadata": {
        "colab": {
          "base_uri": "https://localhost:8080/",
          "height": 402
        },
        "id": "GM5uNwBh_wKO",
        "outputId": "af40a836-dc39-465d-a896-9282b3bcbaed"
      },
      "source": [
        "df= df[(df['Area_unit_2013_code']!=\"null\")]\n",
        "\n",
        "df[['Area_unit_2013_code','Population_mid_point_2015']]"
      ],
      "execution_count": null,
      "outputs": [
        {
          "output_type": "execute_result",
          "data": {
            "text/html": [
              "<div>\n",
              "<style scoped>\n",
              "    .dataframe tbody tr th:only-of-type {\n",
              "        vertical-align: middle;\n",
              "    }\n",
              "\n",
              "    .dataframe tbody tr th {\n",
              "        vertical-align: top;\n",
              "    }\n",
              "\n",
              "    .dataframe thead th {\n",
              "        text-align: right;\n",
              "    }\n",
              "</style>\n",
              "<table border=\"1\" class=\"dataframe\">\n",
              "  <thead>\n",
              "    <tr style=\"text-align: right;\">\n",
              "      <th></th>\n",
              "      <th>Area_unit_2013_code</th>\n",
              "      <th>Population_mid_point_2015</th>\n",
              "    </tr>\n",
              "  </thead>\n",
              "  <tbody>\n",
              "    <tr>\n",
              "      <th>0</th>\n",
              "      <td>514102</td>\n",
              "      <td>15900</td>\n",
              "    </tr>\n",
              "    <tr>\n",
              "      <th>1</th>\n",
              "      <td>573101</td>\n",
              "      <td>8300</td>\n",
              "    </tr>\n",
              "    <tr>\n",
              "      <th>2</th>\n",
              "      <td>529700</td>\n",
              "      <td>3170</td>\n",
              "    </tr>\n",
              "    <tr>\n",
              "      <th>3</th>\n",
              "      <td>514103</td>\n",
              "      <td>13250</td>\n",
              "    </tr>\n",
              "    <tr>\n",
              "      <th>4</th>\n",
              "      <td>591500</td>\n",
              "      <td>570</td>\n",
              "    </tr>\n",
              "    <tr>\n",
              "      <th>...</th>\n",
              "      <td>...</td>\n",
              "      <td>...</td>\n",
              "    </tr>\n",
              "    <tr>\n",
              "      <th>2015</th>\n",
              "      <td>506653</td>\n",
              "      <td>3510</td>\n",
              "    </tr>\n",
              "    <tr>\n",
              "      <th>2016</th>\n",
              "      <td>610601</td>\n",
              "      <td>3590</td>\n",
              "    </tr>\n",
              "    <tr>\n",
              "      <th>2017</th>\n",
              "      <td>536513</td>\n",
              "      <td>3590</td>\n",
              "    </tr>\n",
              "    <tr>\n",
              "      <th>2018</th>\n",
              "      <td>574302</td>\n",
              "      <td>4020</td>\n",
              "    </tr>\n",
              "    <tr>\n",
              "      <th>2019</th>\n",
              "      <td>527007</td>\n",
              "      <td>5440</td>\n",
              "    </tr>\n",
              "  </tbody>\n",
              "</table>\n",
              "<p>2020 rows × 2 columns</p>\n",
              "</div>"
            ],
            "text/plain": [
              "      Area_unit_2013_code  Population_mid_point_2015\n",
              "0                  514102                      15900\n",
              "1                  573101                       8300\n",
              "2                  529700                       3170\n",
              "3                  514103                      13250\n",
              "4                  591500                        570\n",
              "...                   ...                        ...\n",
              "2015               506653                       3510\n",
              "2016               610601                       3590\n",
              "2017               536513                       3590\n",
              "2018               574302                       4020\n",
              "2019               527007                       5440\n",
              "\n",
              "[2020 rows x 2 columns]"
            ]
          },
          "metadata": {
            "tags": []
          },
          "execution_count": 35
        }
      ]
    },
    {
      "cell_type": "code",
      "metadata": {
        "colab": {
          "base_uri": "https://localhost:8080/"
        },
        "id": "GQN1cd9RAzKp",
        "outputId": "9ab600e5-cc36-4285-baa1-80e106adf974"
      },
      "source": [
        "df.Area_unit_2013_code.unique()"
      ],
      "execution_count": null,
      "outputs": [
        {
          "output_type": "execute_result",
          "data": {
            "text/plain": [
              "array([514102, 573101, 529700, ..., 536513, 574302, 527007])"
            ]
          },
          "metadata": {
            "tags": []
          },
          "execution_count": 38
        }
      ]
    },
    {
      "cell_type": "code",
      "metadata": {
        "colab": {
          "base_uri": "https://localhost:8080/"
        },
        "id": "L0lV2bUSCFd5",
        "outputId": "6f6d624b-2b63-4040-db68-c8a673bc9ad1"
      },
      "source": [
        "victs = df.Victimisations_calendar_year_2015\n",
        "popMid = df.Population_mid_point_2015\n",
        "\n",
        "df[(victs >= victs.mean()) &(popMid < popMid.mean())].shape\n"
      ],
      "execution_count": null,
      "outputs": [
        {
          "output_type": "execute_result",
          "data": {
            "text/plain": [
              "(111, 14)"
            ]
          },
          "metadata": {
            "tags": []
          },
          "execution_count": 44
        }
      ]
    },
    {
      "cell_type": "markdown",
      "metadata": {
        "id": "m7RrKLzhDtxZ"
      },
      "source": [
        "# iloc indexing"
      ]
    },
    {
      "cell_type": "code",
      "metadata": {
        "colab": {
          "base_uri": "https://localhost:8080/",
          "height": 291
        },
        "id": "WOSss5B_DnCw",
        "outputId": "9897a389-40ab-431f-e8ed-982a44840e97"
      },
      "source": [
        "# row 5\n",
        "df.iloc[4]\n",
        "\n",
        "# row 5 column 1\n",
        "df.iloc[4,0]\n",
        "\n",
        "# rows from 5 to 10\n",
        "df.iloc[4:11]"
      ],
      "execution_count": null,
      "outputs": [
        {
          "output_type": "execute_result",
          "data": {
            "text/html": [
              "<div>\n",
              "<style scoped>\n",
              "    .dataframe tbody tr th:only-of-type {\n",
              "        vertical-align: middle;\n",
              "    }\n",
              "\n",
              "    .dataframe tbody tr th {\n",
              "        vertical-align: top;\n",
              "    }\n",
              "\n",
              "    .dataframe thead th {\n",
              "        text-align: right;\n",
              "    }\n",
              "</style>\n",
              "<table border=\"1\" class=\"dataframe\">\n",
              "  <thead>\n",
              "    <tr style=\"text-align: right;\">\n",
              "      <th></th>\n",
              "      <th>Index</th>\n",
              "      <th>Area_unit_2013_code</th>\n",
              "      <th>Area_unit_2013_label</th>\n",
              "      <th>Victimisations_calendar_year_2015</th>\n",
              "      <th>Population_mid_point_2015</th>\n",
              "      <th>Rate_per_10000_population</th>\n",
              "      <th>Rate_ratio_NZ_average_rate</th>\n",
              "      <th>Urban_area_2013_code</th>\n",
              "      <th>Urban_area_2013_label</th>\n",
              "      <th>Urban_area_type</th>\n",
              "      <th>Territorial_authority_area_2013_code</th>\n",
              "      <th>Territorial_authority_area_2013_label</th>\n",
              "      <th>Region_2013_code</th>\n",
              "      <th>Region_2013_label</th>\n",
              "    </tr>\n",
              "  </thead>\n",
              "  <tbody>\n",
              "    <tr>\n",
              "      <th>4</th>\n",
              "      <td>5</td>\n",
              "      <td>591500</td>\n",
              "      <td>Cathedral Square</td>\n",
              "      <td>305</td>\n",
              "      <td>570</td>\n",
              "      <td>5,351</td>\n",
              "      <td>102.3</td>\n",
              "      <td>22</td>\n",
              "      <td>Christchurch</td>\n",
              "      <td>Main urban area</td>\n",
              "      <td>60</td>\n",
              "      <td>Christchurch City</td>\n",
              "      <td>13</td>\n",
              "      <td>Canterbury Region</td>\n",
              "    </tr>\n",
              "    <tr>\n",
              "      <th>5</th>\n",
              "      <td>6</td>\n",
              "      <td>514101</td>\n",
              "      <td>Auckland Harbourside</td>\n",
              "      <td>253</td>\n",
              "      <td>5680</td>\n",
              "      <td>445</td>\n",
              "      <td>8.5</td>\n",
              "      <td>4</td>\n",
              "      <td>Central Auckland Zone</td>\n",
              "      <td>Main urban area</td>\n",
              "      <td>76</td>\n",
              "      <td>Auckland</td>\n",
              "      <td>2</td>\n",
              "      <td>Auckland Region</td>\n",
              "    </tr>\n",
              "    <tr>\n",
              "      <th>6</th>\n",
              "      <td>7</td>\n",
              "      <td>524604</td>\n",
              "      <td>Manukau Central</td>\n",
              "      <td>192</td>\n",
              "      <td>900</td>\n",
              "      <td>2,133</td>\n",
              "      <td>40.8</td>\n",
              "      <td>5</td>\n",
              "      <td>Southern Auckland Zone</td>\n",
              "      <td>Main urban area</td>\n",
              "      <td>76</td>\n",
              "      <td>Auckland</td>\n",
              "      <td>2</td>\n",
              "      <td>Auckland Region</td>\n",
              "    </tr>\n",
              "    <tr>\n",
              "      <th>7</th>\n",
              "      <td>8</td>\n",
              "      <td>562800</td>\n",
              "      <td>Palmerston North Central</td>\n",
              "      <td>190</td>\n",
              "      <td>3060</td>\n",
              "      <td>621</td>\n",
              "      <td>11.9</td>\n",
              "      <td>16</td>\n",
              "      <td>Palmerston North</td>\n",
              "      <td>Main urban area</td>\n",
              "      <td>40</td>\n",
              "      <td>Palmerston North City</td>\n",
              "      <td>8</td>\n",
              "      <td>Manawatu-Wanganui Region</td>\n",
              "    </tr>\n",
              "    <tr>\n",
              "      <th>8</th>\n",
              "      <td>9</td>\n",
              "      <td>540410</td>\n",
              "      <td>Kuirau</td>\n",
              "      <td>168</td>\n",
              "      <td>1290</td>\n",
              "      <td>1,302</td>\n",
              "      <td>24.9</td>\n",
              "      <td>10</td>\n",
              "      <td>Rotorua</td>\n",
              "      <td>Main urban area</td>\n",
              "      <td>24</td>\n",
              "      <td>Rotorua District</td>\n",
              "      <td>4</td>\n",
              "      <td>Bay of Plenty Region</td>\n",
              "    </tr>\n",
              "    <tr>\n",
              "      <th>9</th>\n",
              "      <td>10</td>\n",
              "      <td>538201</td>\n",
              "      <td>Tauranga Central</td>\n",
              "      <td>167</td>\n",
              "      <td>2270</td>\n",
              "      <td>736</td>\n",
              "      <td>14.1</td>\n",
              "      <td>9</td>\n",
              "      <td>Tauranga</td>\n",
              "      <td>Main urban area</td>\n",
              "      <td>23</td>\n",
              "      <td>Tauranga City</td>\n",
              "      <td>4</td>\n",
              "      <td>Bay of Plenty Region</td>\n",
              "    </tr>\n",
              "    <tr>\n",
              "      <th>10</th>\n",
              "      <td>11</td>\n",
              "      <td>603100</td>\n",
              "      <td>Stuart St-Frederick St</td>\n",
              "      <td>154</td>\n",
              "      <td>3360</td>\n",
              "      <td>458</td>\n",
              "      <td>8.8</td>\n",
              "      <td>23</td>\n",
              "      <td>Dunedin</td>\n",
              "      <td>Main urban area</td>\n",
              "      <td>71</td>\n",
              "      <td>Dunedin City</td>\n",
              "      <td>14</td>\n",
              "      <td>Otago Region</td>\n",
              "    </tr>\n",
              "  </tbody>\n",
              "</table>\n",
              "</div>"
            ],
            "text/plain": [
              "    Index  Area_unit_2013_code  ... Region_2013_code         Region_2013_label\n",
              "4       5               591500  ...               13         Canterbury Region\n",
              "5       6               514101  ...                2           Auckland Region\n",
              "6       7               524604  ...                2           Auckland Region\n",
              "7       8               562800  ...                8  Manawatu-Wanganui Region\n",
              "8       9               540410  ...                4      Bay of Plenty Region\n",
              "9      10               538201  ...                4      Bay of Plenty Region\n",
              "10     11               603100  ...               14              Otago Region\n",
              "\n",
              "[7 rows x 14 columns]"
            ]
          },
          "metadata": {
            "tags": []
          },
          "execution_count": 50
        }
      ]
    },
    {
      "cell_type": "markdown",
      "metadata": {
        "id": "G6Pua_x0Eetj"
      },
      "source": [
        "# loc indexing"
      ]
    },
    {
      "cell_type": "code",
      "metadata": {
        "colab": {
          "base_uri": "https://localhost:8080/",
          "height": 262
        },
        "id": "609-8TgeEd8j",
        "outputId": "3b110a87-f954-4821-e511-046596145b78"
      },
      "source": [
        "dfCopy = df.copy()\n",
        "dfCopy.set_index('Area_unit_2013_label',inplace = True)\n",
        "dfCopy.head()"
      ],
      "execution_count": null,
      "outputs": [
        {
          "output_type": "execute_result",
          "data": {
            "text/html": [
              "<div>\n",
              "<style scoped>\n",
              "    .dataframe tbody tr th:only-of-type {\n",
              "        vertical-align: middle;\n",
              "    }\n",
              "\n",
              "    .dataframe tbody tr th {\n",
              "        vertical-align: top;\n",
              "    }\n",
              "\n",
              "    .dataframe thead th {\n",
              "        text-align: right;\n",
              "    }\n",
              "</style>\n",
              "<table border=\"1\" class=\"dataframe\">\n",
              "  <thead>\n",
              "    <tr style=\"text-align: right;\">\n",
              "      <th></th>\n",
              "      <th>Index</th>\n",
              "      <th>Area_unit_2013_code</th>\n",
              "      <th>Victimisations_calendar_year_2015</th>\n",
              "      <th>Population_mid_point_2015</th>\n",
              "      <th>Rate_per_10000_population</th>\n",
              "      <th>Rate_ratio_NZ_average_rate</th>\n",
              "      <th>Urban_area_2013_code</th>\n",
              "      <th>Urban_area_2013_label</th>\n",
              "      <th>Urban_area_type</th>\n",
              "      <th>Territorial_authority_area_2013_code</th>\n",
              "      <th>Territorial_authority_area_2013_label</th>\n",
              "      <th>Region_2013_code</th>\n",
              "      <th>Region_2013_label</th>\n",
              "    </tr>\n",
              "    <tr>\n",
              "      <th>Area_unit_2013_label</th>\n",
              "      <th></th>\n",
              "      <th></th>\n",
              "      <th></th>\n",
              "      <th></th>\n",
              "      <th></th>\n",
              "      <th></th>\n",
              "      <th></th>\n",
              "      <th></th>\n",
              "      <th></th>\n",
              "      <th></th>\n",
              "      <th></th>\n",
              "      <th></th>\n",
              "      <th></th>\n",
              "    </tr>\n",
              "  </thead>\n",
              "  <tbody>\n",
              "    <tr>\n",
              "      <th>Auckland Central West</th>\n",
              "      <td>1</td>\n",
              "      <td>514102</td>\n",
              "      <td>550</td>\n",
              "      <td>15900</td>\n",
              "      <td>346</td>\n",
              "      <td>6.6</td>\n",
              "      <td>4</td>\n",
              "      <td>Central Auckland Zone</td>\n",
              "      <td>Main urban area</td>\n",
              "      <td>76</td>\n",
              "      <td>Auckland</td>\n",
              "      <td>2</td>\n",
              "      <td>Auckland Region</td>\n",
              "    </tr>\n",
              "    <tr>\n",
              "      <th>Willis Street-Cambridge Terrace</th>\n",
              "      <td>2</td>\n",
              "      <td>573101</td>\n",
              "      <td>447</td>\n",
              "      <td>8300</td>\n",
              "      <td>539</td>\n",
              "      <td>10.3</td>\n",
              "      <td>20</td>\n",
              "      <td>Wellington Zone</td>\n",
              "      <td>Main urban area</td>\n",
              "      <td>47</td>\n",
              "      <td>Wellington City</td>\n",
              "      <td>9</td>\n",
              "      <td>Wellington Region</td>\n",
              "    </tr>\n",
              "    <tr>\n",
              "      <th>Hamilton Central</th>\n",
              "      <td>3</td>\n",
              "      <td>529700</td>\n",
              "      <td>380</td>\n",
              "      <td>3170</td>\n",
              "      <td>1,199</td>\n",
              "      <td>22.9</td>\n",
              "      <td>6</td>\n",
              "      <td>Hamilton Zone</td>\n",
              "      <td>Main urban area</td>\n",
              "      <td>16</td>\n",
              "      <td>Hamilton City</td>\n",
              "      <td>3</td>\n",
              "      <td>Waikato Region</td>\n",
              "    </tr>\n",
              "    <tr>\n",
              "      <th>Auckland Central East</th>\n",
              "      <td>4</td>\n",
              "      <td>514103</td>\n",
              "      <td>375</td>\n",
              "      <td>13250</td>\n",
              "      <td>283</td>\n",
              "      <td>5.4</td>\n",
              "      <td>4</td>\n",
              "      <td>Central Auckland Zone</td>\n",
              "      <td>Main urban area</td>\n",
              "      <td>76</td>\n",
              "      <td>Auckland</td>\n",
              "      <td>2</td>\n",
              "      <td>Auckland Region</td>\n",
              "    </tr>\n",
              "    <tr>\n",
              "      <th>Cathedral Square</th>\n",
              "      <td>5</td>\n",
              "      <td>591500</td>\n",
              "      <td>305</td>\n",
              "      <td>570</td>\n",
              "      <td>5,351</td>\n",
              "      <td>102.3</td>\n",
              "      <td>22</td>\n",
              "      <td>Christchurch</td>\n",
              "      <td>Main urban area</td>\n",
              "      <td>60</td>\n",
              "      <td>Christchurch City</td>\n",
              "      <td>13</td>\n",
              "      <td>Canterbury Region</td>\n",
              "    </tr>\n",
              "  </tbody>\n",
              "</table>\n",
              "</div>"
            ],
            "text/plain": [
              "                                 Index  ...  Region_2013_label\n",
              "Area_unit_2013_label                    ...                   \n",
              "Auckland Central West                1  ...    Auckland Region\n",
              "Willis Street-Cambridge Terrace      2  ...  Wellington Region\n",
              "Hamilton Central                     3  ...     Waikato Region\n",
              "Auckland Central East                4  ...    Auckland Region\n",
              "Cathedral Square                     5  ...  Canterbury Region\n",
              "\n",
              "[5 rows x 13 columns]"
            ]
          },
          "metadata": {
            "tags": []
          },
          "execution_count": 52
        }
      ]
    },
    {
      "cell_type": "markdown",
      "metadata": {
        "id": "ccdCa8PrFkne"
      },
      "source": [
        "# Update\n",
        "\n",
        "\n",
        "> drop rows\n",
        "> add new column\n",
        "> condition based updating using apply\n",
        "\n"
      ]
    },
    {
      "cell_type": "code",
      "metadata": {
        "colab": {
          "base_uri": "https://localhost:8080/"
        },
        "id": "M2_pnHSYFhET",
        "outputId": "f0b773db-f3f8-4769-f2b1-d72f33156656"
      },
      "source": [
        "# drop rows with null value\n",
        "df.dropna(inplace= True)\n",
        "df.isnull().sum()"
      ],
      "execution_count": null,
      "outputs": [
        {
          "output_type": "execute_result",
          "data": {
            "text/plain": [
              "Index                                    0\n",
              "Area_unit_2013_code                      0\n",
              "Area_unit_2013_label                     0\n",
              "Victimisations_calendar_year_2015        0\n",
              "Population_mid_point_2015                0\n",
              " Rate_per_10000_population               0\n",
              " Rate_ratio_NZ_average_rate              0\n",
              "Urban_area_2013_code                     0\n",
              "Urban_area_2013_label                    0\n",
              "Urban_area_type                          0\n",
              "Territorial_authority_area_2013_code     0\n",
              "Territorial_authority_area_2013_label    0\n",
              "Region_2013_code                         0\n",
              "Region_2013_label                        0\n",
              "dtype: int64"
            ]
          },
          "metadata": {
            "tags": []
          },
          "execution_count": 57
        }
      ]
    },
    {
      "cell_type": "code",
      "metadata": {
        "colab": {
          "base_uri": "https://localhost:8080/",
          "height": 485
        },
        "id": "x1RHe4e0GKGL",
        "outputId": "b6543a4c-3300-46e0-e15b-0fe7d8543633"
      },
      "source": [
        "dfCopy.drop('Urban_area_type',axis = 1)"
      ],
      "execution_count": null,
      "outputs": [
        {
          "output_type": "execute_result",
          "data": {
            "text/html": [
              "<div>\n",
              "<style scoped>\n",
              "    .dataframe tbody tr th:only-of-type {\n",
              "        vertical-align: middle;\n",
              "    }\n",
              "\n",
              "    .dataframe tbody tr th {\n",
              "        vertical-align: top;\n",
              "    }\n",
              "\n",
              "    .dataframe thead th {\n",
              "        text-align: right;\n",
              "    }\n",
              "</style>\n",
              "<table border=\"1\" class=\"dataframe\">\n",
              "  <thead>\n",
              "    <tr style=\"text-align: right;\">\n",
              "      <th></th>\n",
              "      <th>Index</th>\n",
              "      <th>Area_unit_2013_code</th>\n",
              "      <th>Victimisations_calendar_year_2015</th>\n",
              "      <th>Population_mid_point_2015</th>\n",
              "      <th>Rate_per_10000_population</th>\n",
              "      <th>Rate_ratio_NZ_average_rate</th>\n",
              "      <th>Urban_area_2013_code</th>\n",
              "      <th>Urban_area_2013_label</th>\n",
              "      <th>Territorial_authority_area_2013_code</th>\n",
              "      <th>Territorial_authority_area_2013_label</th>\n",
              "      <th>Region_2013_code</th>\n",
              "      <th>Region_2013_label</th>\n",
              "    </tr>\n",
              "    <tr>\n",
              "      <th>Area_unit_2013_label</th>\n",
              "      <th></th>\n",
              "      <th></th>\n",
              "      <th></th>\n",
              "      <th></th>\n",
              "      <th></th>\n",
              "      <th></th>\n",
              "      <th></th>\n",
              "      <th></th>\n",
              "      <th></th>\n",
              "      <th></th>\n",
              "      <th></th>\n",
              "      <th></th>\n",
              "    </tr>\n",
              "  </thead>\n",
              "  <tbody>\n",
              "    <tr>\n",
              "      <th>Auckland Central West</th>\n",
              "      <td>1</td>\n",
              "      <td>514102</td>\n",
              "      <td>550</td>\n",
              "      <td>15900</td>\n",
              "      <td>346</td>\n",
              "      <td>6.6</td>\n",
              "      <td>4</td>\n",
              "      <td>Central Auckland Zone</td>\n",
              "      <td>76</td>\n",
              "      <td>Auckland</td>\n",
              "      <td>2</td>\n",
              "      <td>Auckland Region</td>\n",
              "    </tr>\n",
              "    <tr>\n",
              "      <th>Willis Street-Cambridge Terrace</th>\n",
              "      <td>2</td>\n",
              "      <td>573101</td>\n",
              "      <td>447</td>\n",
              "      <td>8300</td>\n",
              "      <td>539</td>\n",
              "      <td>10.3</td>\n",
              "      <td>20</td>\n",
              "      <td>Wellington Zone</td>\n",
              "      <td>47</td>\n",
              "      <td>Wellington City</td>\n",
              "      <td>9</td>\n",
              "      <td>Wellington Region</td>\n",
              "    </tr>\n",
              "    <tr>\n",
              "      <th>Hamilton Central</th>\n",
              "      <td>3</td>\n",
              "      <td>529700</td>\n",
              "      <td>380</td>\n",
              "      <td>3170</td>\n",
              "      <td>1,199</td>\n",
              "      <td>22.9</td>\n",
              "      <td>6</td>\n",
              "      <td>Hamilton Zone</td>\n",
              "      <td>16</td>\n",
              "      <td>Hamilton City</td>\n",
              "      <td>3</td>\n",
              "      <td>Waikato Region</td>\n",
              "    </tr>\n",
              "    <tr>\n",
              "      <th>Auckland Central East</th>\n",
              "      <td>4</td>\n",
              "      <td>514103</td>\n",
              "      <td>375</td>\n",
              "      <td>13250</td>\n",
              "      <td>283</td>\n",
              "      <td>5.4</td>\n",
              "      <td>4</td>\n",
              "      <td>Central Auckland Zone</td>\n",
              "      <td>76</td>\n",
              "      <td>Auckland</td>\n",
              "      <td>2</td>\n",
              "      <td>Auckland Region</td>\n",
              "    </tr>\n",
              "    <tr>\n",
              "      <th>Cathedral Square</th>\n",
              "      <td>5</td>\n",
              "      <td>591500</td>\n",
              "      <td>305</td>\n",
              "      <td>570</td>\n",
              "      <td>5,351</td>\n",
              "      <td>102.3</td>\n",
              "      <td>22</td>\n",
              "      <td>Christchurch</td>\n",
              "      <td>60</td>\n",
              "      <td>Christchurch City</td>\n",
              "      <td>13</td>\n",
              "      <td>Canterbury Region</td>\n",
              "    </tr>\n",
              "    <tr>\n",
              "      <th>...</th>\n",
              "      <td>...</td>\n",
              "      <td>...</td>\n",
              "      <td>...</td>\n",
              "      <td>...</td>\n",
              "      <td>...</td>\n",
              "      <td>...</td>\n",
              "      <td>...</td>\n",
              "      <td>...</td>\n",
              "      <td>...</td>\n",
              "      <td>...</td>\n",
              "      <td>...</td>\n",
              "      <td>...</td>\n",
              "    </tr>\n",
              "    <tr>\n",
              "      <th>Riverhead</th>\n",
              "      <td>2016</td>\n",
              "      <td>506653</td>\n",
              "      <td>0</td>\n",
              "      <td>3510</td>\n",
              "      <td>-</td>\n",
              "      <td>-</td>\n",
              "      <td>502</td>\n",
              "      <td>Rural (Incl.some Off Shore Islands)</td>\n",
              "      <td>76</td>\n",
              "      <td>Auckland</td>\n",
              "      <td>2</td>\n",
              "      <td>Auckland Region</td>\n",
              "    </tr>\n",
              "    <tr>\n",
              "      <th>Grasmere</th>\n",
              "      <td>2017</td>\n",
              "      <td>610601</td>\n",
              "      <td>0</td>\n",
              "      <td>3590</td>\n",
              "      <td>-</td>\n",
              "      <td>-</td>\n",
              "      <td>24</td>\n",
              "      <td>Invercargill</td>\n",
              "      <td>75</td>\n",
              "      <td>Invercargill City</td>\n",
              "      <td>15</td>\n",
              "      <td>Southland Region</td>\n",
              "    </tr>\n",
              "    <tr>\n",
              "      <th>Bethlehem East</th>\n",
              "      <td>2018</td>\n",
              "      <td>536513</td>\n",
              "      <td>0</td>\n",
              "      <td>3590</td>\n",
              "      <td>-</td>\n",
              "      <td>-</td>\n",
              "      <td>9</td>\n",
              "      <td>Tauranga</td>\n",
              "      <td>23</td>\n",
              "      <td>Tauranga City</td>\n",
              "      <td>4</td>\n",
              "      <td>Bay of Plenty Region</td>\n",
              "    </tr>\n",
              "    <tr>\n",
              "      <th>Te Kainga</th>\n",
              "      <td>2019</td>\n",
              "      <td>574302</td>\n",
              "      <td>0</td>\n",
              "      <td>4020</td>\n",
              "      <td>-</td>\n",
              "      <td>-</td>\n",
              "      <td>20</td>\n",
              "      <td>Wellington Zone</td>\n",
              "      <td>47</td>\n",
              "      <td>Wellington City</td>\n",
              "      <td>9</td>\n",
              "      <td>Wellington Region</td>\n",
              "    </tr>\n",
              "    <tr>\n",
              "      <th>Horsham Downs</th>\n",
              "      <td>2020</td>\n",
              "      <td>527007</td>\n",
              "      <td>0</td>\n",
              "      <td>5440</td>\n",
              "      <td>-</td>\n",
              "      <td>-</td>\n",
              "      <td>6</td>\n",
              "      <td>Hamilton Zone</td>\n",
              "      <td>16</td>\n",
              "      <td>Hamilton City</td>\n",
              "      <td>3</td>\n",
              "      <td>Waikato Region</td>\n",
              "    </tr>\n",
              "  </tbody>\n",
              "</table>\n",
              "<p>2020 rows × 12 columns</p>\n",
              "</div>"
            ],
            "text/plain": [
              "                                 Index  ...     Region_2013_label\n",
              "Area_unit_2013_label                    ...                      \n",
              "Auckland Central West                1  ...       Auckland Region\n",
              "Willis Street-Cambridge Terrace      2  ...     Wellington Region\n",
              "Hamilton Central                     3  ...        Waikato Region\n",
              "Auckland Central East                4  ...       Auckland Region\n",
              "Cathedral Square                     5  ...     Canterbury Region\n",
              "...                                ...  ...                   ...\n",
              "Riverhead                         2016  ...       Auckland Region\n",
              "Grasmere                          2017  ...      Southland Region\n",
              "Bethlehem East                    2018  ...  Bay of Plenty Region\n",
              "Te Kainga                         2019  ...     Wellington Region\n",
              "Horsham Downs                     2020  ...        Waikato Region\n",
              "\n",
              "[2020 rows x 12 columns]"
            ]
          },
          "metadata": {
            "tags": []
          },
          "execution_count": 59
        }
      ]
    },
    {
      "cell_type": "code",
      "metadata": {
        "id": "DuDzx-UaGhvu"
      },
      "source": [
        "df['New column'] = df.\n",
        "df.head()"
      ],
      "execution_count": null,
      "outputs": []
    },
    {
      "cell_type": "code",
      "metadata": {
        "id": "7U-aX2OeHfKZ"
      },
      "source": [
        "df[] = df[].apply(lambda x: 1 if x else 0)"
      ],
      "execution_count": null,
      "outputs": []
    },
    {
      "cell_type": "markdown",
      "metadata": {
        "id": "gez7Cv_QHtfO"
      },
      "source": [
        "# Delete/Ouptut\n",
        "\n",
        "\n",
        "> Output to csv\n",
        "\n",
        "> Output to json\n",
        "\n",
        "> Output to html\n",
        "\n",
        "> Delete a data frame\n",
        "\n"
      ]
    },
    {
      "cell_type": "code",
      "metadata": {
        "id": "gJUd2IAOH85l"
      },
      "source": [
        "df.to_csv('output.csv')\n",
        "\n",
        "df.to_json()"
      ],
      "execution_count": null,
      "outputs": []
    },
    {
      "cell_type": "code",
      "metadata": {
        "id": "qp_roaKkIzDk"
      },
      "source": [
        "df.to_html()"
      ],
      "execution_count": null,
      "outputs": []
    },
    {
      "cell_type": "code",
      "metadata": {
        "id": "5Ik7P2MrI1EF"
      },
      "source": [
        "del df"
      ],
      "execution_count": null,
      "outputs": []
    }
  ]
}