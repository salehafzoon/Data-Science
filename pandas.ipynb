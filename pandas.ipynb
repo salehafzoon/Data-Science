{
  "nbformat": 4,
  "nbformat_minor": 0,
  "metadata": {
    "colab": {
      "name": "pandas.ipynb",
      "provenance": [],
      "collapsed_sections": [
        "xdOmWeUP7fJB",
        "yFXkwwE-7gJu",
        "8nLHbU72_r6W",
        "m7RrKLzhDtxZ",
        "G6Pua_x0Eetj",
        "ccdCa8PrFkne"
      ],
      "authorship_tag": "ABX9TyOKgm59ioUmlnMJdlW8TlzT",
      "include_colab_link": true
    },
    "kernelspec": {
      "name": "python3",
      "display_name": "Python 3"
    },
    "language_info": {
      "name": "python"
    }
  },
  "cells": [
    {
      "cell_type": "markdown",
      "metadata": {
        "id": "view-in-github",
        "colab_type": "text"
      },
      "source": [
        "<a href=\"https://colab.research.google.com/github/salehafzoon/Data-Science/blob/main/pandas.ipynb\" target=\"_parent\"><img src=\"https://colab.research.google.com/assets/colab-badge.svg\" alt=\"Open In Colab\"/></a>"
      ]
    },
    {
      "cell_type": "markdown",
      "metadata": {
        "id": "iejmSu4OJdDJ"
      },
      "source": [
        "# Show installed versions\n",
        "\n",
        "> update to last version\n",
        "\n",
        "> pandas version\n",
        "\n",
        "> all dependencies versions\n"
      ]
    },
    {
      "cell_type": "code",
      "metadata": {
        "id": "N5dCr0TKx44q"
      },
      "source": [
        "!pip install --upgrade pandas"
      ],
      "execution_count": null,
      "outputs": []
    },
    {
      "cell_type": "code",
      "metadata": {
        "colab": {
          "base_uri": "https://localhost:8080/",
          "height": 35
        },
        "id": "drJRcY24Jsy-",
        "outputId": "ffa813ea-c75c-498b-b2a6-51e7e4ebc5ee"
      },
      "source": [
        "import pandas as pd\n",
        "import numpy as np\n",
        "pd.__version__"
      ],
      "execution_count": null,
      "outputs": [
        {
          "output_type": "execute_result",
          "data": {
            "application/vnd.google.colaboratory.intrinsic+json": {
              "type": "string"
            },
            "text/plain": [
              "'1.2.4'"
            ]
          },
          "metadata": {
            "tags": []
          },
          "execution_count": 1
        }
      ]
    },
    {
      "cell_type": "code",
      "metadata": {
        "id": "-SScVHqVJy55"
      },
      "source": [
        "pd.show_versions()"
      ],
      "execution_count": null,
      "outputs": []
    },
    {
      "cell_type": "markdown",
      "metadata": {
        "id": "uaCyw8HU7eIY"
      },
      "source": [
        "# Create\n",
        "\n",
        "> from CSV\n",
        "\n",
        "> from Dictionary\n",
        "\n",
        ">randomly\n",
        "\n",
        "\n",
        "\n"
      ]
    },
    {
      "cell_type": "code",
      "metadata": {
        "id": "7p9z1_ph7Pla"
      },
      "source": [
        "\n",
        "print(\"pandas version:\",pd.__version__)\n",
        "\n",
        "url = \"https://www.stats.govt.nz/assets/Uploads/Tools/CSV-files-for-download/analysis-public-place-assaults-sexual-assaults-and-robberies-2015-csv.csv\"\n",
        "df = pd.read_csv(url)\n"
      ],
      "execution_count": null,
      "outputs": []
    },
    {
      "cell_type": "code",
      "metadata": {
        "id": "q5nWN3u-99dd"
      },
      "source": [
        "tempdict = {'col1':[1,2,3], 'col2':[4,5,6]}\n",
        "df2 = pd.DataFrame.from_dict(tempdict)\n",
        "df2"
      ],
      "execution_count": null,
      "outputs": []
    },
    {
      "cell_type": "code",
      "metadata": {
        "colab": {
          "base_uri": "https://localhost:8080/",
          "height": 166
        },
        "id": "PJ6vs7VOvIX0",
        "outputId": "5e7c2a7c-a92f-41de-cecd-5f0c1e1e2929"
      },
      "source": [
        "df3=pd.DataFrame(np.random.rand(4,8), columns = list('abCDEFGH'))\n",
        "df3"
      ],
      "execution_count": null,
      "outputs": [
        {
          "output_type": "execute_result",
          "data": {
            "text/html": [
              "<div>\n",
              "<style scoped>\n",
              "    .dataframe tbody tr th:only-of-type {\n",
              "        vertical-align: middle;\n",
              "    }\n",
              "\n",
              "    .dataframe tbody tr th {\n",
              "        vertical-align: top;\n",
              "    }\n",
              "\n",
              "    .dataframe thead th {\n",
              "        text-align: right;\n",
              "    }\n",
              "</style>\n",
              "<table border=\"1\" class=\"dataframe\">\n",
              "  <thead>\n",
              "    <tr style=\"text-align: right;\">\n",
              "      <th></th>\n",
              "      <th>a</th>\n",
              "      <th>b</th>\n",
              "      <th>C</th>\n",
              "      <th>D</th>\n",
              "      <th>E</th>\n",
              "      <th>F</th>\n",
              "      <th>G</th>\n",
              "      <th>H</th>\n",
              "    </tr>\n",
              "  </thead>\n",
              "  <tbody>\n",
              "    <tr>\n",
              "      <th>0</th>\n",
              "      <td>0.475099</td>\n",
              "      <td>0.264292</td>\n",
              "      <td>0.037506</td>\n",
              "      <td>0.333378</td>\n",
              "      <td>0.927325</td>\n",
              "      <td>0.929411</td>\n",
              "      <td>0.445329</td>\n",
              "      <td>0.111164</td>\n",
              "    </tr>\n",
              "    <tr>\n",
              "      <th>1</th>\n",
              "      <td>0.603878</td>\n",
              "      <td>0.278447</td>\n",
              "      <td>0.569788</td>\n",
              "      <td>0.811392</td>\n",
              "      <td>0.596454</td>\n",
              "      <td>0.592064</td>\n",
              "      <td>0.680034</td>\n",
              "      <td>0.582279</td>\n",
              "    </tr>\n",
              "    <tr>\n",
              "      <th>2</th>\n",
              "      <td>0.512776</td>\n",
              "      <td>0.657998</td>\n",
              "      <td>0.016967</td>\n",
              "      <td>0.492388</td>\n",
              "      <td>0.800390</td>\n",
              "      <td>0.038533</td>\n",
              "      <td>0.068783</td>\n",
              "      <td>0.806877</td>\n",
              "    </tr>\n",
              "    <tr>\n",
              "      <th>3</th>\n",
              "      <td>0.799110</td>\n",
              "      <td>0.557030</td>\n",
              "      <td>0.005385</td>\n",
              "      <td>0.762636</td>\n",
              "      <td>0.015551</td>\n",
              "      <td>0.408375</td>\n",
              "      <td>0.478540</td>\n",
              "      <td>0.368358</td>\n",
              "    </tr>\n",
              "  </tbody>\n",
              "</table>\n",
              "</div>"
            ],
            "text/plain": [
              "          a         b         C  ...         F         G         H\n",
              "0  0.475099  0.264292  0.037506  ...  0.929411  0.445329  0.111164\n",
              "1  0.603878  0.278447  0.569788  ...  0.592064  0.680034  0.582279\n",
              "2  0.512776  0.657998  0.016967  ...  0.038533  0.068783  0.806877\n",
              "3  0.799110  0.557030  0.005385  ...  0.408375  0.478540  0.368358\n",
              "\n",
              "[4 rows x 8 columns]"
            ]
          },
          "metadata": {
            "tags": []
          },
          "execution_count": 3
        }
      ]
    },
    {
      "cell_type": "markdown",
      "metadata": {
        "id": "TquxZduUvzw6"
      },
      "source": [
        "# Rename"
      ]
    },
    {
      "cell_type": "code",
      "metadata": {
        "colab": {
          "base_uri": "https://localhost:8080/",
          "height": 166
        },
        "id": "TsQV39Yov2rF",
        "outputId": "7c51542b-1169-43fb-de9a-0d7fc99a3750"
      },
      "source": [
        "df3.rename({'a':'A','b':'B'} , axis = 'columns')"
      ],
      "execution_count": null,
      "outputs": [
        {
          "output_type": "execute_result",
          "data": {
            "text/html": [
              "<div>\n",
              "<style scoped>\n",
              "    .dataframe tbody tr th:only-of-type {\n",
              "        vertical-align: middle;\n",
              "    }\n",
              "\n",
              "    .dataframe tbody tr th {\n",
              "        vertical-align: top;\n",
              "    }\n",
              "\n",
              "    .dataframe thead th {\n",
              "        text-align: right;\n",
              "    }\n",
              "</style>\n",
              "<table border=\"1\" class=\"dataframe\">\n",
              "  <thead>\n",
              "    <tr style=\"text-align: right;\">\n",
              "      <th></th>\n",
              "      <th>A</th>\n",
              "      <th>B</th>\n",
              "      <th>C</th>\n",
              "      <th>D</th>\n",
              "      <th>E</th>\n",
              "      <th>F</th>\n",
              "      <th>G</th>\n",
              "      <th>H</th>\n",
              "    </tr>\n",
              "  </thead>\n",
              "  <tbody>\n",
              "    <tr>\n",
              "      <th>0</th>\n",
              "      <td>0.475099</td>\n",
              "      <td>0.264292</td>\n",
              "      <td>0.037506</td>\n",
              "      <td>0.333378</td>\n",
              "      <td>0.927325</td>\n",
              "      <td>0.929411</td>\n",
              "      <td>0.445329</td>\n",
              "      <td>0.111164</td>\n",
              "    </tr>\n",
              "    <tr>\n",
              "      <th>1</th>\n",
              "      <td>0.603878</td>\n",
              "      <td>0.278447</td>\n",
              "      <td>0.569788</td>\n",
              "      <td>0.811392</td>\n",
              "      <td>0.596454</td>\n",
              "      <td>0.592064</td>\n",
              "      <td>0.680034</td>\n",
              "      <td>0.582279</td>\n",
              "    </tr>\n",
              "    <tr>\n",
              "      <th>2</th>\n",
              "      <td>0.512776</td>\n",
              "      <td>0.657998</td>\n",
              "      <td>0.016967</td>\n",
              "      <td>0.492388</td>\n",
              "      <td>0.800390</td>\n",
              "      <td>0.038533</td>\n",
              "      <td>0.068783</td>\n",
              "      <td>0.806877</td>\n",
              "    </tr>\n",
              "    <tr>\n",
              "      <th>3</th>\n",
              "      <td>0.799110</td>\n",
              "      <td>0.557030</td>\n",
              "      <td>0.005385</td>\n",
              "      <td>0.762636</td>\n",
              "      <td>0.015551</td>\n",
              "      <td>0.408375</td>\n",
              "      <td>0.478540</td>\n",
              "      <td>0.368358</td>\n",
              "    </tr>\n",
              "  </tbody>\n",
              "</table>\n",
              "</div>"
            ],
            "text/plain": [
              "          A         B         C  ...         F         G         H\n",
              "0  0.475099  0.264292  0.037506  ...  0.929411  0.445329  0.111164\n",
              "1  0.603878  0.278447  0.569788  ...  0.592064  0.680034  0.582279\n",
              "2  0.512776  0.657998  0.016967  ...  0.038533  0.068783  0.806877\n",
              "3  0.799110  0.557030  0.005385  ...  0.408375  0.478540  0.368358\n",
              "\n",
              "[4 rows x 8 columns]"
            ]
          },
          "metadata": {
            "tags": []
          },
          "execution_count": 4
        }
      ]
    },
    {
      "cell_type": "code",
      "metadata": {
        "colab": {
          "base_uri": "https://localhost:8080/",
          "height": 166
        },
        "id": "c73cfqObwmjB",
        "outputId": "5c77112a-5c46-4414-8c9e-d126561f374a"
      },
      "source": [
        "df3.columns = ['v1','v2','v3','v4','v5','v6','v7','v8']\n",
        "\n",
        "df3.columns = df3.columns.str.replace('v','')\n",
        "\n",
        "df3 = df3.add_prefix('col_')\n",
        "df3 = df3.add_suffix('_x')\n",
        "df3"
      ],
      "execution_count": null,
      "outputs": [
        {
          "output_type": "execute_result",
          "data": {
            "text/html": [
              "<div>\n",
              "<style scoped>\n",
              "    .dataframe tbody tr th:only-of-type {\n",
              "        vertical-align: middle;\n",
              "    }\n",
              "\n",
              "    .dataframe tbody tr th {\n",
              "        vertical-align: top;\n",
              "    }\n",
              "\n",
              "    .dataframe thead th {\n",
              "        text-align: right;\n",
              "    }\n",
              "</style>\n",
              "<table border=\"1\" class=\"dataframe\">\n",
              "  <thead>\n",
              "    <tr style=\"text-align: right;\">\n",
              "      <th></th>\n",
              "      <th>col_1_x</th>\n",
              "      <th>col_2_x</th>\n",
              "      <th>col_3_x</th>\n",
              "      <th>col_4_x</th>\n",
              "      <th>col_5_x</th>\n",
              "      <th>col_6_x</th>\n",
              "      <th>col_7_x</th>\n",
              "      <th>col_8_x</th>\n",
              "    </tr>\n",
              "  </thead>\n",
              "  <tbody>\n",
              "    <tr>\n",
              "      <th>0</th>\n",
              "      <td>0.475099</td>\n",
              "      <td>0.264292</td>\n",
              "      <td>0.037506</td>\n",
              "      <td>0.333378</td>\n",
              "      <td>0.927325</td>\n",
              "      <td>0.929411</td>\n",
              "      <td>0.445329</td>\n",
              "      <td>0.111164</td>\n",
              "    </tr>\n",
              "    <tr>\n",
              "      <th>1</th>\n",
              "      <td>0.603878</td>\n",
              "      <td>0.278447</td>\n",
              "      <td>0.569788</td>\n",
              "      <td>0.811392</td>\n",
              "      <td>0.596454</td>\n",
              "      <td>0.592064</td>\n",
              "      <td>0.680034</td>\n",
              "      <td>0.582279</td>\n",
              "    </tr>\n",
              "    <tr>\n",
              "      <th>2</th>\n",
              "      <td>0.512776</td>\n",
              "      <td>0.657998</td>\n",
              "      <td>0.016967</td>\n",
              "      <td>0.492388</td>\n",
              "      <td>0.800390</td>\n",
              "      <td>0.038533</td>\n",
              "      <td>0.068783</td>\n",
              "      <td>0.806877</td>\n",
              "    </tr>\n",
              "    <tr>\n",
              "      <th>3</th>\n",
              "      <td>0.799110</td>\n",
              "      <td>0.557030</td>\n",
              "      <td>0.005385</td>\n",
              "      <td>0.762636</td>\n",
              "      <td>0.015551</td>\n",
              "      <td>0.408375</td>\n",
              "      <td>0.478540</td>\n",
              "      <td>0.368358</td>\n",
              "    </tr>\n",
              "  </tbody>\n",
              "</table>\n",
              "</div>"
            ],
            "text/plain": [
              "    col_1_x   col_2_x   col_3_x  ...   col_6_x   col_7_x   col_8_x\n",
              "0  0.475099  0.264292  0.037506  ...  0.929411  0.445329  0.111164\n",
              "1  0.603878  0.278447  0.569788  ...  0.592064  0.680034  0.582279\n",
              "2  0.512776  0.657998  0.016967  ...  0.038533  0.068783  0.806877\n",
              "3  0.799110  0.557030  0.005385  ...  0.408375  0.478540  0.368358\n",
              "\n",
              "[4 rows x 8 columns]"
            ]
          },
          "metadata": {
            "tags": []
          },
          "execution_count": 11
        }
      ]
    },
    {
      "cell_type": "markdown",
      "metadata": {
        "id": "zVr7C6AzzMfO"
      },
      "source": [
        "\n",
        "# Reverse order\n",
        "\n",
        "\n",
        "> row order\n",
        "\n",
        "> column order\n",
        "\n"
      ]
    },
    {
      "cell_type": "code",
      "metadata": {
        "id": "fvFw-E-MzVe0"
      },
      "source": [
        "drinks = pd.read_csv('https://raw.githubusercontent.com/justmarkham/pandas-videos/master/data/drinks.csv')"
      ],
      "execution_count": null,
      "outputs": []
    },
    {
      "cell_type": "code",
      "metadata": {
        "colab": {
          "base_uri": "https://localhost:8080/",
          "height": 232
        },
        "id": "qR6JBmQGzava",
        "outputId": "6f6ad2f9-c390-4430-c20e-1d56dfa93059"
      },
      "source": [
        "drinks.loc[::-1].reset_index(drop=True).head()"
      ],
      "execution_count": null,
      "outputs": [
        {
          "output_type": "execute_result",
          "data": {
            "text/html": [
              "<div>\n",
              "<style scoped>\n",
              "    .dataframe tbody tr th:only-of-type {\n",
              "        vertical-align: middle;\n",
              "    }\n",
              "\n",
              "    .dataframe tbody tr th {\n",
              "        vertical-align: top;\n",
              "    }\n",
              "\n",
              "    .dataframe thead th {\n",
              "        text-align: right;\n",
              "    }\n",
              "</style>\n",
              "<table border=\"1\" class=\"dataframe\">\n",
              "  <thead>\n",
              "    <tr style=\"text-align: right;\">\n",
              "      <th></th>\n",
              "      <th>country</th>\n",
              "      <th>beer_servings</th>\n",
              "      <th>spirit_servings</th>\n",
              "      <th>wine_servings</th>\n",
              "      <th>total_litres_of_pure_alcohol</th>\n",
              "      <th>continent</th>\n",
              "    </tr>\n",
              "  </thead>\n",
              "  <tbody>\n",
              "    <tr>\n",
              "      <th>0</th>\n",
              "      <td>Zimbabwe</td>\n",
              "      <td>64</td>\n",
              "      <td>18</td>\n",
              "      <td>4</td>\n",
              "      <td>4.7</td>\n",
              "      <td>Africa</td>\n",
              "    </tr>\n",
              "    <tr>\n",
              "      <th>1</th>\n",
              "      <td>Zambia</td>\n",
              "      <td>32</td>\n",
              "      <td>19</td>\n",
              "      <td>4</td>\n",
              "      <td>2.5</td>\n",
              "      <td>Africa</td>\n",
              "    </tr>\n",
              "    <tr>\n",
              "      <th>2</th>\n",
              "      <td>Yemen</td>\n",
              "      <td>6</td>\n",
              "      <td>0</td>\n",
              "      <td>0</td>\n",
              "      <td>0.1</td>\n",
              "      <td>Asia</td>\n",
              "    </tr>\n",
              "    <tr>\n",
              "      <th>3</th>\n",
              "      <td>Vietnam</td>\n",
              "      <td>111</td>\n",
              "      <td>2</td>\n",
              "      <td>1</td>\n",
              "      <td>2.0</td>\n",
              "      <td>Asia</td>\n",
              "    </tr>\n",
              "    <tr>\n",
              "      <th>4</th>\n",
              "      <td>Venezuela</td>\n",
              "      <td>333</td>\n",
              "      <td>100</td>\n",
              "      <td>3</td>\n",
              "      <td>7.7</td>\n",
              "      <td>South America</td>\n",
              "    </tr>\n",
              "  </tbody>\n",
              "</table>\n",
              "</div>"
            ],
            "text/plain": [
              "     country  beer_servings  ...  total_litres_of_pure_alcohol      continent\n",
              "0   Zimbabwe             64  ...                           4.7         Africa\n",
              "1     Zambia             32  ...                           2.5         Africa\n",
              "2      Yemen              6  ...                           0.1           Asia\n",
              "3    Vietnam            111  ...                           2.0           Asia\n",
              "4  Venezuela            333  ...                           7.7  South America\n",
              "\n",
              "[5 rows x 6 columns]"
            ]
          },
          "metadata": {
            "tags": []
          },
          "execution_count": 19
        }
      ]
    },
    {
      "cell_type": "code",
      "metadata": {
        "colab": {
          "base_uri": "https://localhost:8080/",
          "height": 215
        },
        "id": "j2pb5h2Bzp_j",
        "outputId": "bbd5261d-d3b7-4f2d-94a4-ba8497c4e9b6"
      },
      "source": [
        "drinks.loc[:,::-1].head()"
      ],
      "execution_count": null,
      "outputs": [
        {
          "output_type": "execute_result",
          "data": {
            "text/html": [
              "<div>\n",
              "<style scoped>\n",
              "    .dataframe tbody tr th:only-of-type {\n",
              "        vertical-align: middle;\n",
              "    }\n",
              "\n",
              "    .dataframe tbody tr th {\n",
              "        vertical-align: top;\n",
              "    }\n",
              "\n",
              "    .dataframe thead th {\n",
              "        text-align: right;\n",
              "    }\n",
              "</style>\n",
              "<table border=\"1\" class=\"dataframe\">\n",
              "  <thead>\n",
              "    <tr style=\"text-align: right;\">\n",
              "      <th></th>\n",
              "      <th>continent</th>\n",
              "      <th>total_litres_of_pure_alcohol</th>\n",
              "      <th>wine_servings</th>\n",
              "      <th>spirit_servings</th>\n",
              "      <th>beer_servings</th>\n",
              "      <th>country</th>\n",
              "    </tr>\n",
              "  </thead>\n",
              "  <tbody>\n",
              "    <tr>\n",
              "      <th>0</th>\n",
              "      <td>Asia</td>\n",
              "      <td>0.0</td>\n",
              "      <td>0</td>\n",
              "      <td>0</td>\n",
              "      <td>0</td>\n",
              "      <td>Afghanistan</td>\n",
              "    </tr>\n",
              "    <tr>\n",
              "      <th>1</th>\n",
              "      <td>Europe</td>\n",
              "      <td>4.9</td>\n",
              "      <td>54</td>\n",
              "      <td>132</td>\n",
              "      <td>89</td>\n",
              "      <td>Albania</td>\n",
              "    </tr>\n",
              "    <tr>\n",
              "      <th>2</th>\n",
              "      <td>Africa</td>\n",
              "      <td>0.7</td>\n",
              "      <td>14</td>\n",
              "      <td>0</td>\n",
              "      <td>25</td>\n",
              "      <td>Algeria</td>\n",
              "    </tr>\n",
              "    <tr>\n",
              "      <th>3</th>\n",
              "      <td>Europe</td>\n",
              "      <td>12.4</td>\n",
              "      <td>312</td>\n",
              "      <td>138</td>\n",
              "      <td>245</td>\n",
              "      <td>Andorra</td>\n",
              "    </tr>\n",
              "    <tr>\n",
              "      <th>4</th>\n",
              "      <td>Africa</td>\n",
              "      <td>5.9</td>\n",
              "      <td>45</td>\n",
              "      <td>57</td>\n",
              "      <td>217</td>\n",
              "      <td>Angola</td>\n",
              "    </tr>\n",
              "  </tbody>\n",
              "</table>\n",
              "</div>"
            ],
            "text/plain": [
              "  continent  total_litres_of_pure_alcohol  ...  beer_servings      country\n",
              "0      Asia                           0.0  ...              0  Afghanistan\n",
              "1    Europe                           4.9  ...             89      Albania\n",
              "2    Africa                           0.7  ...             25      Algeria\n",
              "3    Europe                          12.4  ...            245      Andorra\n",
              "4    Africa                           5.9  ...            217       Angola\n",
              "\n",
              "[5 rows x 6 columns]"
            ]
          },
          "metadata": {
            "tags": []
          },
          "execution_count": 20
        }
      ]
    },
    {
      "cell_type": "markdown",
      "metadata": {
        "id": "PILZI2sH2zsa"
      },
      "source": [
        "# Select by data type"
      ]
    },
    {
      "cell_type": "code",
      "metadata": {
        "id": "E7BJQQqY251R"
      },
      "source": [
        ""
      ],
      "execution_count": null,
      "outputs": []
    },
    {
      "cell_type": "markdown",
      "metadata": {
        "id": "xdOmWeUP7fJB"
      },
      "source": [
        "# Read\n",
        "\n",
        "> show top,bottom 3 rows\n",
        "\n",
        "\n",
        "> show columns , data types\n",
        "\n",
        "\n",
        "\n"
      ]
    },
    {
      "cell_type": "code",
      "metadata": {
        "colab": {
          "base_uri": "https://localhost:8080/",
          "height": 173
        },
        "id": "u3zqCI0U9xiS",
        "outputId": "a43d4152-04d3-4c6b-a7c6-94874f7463ef"
      },
      "source": [
        "df.head(3)"
      ],
      "execution_count": null,
      "outputs": [
        {
          "output_type": "execute_result",
          "data": {
            "text/html": [
              "<div>\n",
              "<style scoped>\n",
              "    .dataframe tbody tr th:only-of-type {\n",
              "        vertical-align: middle;\n",
              "    }\n",
              "\n",
              "    .dataframe tbody tr th {\n",
              "        vertical-align: top;\n",
              "    }\n",
              "\n",
              "    .dataframe thead th {\n",
              "        text-align: right;\n",
              "    }\n",
              "</style>\n",
              "<table border=\"1\" class=\"dataframe\">\n",
              "  <thead>\n",
              "    <tr style=\"text-align: right;\">\n",
              "      <th></th>\n",
              "      <th>Index</th>\n",
              "      <th>Area_unit_2013_code</th>\n",
              "      <th>Area_unit_2013_label</th>\n",
              "      <th>Victimisations_calendar_year_2015</th>\n",
              "      <th>Population_mid_point_2015</th>\n",
              "      <th>Rate_per_10000_population</th>\n",
              "      <th>Rate_ratio_NZ_average_rate</th>\n",
              "      <th>Urban_area_2013_code</th>\n",
              "      <th>Urban_area_2013_label</th>\n",
              "      <th>Urban_area_type</th>\n",
              "      <th>Territorial_authority_area_2013_code</th>\n",
              "      <th>Territorial_authority_area_2013_label</th>\n",
              "      <th>Region_2013_code</th>\n",
              "      <th>Region_2013_label</th>\n",
              "    </tr>\n",
              "  </thead>\n",
              "  <tbody>\n",
              "    <tr>\n",
              "      <th>0</th>\n",
              "      <td>1</td>\n",
              "      <td>514102</td>\n",
              "      <td>Auckland Central West</td>\n",
              "      <td>550</td>\n",
              "      <td>15900</td>\n",
              "      <td>346</td>\n",
              "      <td>6.6</td>\n",
              "      <td>4</td>\n",
              "      <td>Central Auckland Zone</td>\n",
              "      <td>Main urban area</td>\n",
              "      <td>76</td>\n",
              "      <td>Auckland</td>\n",
              "      <td>2</td>\n",
              "      <td>Auckland Region</td>\n",
              "    </tr>\n",
              "    <tr>\n",
              "      <th>1</th>\n",
              "      <td>2</td>\n",
              "      <td>573101</td>\n",
              "      <td>Willis Street-Cambridge Terrace</td>\n",
              "      <td>447</td>\n",
              "      <td>8300</td>\n",
              "      <td>539</td>\n",
              "      <td>10.3</td>\n",
              "      <td>20</td>\n",
              "      <td>Wellington Zone</td>\n",
              "      <td>Main urban area</td>\n",
              "      <td>47</td>\n",
              "      <td>Wellington City</td>\n",
              "      <td>9</td>\n",
              "      <td>Wellington Region</td>\n",
              "    </tr>\n",
              "    <tr>\n",
              "      <th>2</th>\n",
              "      <td>3</td>\n",
              "      <td>529700</td>\n",
              "      <td>Hamilton Central</td>\n",
              "      <td>380</td>\n",
              "      <td>3170</td>\n",
              "      <td>1,199</td>\n",
              "      <td>22.9</td>\n",
              "      <td>6</td>\n",
              "      <td>Hamilton Zone</td>\n",
              "      <td>Main urban area</td>\n",
              "      <td>16</td>\n",
              "      <td>Hamilton City</td>\n",
              "      <td>3</td>\n",
              "      <td>Waikato Region</td>\n",
              "    </tr>\n",
              "  </tbody>\n",
              "</table>\n",
              "</div>"
            ],
            "text/plain": [
              "   Index  Area_unit_2013_code  ... Region_2013_code  Region_2013_label\n",
              "0      1               514102  ...                2    Auckland Region\n",
              "1      2               573101  ...                9  Wellington Region\n",
              "2      3               529700  ...                3     Waikato Region\n",
              "\n",
              "[3 rows x 14 columns]"
            ]
          },
          "metadata": {
            "tags": []
          },
          "execution_count": 22
        }
      ]
    },
    {
      "cell_type": "code",
      "metadata": {
        "colab": {
          "base_uri": "https://localhost:8080/",
          "height": 156
        },
        "id": "TFivRF5a_awc",
        "outputId": "d7182069-33ab-4128-d0fd-3ed2074b804b"
      },
      "source": [
        "df.tail(3)"
      ],
      "execution_count": null,
      "outputs": [
        {
          "output_type": "execute_result",
          "data": {
            "text/html": [
              "<div>\n",
              "<style scoped>\n",
              "    .dataframe tbody tr th:only-of-type {\n",
              "        vertical-align: middle;\n",
              "    }\n",
              "\n",
              "    .dataframe tbody tr th {\n",
              "        vertical-align: top;\n",
              "    }\n",
              "\n",
              "    .dataframe thead th {\n",
              "        text-align: right;\n",
              "    }\n",
              "</style>\n",
              "<table border=\"1\" class=\"dataframe\">\n",
              "  <thead>\n",
              "    <tr style=\"text-align: right;\">\n",
              "      <th></th>\n",
              "      <th>Index</th>\n",
              "      <th>Area_unit_2013_code</th>\n",
              "      <th>Area_unit_2013_label</th>\n",
              "      <th>Victimisations_calendar_year_2015</th>\n",
              "      <th>Population_mid_point_2015</th>\n",
              "      <th>Rate_per_10000_population</th>\n",
              "      <th>Rate_ratio_NZ_average_rate</th>\n",
              "      <th>Urban_area_2013_code</th>\n",
              "      <th>Urban_area_2013_label</th>\n",
              "      <th>Urban_area_type</th>\n",
              "      <th>Territorial_authority_area_2013_code</th>\n",
              "      <th>Territorial_authority_area_2013_label</th>\n",
              "      <th>Region_2013_code</th>\n",
              "      <th>Region_2013_label</th>\n",
              "    </tr>\n",
              "  </thead>\n",
              "  <tbody>\n",
              "    <tr>\n",
              "      <th>2017</th>\n",
              "      <td>2018</td>\n",
              "      <td>536513</td>\n",
              "      <td>Bethlehem East</td>\n",
              "      <td>0</td>\n",
              "      <td>3590</td>\n",
              "      <td>-</td>\n",
              "      <td>-</td>\n",
              "      <td>9</td>\n",
              "      <td>Tauranga</td>\n",
              "      <td>Main urban area</td>\n",
              "      <td>23</td>\n",
              "      <td>Tauranga City</td>\n",
              "      <td>4</td>\n",
              "      <td>Bay of Plenty Region</td>\n",
              "    </tr>\n",
              "    <tr>\n",
              "      <th>2018</th>\n",
              "      <td>2019</td>\n",
              "      <td>574302</td>\n",
              "      <td>Te Kainga</td>\n",
              "      <td>0</td>\n",
              "      <td>4020</td>\n",
              "      <td>-</td>\n",
              "      <td>-</td>\n",
              "      <td>20</td>\n",
              "      <td>Wellington Zone</td>\n",
              "      <td>Main urban area</td>\n",
              "      <td>47</td>\n",
              "      <td>Wellington City</td>\n",
              "      <td>9</td>\n",
              "      <td>Wellington Region</td>\n",
              "    </tr>\n",
              "    <tr>\n",
              "      <th>2019</th>\n",
              "      <td>2020</td>\n",
              "      <td>527007</td>\n",
              "      <td>Horsham Downs</td>\n",
              "      <td>0</td>\n",
              "      <td>5440</td>\n",
              "      <td>-</td>\n",
              "      <td>-</td>\n",
              "      <td>6</td>\n",
              "      <td>Hamilton Zone</td>\n",
              "      <td>Main urban area</td>\n",
              "      <td>16</td>\n",
              "      <td>Hamilton City</td>\n",
              "      <td>3</td>\n",
              "      <td>Waikato Region</td>\n",
              "    </tr>\n",
              "  </tbody>\n",
              "</table>\n",
              "</div>"
            ],
            "text/plain": [
              "      Index  Area_unit_2013_code  ... Region_2013_code     Region_2013_label\n",
              "2017   2018               536513  ...                4  Bay of Plenty Region\n",
              "2018   2019               574302  ...                9     Wellington Region\n",
              "2019   2020               527007  ...                3        Waikato Region\n",
              "\n",
              "[3 rows x 14 columns]"
            ]
          },
          "metadata": {
            "tags": []
          },
          "execution_count": 15
        }
      ]
    },
    {
      "cell_type": "code",
      "metadata": {
        "colab": {
          "base_uri": "https://localhost:8080/"
        },
        "id": "8wgRMWFS_JnI",
        "outputId": "5eb577ca-246a-4ce5-b6af-2e46681966d5"
      },
      "source": [
        "df.columns"
      ],
      "execution_count": null,
      "outputs": [
        {
          "output_type": "execute_result",
          "data": {
            "text/plain": [
              "Index(['Index', 'Area_unit_2013_code', 'Area_unit_2013_label',\n",
              "       'Victimisations_calendar_year_2015', 'Population_mid_point_2015',\n",
              "       ' Rate_per_10000_population ', ' Rate_ratio_NZ_average_rate ',\n",
              "       'Urban_area_2013_code', 'Urban_area_2013_label', 'Urban_area_type',\n",
              "       'Territorial_authority_area_2013_code',\n",
              "       'Territorial_authority_area_2013_label', 'Region_2013_code',\n",
              "       'Region_2013_label'],\n",
              "      dtype='object')"
            ]
          },
          "metadata": {
            "tags": []
          },
          "execution_count": 16
        }
      ]
    },
    {
      "cell_type": "code",
      "metadata": {
        "colab": {
          "base_uri": "https://localhost:8080/"
        },
        "id": "Ulpv2-57_etP",
        "outputId": "6a054cfd-f122-4f81-a20e-96007b95ad0c"
      },
      "source": [
        "df.dtypes"
      ],
      "execution_count": null,
      "outputs": [
        {
          "output_type": "execute_result",
          "data": {
            "text/plain": [
              "Index                                     int64\n",
              "Area_unit_2013_code                       int64\n",
              "Area_unit_2013_label                     object\n",
              "Victimisations_calendar_year_2015         int64\n",
              "Population_mid_point_2015                 int64\n",
              " Rate_per_10000_population               object\n",
              " Rate_ratio_NZ_average_rate              object\n",
              "Urban_area_2013_code                      int64\n",
              "Urban_area_2013_label                    object\n",
              "Urban_area_type                          object\n",
              "Territorial_authority_area_2013_code      int64\n",
              "Territorial_authority_area_2013_label    object\n",
              "Region_2013_code                          int64\n",
              "Region_2013_label                        object\n",
              "dtype: object"
            ]
          },
          "metadata": {
            "tags": []
          },
          "execution_count": 17
        }
      ]
    },
    {
      "cell_type": "markdown",
      "metadata": {
        "id": "yFXkwwE-7gJu"
      },
      "source": [
        "# Summary Statistics"
      ]
    },
    {
      "cell_type": "code",
      "metadata": {
        "colab": {
          "base_uri": "https://localhost:8080/",
          "height": 304
        },
        "id": "ruE4l6mI_624",
        "outputId": "2828e633-30c1-4b40-8bfe-13c36573de8b"
      },
      "source": [
        "df.describe()"
      ],
      "execution_count": null,
      "outputs": [
        {
          "output_type": "execute_result",
          "data": {
            "text/html": [
              "<div>\n",
              "<style scoped>\n",
              "    .dataframe tbody tr th:only-of-type {\n",
              "        vertical-align: middle;\n",
              "    }\n",
              "\n",
              "    .dataframe tbody tr th {\n",
              "        vertical-align: top;\n",
              "    }\n",
              "\n",
              "    .dataframe thead th {\n",
              "        text-align: right;\n",
              "    }\n",
              "</style>\n",
              "<table border=\"1\" class=\"dataframe\">\n",
              "  <thead>\n",
              "    <tr style=\"text-align: right;\">\n",
              "      <th></th>\n",
              "      <th>Index</th>\n",
              "      <th>Area_unit_2013_code</th>\n",
              "      <th>Victimisations_calendar_year_2015</th>\n",
              "      <th>Population_mid_point_2015</th>\n",
              "      <th>Urban_area_2013_code</th>\n",
              "      <th>Territorial_authority_area_2013_code</th>\n",
              "      <th>Region_2013_code</th>\n",
              "    </tr>\n",
              "  </thead>\n",
              "  <tbody>\n",
              "    <tr>\n",
              "      <th>count</th>\n",
              "      <td>2020.000000</td>\n",
              "      <td>2020.000000</td>\n",
              "      <td>2020.000000</td>\n",
              "      <td>2020.000000</td>\n",
              "      <td>2020.000000</td>\n",
              "      <td>2020.000000</td>\n",
              "      <td>2020.000000</td>\n",
              "    </tr>\n",
              "    <tr>\n",
              "      <th>mean</th>\n",
              "      <td>1010.500000</td>\n",
              "      <td>558310.185644</td>\n",
              "      <td>11.898515</td>\n",
              "      <td>2274.975248</td>\n",
              "      <td>190.513861</td>\n",
              "      <td>71.168317</td>\n",
              "      <td>8.205941</td>\n",
              "    </tr>\n",
              "    <tr>\n",
              "      <th>std</th>\n",
              "      <td>583.268092</td>\n",
              "      <td>36014.196850</td>\n",
              "      <td>27.959854</td>\n",
              "      <td>1871.846299</td>\n",
              "      <td>221.931445</td>\n",
              "      <td>143.492317</td>\n",
              "      <td>10.171251</td>\n",
              "    </tr>\n",
              "    <tr>\n",
              "      <th>min</th>\n",
              "      <td>1.000000</td>\n",
              "      <td>500100.000000</td>\n",
              "      <td>0.000000</td>\n",
              "      <td>0.000000</td>\n",
              "      <td>1.000000</td>\n",
              "      <td>1.000000</td>\n",
              "      <td>1.000000</td>\n",
              "    </tr>\n",
              "    <tr>\n",
              "      <th>25%</th>\n",
              "      <td>505.750000</td>\n",
              "      <td>526176.500000</td>\n",
              "      <td>1.000000</td>\n",
              "      <td>660.000000</td>\n",
              "      <td>10.000000</td>\n",
              "      <td>31.000000</td>\n",
              "      <td>2.000000</td>\n",
              "    </tr>\n",
              "    <tr>\n",
              "      <th>50%</th>\n",
              "      <td>1010.500000</td>\n",
              "      <td>555350.000000</td>\n",
              "      <td>4.000000</td>\n",
              "      <td>1985.000000</td>\n",
              "      <td>23.000000</td>\n",
              "      <td>53.000000</td>\n",
              "      <td>7.000000</td>\n",
              "    </tr>\n",
              "    <tr>\n",
              "      <th>75%</th>\n",
              "      <td>1515.250000</td>\n",
              "      <td>587302.250000</td>\n",
              "      <td>13.000000</td>\n",
              "      <td>3462.500000</td>\n",
              "      <td>502.000000</td>\n",
              "      <td>75.000000</td>\n",
              "      <td>13.000000</td>\n",
              "    </tr>\n",
              "    <tr>\n",
              "      <th>max</th>\n",
              "      <td>2020.000000</td>\n",
              "      <td>666673.000000</td>\n",
              "      <td>550.000000</td>\n",
              "      <td>15900.000000</td>\n",
              "      <td>511.000000</td>\n",
              "      <td>999.000000</td>\n",
              "      <td>99.000000</td>\n",
              "    </tr>\n",
              "  </tbody>\n",
              "</table>\n",
              "</div>"
            ],
            "text/plain": [
              "             Index  ...  Region_2013_code\n",
              "count  2020.000000  ...       2020.000000\n",
              "mean   1010.500000  ...          8.205941\n",
              "std     583.268092  ...         10.171251\n",
              "min       1.000000  ...          1.000000\n",
              "25%     505.750000  ...          2.000000\n",
              "50%    1010.500000  ...          7.000000\n",
              "75%    1515.250000  ...         13.000000\n",
              "max    2020.000000  ...         99.000000\n",
              "\n",
              "[8 rows x 7 columns]"
            ]
          },
          "metadata": {
            "tags": []
          },
          "execution_count": 18
        }
      ]
    },
    {
      "cell_type": "code",
      "metadata": {
        "id": "8S8z_XSg_-pq",
        "colab": {
          "base_uri": "https://localhost:8080/",
          "height": 202
        },
        "outputId": "e81256c4-40db-42be-97c5-7457b2accc57"
      },
      "source": [
        "df.describe(include =\"object\")"
      ],
      "execution_count": null,
      "outputs": [
        {
          "output_type": "execute_result",
          "data": {
            "text/html": [
              "<div>\n",
              "<style scoped>\n",
              "    .dataframe tbody tr th:only-of-type {\n",
              "        vertical-align: middle;\n",
              "    }\n",
              "\n",
              "    .dataframe tbody tr th {\n",
              "        vertical-align: top;\n",
              "    }\n",
              "\n",
              "    .dataframe thead th {\n",
              "        text-align: right;\n",
              "    }\n",
              "</style>\n",
              "<table border=\"1\" class=\"dataframe\">\n",
              "  <thead>\n",
              "    <tr style=\"text-align: right;\">\n",
              "      <th></th>\n",
              "      <th>Area_unit_2013_label</th>\n",
              "      <th>Rate_per_10000_population</th>\n",
              "      <th>Rate_ratio_NZ_average_rate</th>\n",
              "      <th>Urban_area_2013_label</th>\n",
              "      <th>Urban_area_type</th>\n",
              "      <th>Territorial_authority_area_2013_label</th>\n",
              "      <th>Region_2013_label</th>\n",
              "    </tr>\n",
              "  </thead>\n",
              "  <tbody>\n",
              "    <tr>\n",
              "      <th>count</th>\n",
              "      <td>2020</td>\n",
              "      <td>2020</td>\n",
              "      <td>2020</td>\n",
              "      <td>2020</td>\n",
              "      <td>2020</td>\n",
              "      <td>2020</td>\n",
              "      <td>2020</td>\n",
              "    </tr>\n",
              "    <tr>\n",
              "      <th>unique</th>\n",
              "      <td>2020</td>\n",
              "      <td>238</td>\n",
              "      <td>102</td>\n",
              "      <td>150</td>\n",
              "      <td>4</td>\n",
              "      <td>68</td>\n",
              "      <td>17</td>\n",
              "    </tr>\n",
              "    <tr>\n",
              "      <th>top</th>\n",
              "      <td>Bare Island</td>\n",
              "      <td>-</td>\n",
              "      <td>-</td>\n",
              "      <td>Rural (Incl.some Off Shore Islands)</td>\n",
              "      <td>Main urban area</td>\n",
              "      <td>Auckland</td>\n",
              "      <td>Auckland Region</td>\n",
              "    </tr>\n",
              "    <tr>\n",
              "      <th>freq</th>\n",
              "      <td>1</td>\n",
              "      <td>417</td>\n",
              "      <td>417</td>\n",
              "      <td>387</td>\n",
              "      <td>1112</td>\n",
              "      <td>437</td>\n",
              "      <td>437</td>\n",
              "    </tr>\n",
              "  </tbody>\n",
              "</table>\n",
              "</div>"
            ],
            "text/plain": [
              "       Area_unit_2013_label  ... Region_2013_label\n",
              "count                  2020  ...              2020\n",
              "unique                 2020  ...                17\n",
              "top             Bare Island  ...   Auckland Region\n",
              "freq                      1  ...               437\n",
              "\n",
              "[4 rows x 7 columns]"
            ]
          },
          "metadata": {
            "tags": []
          },
          "execution_count": 19
        }
      ]
    },
    {
      "cell_type": "markdown",
      "metadata": {
        "id": "8nLHbU72_r6W"
      },
      "source": [
        "# Filtering Columns\n",
        "\n",
        "\n",
        "> column base\n",
        "\n",
        "\n",
        "> row base\n",
        "\n",
        "\n",
        "\n"
      ]
    },
    {
      "cell_type": "code",
      "metadata": {
        "colab": {
          "base_uri": "https://localhost:8080/",
          "height": 402
        },
        "id": "GM5uNwBh_wKO",
        "outputId": "af40a836-dc39-465d-a896-9282b3bcbaed"
      },
      "source": [
        "df= df[(df['Area_unit_2013_code']!=\"null\")]\n",
        "\n",
        "df[['Area_unit_2013_code','Population_mid_point_2015']]"
      ],
      "execution_count": null,
      "outputs": [
        {
          "output_type": "execute_result",
          "data": {
            "text/html": [
              "<div>\n",
              "<style scoped>\n",
              "    .dataframe tbody tr th:only-of-type {\n",
              "        vertical-align: middle;\n",
              "    }\n",
              "\n",
              "    .dataframe tbody tr th {\n",
              "        vertical-align: top;\n",
              "    }\n",
              "\n",
              "    .dataframe thead th {\n",
              "        text-align: right;\n",
              "    }\n",
              "</style>\n",
              "<table border=\"1\" class=\"dataframe\">\n",
              "  <thead>\n",
              "    <tr style=\"text-align: right;\">\n",
              "      <th></th>\n",
              "      <th>Area_unit_2013_code</th>\n",
              "      <th>Population_mid_point_2015</th>\n",
              "    </tr>\n",
              "  </thead>\n",
              "  <tbody>\n",
              "    <tr>\n",
              "      <th>0</th>\n",
              "      <td>514102</td>\n",
              "      <td>15900</td>\n",
              "    </tr>\n",
              "    <tr>\n",
              "      <th>1</th>\n",
              "      <td>573101</td>\n",
              "      <td>8300</td>\n",
              "    </tr>\n",
              "    <tr>\n",
              "      <th>2</th>\n",
              "      <td>529700</td>\n",
              "      <td>3170</td>\n",
              "    </tr>\n",
              "    <tr>\n",
              "      <th>3</th>\n",
              "      <td>514103</td>\n",
              "      <td>13250</td>\n",
              "    </tr>\n",
              "    <tr>\n",
              "      <th>4</th>\n",
              "      <td>591500</td>\n",
              "      <td>570</td>\n",
              "    </tr>\n",
              "    <tr>\n",
              "      <th>...</th>\n",
              "      <td>...</td>\n",
              "      <td>...</td>\n",
              "    </tr>\n",
              "    <tr>\n",
              "      <th>2015</th>\n",
              "      <td>506653</td>\n",
              "      <td>3510</td>\n",
              "    </tr>\n",
              "    <tr>\n",
              "      <th>2016</th>\n",
              "      <td>610601</td>\n",
              "      <td>3590</td>\n",
              "    </tr>\n",
              "    <tr>\n",
              "      <th>2017</th>\n",
              "      <td>536513</td>\n",
              "      <td>3590</td>\n",
              "    </tr>\n",
              "    <tr>\n",
              "      <th>2018</th>\n",
              "      <td>574302</td>\n",
              "      <td>4020</td>\n",
              "    </tr>\n",
              "    <tr>\n",
              "      <th>2019</th>\n",
              "      <td>527007</td>\n",
              "      <td>5440</td>\n",
              "    </tr>\n",
              "  </tbody>\n",
              "</table>\n",
              "<p>2020 rows × 2 columns</p>\n",
              "</div>"
            ],
            "text/plain": [
              "      Area_unit_2013_code  Population_mid_point_2015\n",
              "0                  514102                      15900\n",
              "1                  573101                       8300\n",
              "2                  529700                       3170\n",
              "3                  514103                      13250\n",
              "4                  591500                        570\n",
              "...                   ...                        ...\n",
              "2015               506653                       3510\n",
              "2016               610601                       3590\n",
              "2017               536513                       3590\n",
              "2018               574302                       4020\n",
              "2019               527007                       5440\n",
              "\n",
              "[2020 rows x 2 columns]"
            ]
          },
          "metadata": {
            "tags": []
          },
          "execution_count": 35
        }
      ]
    },
    {
      "cell_type": "code",
      "metadata": {
        "colab": {
          "base_uri": "https://localhost:8080/"
        },
        "id": "GQN1cd9RAzKp",
        "outputId": "9ab600e5-cc36-4285-baa1-80e106adf974"
      },
      "source": [
        "df.Area_unit_2013_code.unique()"
      ],
      "execution_count": null,
      "outputs": [
        {
          "output_type": "execute_result",
          "data": {
            "text/plain": [
              "array([514102, 573101, 529700, ..., 536513, 574302, 527007])"
            ]
          },
          "metadata": {
            "tags": []
          },
          "execution_count": 38
        }
      ]
    },
    {
      "cell_type": "code",
      "metadata": {
        "colab": {
          "base_uri": "https://localhost:8080/"
        },
        "id": "L0lV2bUSCFd5",
        "outputId": "6f6d624b-2b63-4040-db68-c8a673bc9ad1"
      },
      "source": [
        "victs = df.Victimisations_calendar_year_2015\n",
        "popMid = df.Population_mid_point_2015\n",
        "\n",
        "df[(victs >= victs.mean()) &(popMid < popMid.mean())].shape\n"
      ],
      "execution_count": null,
      "outputs": [
        {
          "output_type": "execute_result",
          "data": {
            "text/plain": [
              "(111, 14)"
            ]
          },
          "metadata": {
            "tags": []
          },
          "execution_count": 44
        }
      ]
    },
    {
      "cell_type": "markdown",
      "metadata": {
        "id": "m7RrKLzhDtxZ"
      },
      "source": [
        "# iloc indexing"
      ]
    },
    {
      "cell_type": "code",
      "metadata": {
        "colab": {
          "base_uri": "https://localhost:8080/",
          "height": 291
        },
        "id": "WOSss5B_DnCw",
        "outputId": "9897a389-40ab-431f-e8ed-982a44840e97"
      },
      "source": [
        "# row 5\n",
        "df.iloc[4]\n",
        "\n",
        "# row 5 column 1\n",
        "df.iloc[4,0]\n",
        "\n",
        "# rows from 5 to 10\n",
        "df.iloc[4:11]"
      ],
      "execution_count": null,
      "outputs": [
        {
          "output_type": "execute_result",
          "data": {
            "text/html": [
              "<div>\n",
              "<style scoped>\n",
              "    .dataframe tbody tr th:only-of-type {\n",
              "        vertical-align: middle;\n",
              "    }\n",
              "\n",
              "    .dataframe tbody tr th {\n",
              "        vertical-align: top;\n",
              "    }\n",
              "\n",
              "    .dataframe thead th {\n",
              "        text-align: right;\n",
              "    }\n",
              "</style>\n",
              "<table border=\"1\" class=\"dataframe\">\n",
              "  <thead>\n",
              "    <tr style=\"text-align: right;\">\n",
              "      <th></th>\n",
              "      <th>Index</th>\n",
              "      <th>Area_unit_2013_code</th>\n",
              "      <th>Area_unit_2013_label</th>\n",
              "      <th>Victimisations_calendar_year_2015</th>\n",
              "      <th>Population_mid_point_2015</th>\n",
              "      <th>Rate_per_10000_population</th>\n",
              "      <th>Rate_ratio_NZ_average_rate</th>\n",
              "      <th>Urban_area_2013_code</th>\n",
              "      <th>Urban_area_2013_label</th>\n",
              "      <th>Urban_area_type</th>\n",
              "      <th>Territorial_authority_area_2013_code</th>\n",
              "      <th>Territorial_authority_area_2013_label</th>\n",
              "      <th>Region_2013_code</th>\n",
              "      <th>Region_2013_label</th>\n",
              "    </tr>\n",
              "  </thead>\n",
              "  <tbody>\n",
              "    <tr>\n",
              "      <th>4</th>\n",
              "      <td>5</td>\n",
              "      <td>591500</td>\n",
              "      <td>Cathedral Square</td>\n",
              "      <td>305</td>\n",
              "      <td>570</td>\n",
              "      <td>5,351</td>\n",
              "      <td>102.3</td>\n",
              "      <td>22</td>\n",
              "      <td>Christchurch</td>\n",
              "      <td>Main urban area</td>\n",
              "      <td>60</td>\n",
              "      <td>Christchurch City</td>\n",
              "      <td>13</td>\n",
              "      <td>Canterbury Region</td>\n",
              "    </tr>\n",
              "    <tr>\n",
              "      <th>5</th>\n",
              "      <td>6</td>\n",
              "      <td>514101</td>\n",
              "      <td>Auckland Harbourside</td>\n",
              "      <td>253</td>\n",
              "      <td>5680</td>\n",
              "      <td>445</td>\n",
              "      <td>8.5</td>\n",
              "      <td>4</td>\n",
              "      <td>Central Auckland Zone</td>\n",
              "      <td>Main urban area</td>\n",
              "      <td>76</td>\n",
              "      <td>Auckland</td>\n",
              "      <td>2</td>\n",
              "      <td>Auckland Region</td>\n",
              "    </tr>\n",
              "    <tr>\n",
              "      <th>6</th>\n",
              "      <td>7</td>\n",
              "      <td>524604</td>\n",
              "      <td>Manukau Central</td>\n",
              "      <td>192</td>\n",
              "      <td>900</td>\n",
              "      <td>2,133</td>\n",
              "      <td>40.8</td>\n",
              "      <td>5</td>\n",
              "      <td>Southern Auckland Zone</td>\n",
              "      <td>Main urban area</td>\n",
              "      <td>76</td>\n",
              "      <td>Auckland</td>\n",
              "      <td>2</td>\n",
              "      <td>Auckland Region</td>\n",
              "    </tr>\n",
              "    <tr>\n",
              "      <th>7</th>\n",
              "      <td>8</td>\n",
              "      <td>562800</td>\n",
              "      <td>Palmerston North Central</td>\n",
              "      <td>190</td>\n",
              "      <td>3060</td>\n",
              "      <td>621</td>\n",
              "      <td>11.9</td>\n",
              "      <td>16</td>\n",
              "      <td>Palmerston North</td>\n",
              "      <td>Main urban area</td>\n",
              "      <td>40</td>\n",
              "      <td>Palmerston North City</td>\n",
              "      <td>8</td>\n",
              "      <td>Manawatu-Wanganui Region</td>\n",
              "    </tr>\n",
              "    <tr>\n",
              "      <th>8</th>\n",
              "      <td>9</td>\n",
              "      <td>540410</td>\n",
              "      <td>Kuirau</td>\n",
              "      <td>168</td>\n",
              "      <td>1290</td>\n",
              "      <td>1,302</td>\n",
              "      <td>24.9</td>\n",
              "      <td>10</td>\n",
              "      <td>Rotorua</td>\n",
              "      <td>Main urban area</td>\n",
              "      <td>24</td>\n",
              "      <td>Rotorua District</td>\n",
              "      <td>4</td>\n",
              "      <td>Bay of Plenty Region</td>\n",
              "    </tr>\n",
              "    <tr>\n",
              "      <th>9</th>\n",
              "      <td>10</td>\n",
              "      <td>538201</td>\n",
              "      <td>Tauranga Central</td>\n",
              "      <td>167</td>\n",
              "      <td>2270</td>\n",
              "      <td>736</td>\n",
              "      <td>14.1</td>\n",
              "      <td>9</td>\n",
              "      <td>Tauranga</td>\n",
              "      <td>Main urban area</td>\n",
              "      <td>23</td>\n",
              "      <td>Tauranga City</td>\n",
              "      <td>4</td>\n",
              "      <td>Bay of Plenty Region</td>\n",
              "    </tr>\n",
              "    <tr>\n",
              "      <th>10</th>\n",
              "      <td>11</td>\n",
              "      <td>603100</td>\n",
              "      <td>Stuart St-Frederick St</td>\n",
              "      <td>154</td>\n",
              "      <td>3360</td>\n",
              "      <td>458</td>\n",
              "      <td>8.8</td>\n",
              "      <td>23</td>\n",
              "      <td>Dunedin</td>\n",
              "      <td>Main urban area</td>\n",
              "      <td>71</td>\n",
              "      <td>Dunedin City</td>\n",
              "      <td>14</td>\n",
              "      <td>Otago Region</td>\n",
              "    </tr>\n",
              "  </tbody>\n",
              "</table>\n",
              "</div>"
            ],
            "text/plain": [
              "    Index  Area_unit_2013_code  ... Region_2013_code         Region_2013_label\n",
              "4       5               591500  ...               13         Canterbury Region\n",
              "5       6               514101  ...                2           Auckland Region\n",
              "6       7               524604  ...                2           Auckland Region\n",
              "7       8               562800  ...                8  Manawatu-Wanganui Region\n",
              "8       9               540410  ...                4      Bay of Plenty Region\n",
              "9      10               538201  ...                4      Bay of Plenty Region\n",
              "10     11               603100  ...               14              Otago Region\n",
              "\n",
              "[7 rows x 14 columns]"
            ]
          },
          "metadata": {
            "tags": []
          },
          "execution_count": 50
        }
      ]
    },
    {
      "cell_type": "markdown",
      "metadata": {
        "id": "G6Pua_x0Eetj"
      },
      "source": [
        "# loc indexing"
      ]
    },
    {
      "cell_type": "code",
      "metadata": {
        "colab": {
          "base_uri": "https://localhost:8080/",
          "height": 262
        },
        "id": "609-8TgeEd8j",
        "outputId": "3b110a87-f954-4821-e511-046596145b78"
      },
      "source": [
        "dfCopy = df.copy()\n",
        "dfCopy.set_index('Area_unit_2013_label',inplace = True)\n",
        "dfCopy.head()"
      ],
      "execution_count": null,
      "outputs": [
        {
          "output_type": "execute_result",
          "data": {
            "text/html": [
              "<div>\n",
              "<style scoped>\n",
              "    .dataframe tbody tr th:only-of-type {\n",
              "        vertical-align: middle;\n",
              "    }\n",
              "\n",
              "    .dataframe tbody tr th {\n",
              "        vertical-align: top;\n",
              "    }\n",
              "\n",
              "    .dataframe thead th {\n",
              "        text-align: right;\n",
              "    }\n",
              "</style>\n",
              "<table border=\"1\" class=\"dataframe\">\n",
              "  <thead>\n",
              "    <tr style=\"text-align: right;\">\n",
              "      <th></th>\n",
              "      <th>Index</th>\n",
              "      <th>Area_unit_2013_code</th>\n",
              "      <th>Victimisations_calendar_year_2015</th>\n",
              "      <th>Population_mid_point_2015</th>\n",
              "      <th>Rate_per_10000_population</th>\n",
              "      <th>Rate_ratio_NZ_average_rate</th>\n",
              "      <th>Urban_area_2013_code</th>\n",
              "      <th>Urban_area_2013_label</th>\n",
              "      <th>Urban_area_type</th>\n",
              "      <th>Territorial_authority_area_2013_code</th>\n",
              "      <th>Territorial_authority_area_2013_label</th>\n",
              "      <th>Region_2013_code</th>\n",
              "      <th>Region_2013_label</th>\n",
              "    </tr>\n",
              "    <tr>\n",
              "      <th>Area_unit_2013_label</th>\n",
              "      <th></th>\n",
              "      <th></th>\n",
              "      <th></th>\n",
              "      <th></th>\n",
              "      <th></th>\n",
              "      <th></th>\n",
              "      <th></th>\n",
              "      <th></th>\n",
              "      <th></th>\n",
              "      <th></th>\n",
              "      <th></th>\n",
              "      <th></th>\n",
              "      <th></th>\n",
              "    </tr>\n",
              "  </thead>\n",
              "  <tbody>\n",
              "    <tr>\n",
              "      <th>Auckland Central West</th>\n",
              "      <td>1</td>\n",
              "      <td>514102</td>\n",
              "      <td>550</td>\n",
              "      <td>15900</td>\n",
              "      <td>346</td>\n",
              "      <td>6.6</td>\n",
              "      <td>4</td>\n",
              "      <td>Central Auckland Zone</td>\n",
              "      <td>Main urban area</td>\n",
              "      <td>76</td>\n",
              "      <td>Auckland</td>\n",
              "      <td>2</td>\n",
              "      <td>Auckland Region</td>\n",
              "    </tr>\n",
              "    <tr>\n",
              "      <th>Willis Street-Cambridge Terrace</th>\n",
              "      <td>2</td>\n",
              "      <td>573101</td>\n",
              "      <td>447</td>\n",
              "      <td>8300</td>\n",
              "      <td>539</td>\n",
              "      <td>10.3</td>\n",
              "      <td>20</td>\n",
              "      <td>Wellington Zone</td>\n",
              "      <td>Main urban area</td>\n",
              "      <td>47</td>\n",
              "      <td>Wellington City</td>\n",
              "      <td>9</td>\n",
              "      <td>Wellington Region</td>\n",
              "    </tr>\n",
              "    <tr>\n",
              "      <th>Hamilton Central</th>\n",
              "      <td>3</td>\n",
              "      <td>529700</td>\n",
              "      <td>380</td>\n",
              "      <td>3170</td>\n",
              "      <td>1,199</td>\n",
              "      <td>22.9</td>\n",
              "      <td>6</td>\n",
              "      <td>Hamilton Zone</td>\n",
              "      <td>Main urban area</td>\n",
              "      <td>16</td>\n",
              "      <td>Hamilton City</td>\n",
              "      <td>3</td>\n",
              "      <td>Waikato Region</td>\n",
              "    </tr>\n",
              "    <tr>\n",
              "      <th>Auckland Central East</th>\n",
              "      <td>4</td>\n",
              "      <td>514103</td>\n",
              "      <td>375</td>\n",
              "      <td>13250</td>\n",
              "      <td>283</td>\n",
              "      <td>5.4</td>\n",
              "      <td>4</td>\n",
              "      <td>Central Auckland Zone</td>\n",
              "      <td>Main urban area</td>\n",
              "      <td>76</td>\n",
              "      <td>Auckland</td>\n",
              "      <td>2</td>\n",
              "      <td>Auckland Region</td>\n",
              "    </tr>\n",
              "    <tr>\n",
              "      <th>Cathedral Square</th>\n",
              "      <td>5</td>\n",
              "      <td>591500</td>\n",
              "      <td>305</td>\n",
              "      <td>570</td>\n",
              "      <td>5,351</td>\n",
              "      <td>102.3</td>\n",
              "      <td>22</td>\n",
              "      <td>Christchurch</td>\n",
              "      <td>Main urban area</td>\n",
              "      <td>60</td>\n",
              "      <td>Christchurch City</td>\n",
              "      <td>13</td>\n",
              "      <td>Canterbury Region</td>\n",
              "    </tr>\n",
              "  </tbody>\n",
              "</table>\n",
              "</div>"
            ],
            "text/plain": [
              "                                 Index  ...  Region_2013_label\n",
              "Area_unit_2013_label                    ...                   \n",
              "Auckland Central West                1  ...    Auckland Region\n",
              "Willis Street-Cambridge Terrace      2  ...  Wellington Region\n",
              "Hamilton Central                     3  ...     Waikato Region\n",
              "Auckland Central East                4  ...    Auckland Region\n",
              "Cathedral Square                     5  ...  Canterbury Region\n",
              "\n",
              "[5 rows x 13 columns]"
            ]
          },
          "metadata": {
            "tags": []
          },
          "execution_count": 52
        }
      ]
    },
    {
      "cell_type": "markdown",
      "metadata": {
        "id": "ccdCa8PrFkne"
      },
      "source": [
        "# Update\n",
        "\n",
        "\n",
        "> drop rows\n",
        "> add new column\n",
        "> condition based updating using apply\n",
        "\n"
      ]
    },
    {
      "cell_type": "code",
      "metadata": {
        "colab": {
          "base_uri": "https://localhost:8080/"
        },
        "id": "M2_pnHSYFhET",
        "outputId": "f0b773db-f3f8-4769-f2b1-d72f33156656"
      },
      "source": [
        "# drop rows with null value\n",
        "df.dropna(inplace= True)\n",
        "df.isnull().sum()"
      ],
      "execution_count": null,
      "outputs": [
        {
          "output_type": "execute_result",
          "data": {
            "text/plain": [
              "Index                                    0\n",
              "Area_unit_2013_code                      0\n",
              "Area_unit_2013_label                     0\n",
              "Victimisations_calendar_year_2015        0\n",
              "Population_mid_point_2015                0\n",
              " Rate_per_10000_population               0\n",
              " Rate_ratio_NZ_average_rate              0\n",
              "Urban_area_2013_code                     0\n",
              "Urban_area_2013_label                    0\n",
              "Urban_area_type                          0\n",
              "Territorial_authority_area_2013_code     0\n",
              "Territorial_authority_area_2013_label    0\n",
              "Region_2013_code                         0\n",
              "Region_2013_label                        0\n",
              "dtype: int64"
            ]
          },
          "metadata": {
            "tags": []
          },
          "execution_count": 57
        }
      ]
    },
    {
      "cell_type": "code",
      "metadata": {
        "colab": {
          "base_uri": "https://localhost:8080/",
          "height": 485
        },
        "id": "x1RHe4e0GKGL",
        "outputId": "b6543a4c-3300-46e0-e15b-0fe7d8543633"
      },
      "source": [
        "dfCopy.drop('Urban_area_type',axis = 1)"
      ],
      "execution_count": null,
      "outputs": [
        {
          "output_type": "execute_result",
          "data": {
            "text/html": [
              "<div>\n",
              "<style scoped>\n",
              "    .dataframe tbody tr th:only-of-type {\n",
              "        vertical-align: middle;\n",
              "    }\n",
              "\n",
              "    .dataframe tbody tr th {\n",
              "        vertical-align: top;\n",
              "    }\n",
              "\n",
              "    .dataframe thead th {\n",
              "        text-align: right;\n",
              "    }\n",
              "</style>\n",
              "<table border=\"1\" class=\"dataframe\">\n",
              "  <thead>\n",
              "    <tr style=\"text-align: right;\">\n",
              "      <th></th>\n",
              "      <th>Index</th>\n",
              "      <th>Area_unit_2013_code</th>\n",
              "      <th>Victimisations_calendar_year_2015</th>\n",
              "      <th>Population_mid_point_2015</th>\n",
              "      <th>Rate_per_10000_population</th>\n",
              "      <th>Rate_ratio_NZ_average_rate</th>\n",
              "      <th>Urban_area_2013_code</th>\n",
              "      <th>Urban_area_2013_label</th>\n",
              "      <th>Territorial_authority_area_2013_code</th>\n",
              "      <th>Territorial_authority_area_2013_label</th>\n",
              "      <th>Region_2013_code</th>\n",
              "      <th>Region_2013_label</th>\n",
              "    </tr>\n",
              "    <tr>\n",
              "      <th>Area_unit_2013_label</th>\n",
              "      <th></th>\n",
              "      <th></th>\n",
              "      <th></th>\n",
              "      <th></th>\n",
              "      <th></th>\n",
              "      <th></th>\n",
              "      <th></th>\n",
              "      <th></th>\n",
              "      <th></th>\n",
              "      <th></th>\n",
              "      <th></th>\n",
              "      <th></th>\n",
              "    </tr>\n",
              "  </thead>\n",
              "  <tbody>\n",
              "    <tr>\n",
              "      <th>Auckland Central West</th>\n",
              "      <td>1</td>\n",
              "      <td>514102</td>\n",
              "      <td>550</td>\n",
              "      <td>15900</td>\n",
              "      <td>346</td>\n",
              "      <td>6.6</td>\n",
              "      <td>4</td>\n",
              "      <td>Central Auckland Zone</td>\n",
              "      <td>76</td>\n",
              "      <td>Auckland</td>\n",
              "      <td>2</td>\n",
              "      <td>Auckland Region</td>\n",
              "    </tr>\n",
              "    <tr>\n",
              "      <th>Willis Street-Cambridge Terrace</th>\n",
              "      <td>2</td>\n",
              "      <td>573101</td>\n",
              "      <td>447</td>\n",
              "      <td>8300</td>\n",
              "      <td>539</td>\n",
              "      <td>10.3</td>\n",
              "      <td>20</td>\n",
              "      <td>Wellington Zone</td>\n",
              "      <td>47</td>\n",
              "      <td>Wellington City</td>\n",
              "      <td>9</td>\n",
              "      <td>Wellington Region</td>\n",
              "    </tr>\n",
              "    <tr>\n",
              "      <th>Hamilton Central</th>\n",
              "      <td>3</td>\n",
              "      <td>529700</td>\n",
              "      <td>380</td>\n",
              "      <td>3170</td>\n",
              "      <td>1,199</td>\n",
              "      <td>22.9</td>\n",
              "      <td>6</td>\n",
              "      <td>Hamilton Zone</td>\n",
              "      <td>16</td>\n",
              "      <td>Hamilton City</td>\n",
              "      <td>3</td>\n",
              "      <td>Waikato Region</td>\n",
              "    </tr>\n",
              "    <tr>\n",
              "      <th>Auckland Central East</th>\n",
              "      <td>4</td>\n",
              "      <td>514103</td>\n",
              "      <td>375</td>\n",
              "      <td>13250</td>\n",
              "      <td>283</td>\n",
              "      <td>5.4</td>\n",
              "      <td>4</td>\n",
              "      <td>Central Auckland Zone</td>\n",
              "      <td>76</td>\n",
              "      <td>Auckland</td>\n",
              "      <td>2</td>\n",
              "      <td>Auckland Region</td>\n",
              "    </tr>\n",
              "    <tr>\n",
              "      <th>Cathedral Square</th>\n",
              "      <td>5</td>\n",
              "      <td>591500</td>\n",
              "      <td>305</td>\n",
              "      <td>570</td>\n",
              "      <td>5,351</td>\n",
              "      <td>102.3</td>\n",
              "      <td>22</td>\n",
              "      <td>Christchurch</td>\n",
              "      <td>60</td>\n",
              "      <td>Christchurch City</td>\n",
              "      <td>13</td>\n",
              "      <td>Canterbury Region</td>\n",
              "    </tr>\n",
              "    <tr>\n",
              "      <th>...</th>\n",
              "      <td>...</td>\n",
              "      <td>...</td>\n",
              "      <td>...</td>\n",
              "      <td>...</td>\n",
              "      <td>...</td>\n",
              "      <td>...</td>\n",
              "      <td>...</td>\n",
              "      <td>...</td>\n",
              "      <td>...</td>\n",
              "      <td>...</td>\n",
              "      <td>...</td>\n",
              "      <td>...</td>\n",
              "    </tr>\n",
              "    <tr>\n",
              "      <th>Riverhead</th>\n",
              "      <td>2016</td>\n",
              "      <td>506653</td>\n",
              "      <td>0</td>\n",
              "      <td>3510</td>\n",
              "      <td>-</td>\n",
              "      <td>-</td>\n",
              "      <td>502</td>\n",
              "      <td>Rural (Incl.some Off Shore Islands)</td>\n",
              "      <td>76</td>\n",
              "      <td>Auckland</td>\n",
              "      <td>2</td>\n",
              "      <td>Auckland Region</td>\n",
              "    </tr>\n",
              "    <tr>\n",
              "      <th>Grasmere</th>\n",
              "      <td>2017</td>\n",
              "      <td>610601</td>\n",
              "      <td>0</td>\n",
              "      <td>3590</td>\n",
              "      <td>-</td>\n",
              "      <td>-</td>\n",
              "      <td>24</td>\n",
              "      <td>Invercargill</td>\n",
              "      <td>75</td>\n",
              "      <td>Invercargill City</td>\n",
              "      <td>15</td>\n",
              "      <td>Southland Region</td>\n",
              "    </tr>\n",
              "    <tr>\n",
              "      <th>Bethlehem East</th>\n",
              "      <td>2018</td>\n",
              "      <td>536513</td>\n",
              "      <td>0</td>\n",
              "      <td>3590</td>\n",
              "      <td>-</td>\n",
              "      <td>-</td>\n",
              "      <td>9</td>\n",
              "      <td>Tauranga</td>\n",
              "      <td>23</td>\n",
              "      <td>Tauranga City</td>\n",
              "      <td>4</td>\n",
              "      <td>Bay of Plenty Region</td>\n",
              "    </tr>\n",
              "    <tr>\n",
              "      <th>Te Kainga</th>\n",
              "      <td>2019</td>\n",
              "      <td>574302</td>\n",
              "      <td>0</td>\n",
              "      <td>4020</td>\n",
              "      <td>-</td>\n",
              "      <td>-</td>\n",
              "      <td>20</td>\n",
              "      <td>Wellington Zone</td>\n",
              "      <td>47</td>\n",
              "      <td>Wellington City</td>\n",
              "      <td>9</td>\n",
              "      <td>Wellington Region</td>\n",
              "    </tr>\n",
              "    <tr>\n",
              "      <th>Horsham Downs</th>\n",
              "      <td>2020</td>\n",
              "      <td>527007</td>\n",
              "      <td>0</td>\n",
              "      <td>5440</td>\n",
              "      <td>-</td>\n",
              "      <td>-</td>\n",
              "      <td>6</td>\n",
              "      <td>Hamilton Zone</td>\n",
              "      <td>16</td>\n",
              "      <td>Hamilton City</td>\n",
              "      <td>3</td>\n",
              "      <td>Waikato Region</td>\n",
              "    </tr>\n",
              "  </tbody>\n",
              "</table>\n",
              "<p>2020 rows × 12 columns</p>\n",
              "</div>"
            ],
            "text/plain": [
              "                                 Index  ...     Region_2013_label\n",
              "Area_unit_2013_label                    ...                      \n",
              "Auckland Central West                1  ...       Auckland Region\n",
              "Willis Street-Cambridge Terrace      2  ...     Wellington Region\n",
              "Hamilton Central                     3  ...        Waikato Region\n",
              "Auckland Central East                4  ...       Auckland Region\n",
              "Cathedral Square                     5  ...     Canterbury Region\n",
              "...                                ...  ...                   ...\n",
              "Riverhead                         2016  ...       Auckland Region\n",
              "Grasmere                          2017  ...      Southland Region\n",
              "Bethlehem East                    2018  ...  Bay of Plenty Region\n",
              "Te Kainga                         2019  ...     Wellington Region\n",
              "Horsham Downs                     2020  ...        Waikato Region\n",
              "\n",
              "[2020 rows x 12 columns]"
            ]
          },
          "metadata": {
            "tags": []
          },
          "execution_count": 59
        }
      ]
    },
    {
      "cell_type": "code",
      "metadata": {
        "id": "DuDzx-UaGhvu"
      },
      "source": [
        "df['New column'] = df.\n",
        "df.head()"
      ],
      "execution_count": null,
      "outputs": []
    },
    {
      "cell_type": "code",
      "metadata": {
        "id": "7U-aX2OeHfKZ"
      },
      "source": [
        "df[] = df[].apply(lambda x: 1 if x else 0)"
      ],
      "execution_count": null,
      "outputs": []
    },
    {
      "cell_type": "markdown",
      "metadata": {
        "id": "gez7Cv_QHtfO"
      },
      "source": [
        "# Delete/Ouptut\n",
        "\n",
        "\n",
        "> Output to csv\n",
        "\n",
        "> Output to json\n",
        "\n",
        "> Output to html\n",
        "\n",
        "> Delete a data frame\n",
        "\n"
      ]
    },
    {
      "cell_type": "code",
      "metadata": {
        "id": "gJUd2IAOH85l"
      },
      "source": [
        "df.to_csv('output.csv')\n",
        "\n",
        "df.to_json()"
      ],
      "execution_count": null,
      "outputs": []
    },
    {
      "cell_type": "code",
      "metadata": {
        "id": "qp_roaKkIzDk"
      },
      "source": [
        "df.to_html()"
      ],
      "execution_count": null,
      "outputs": []
    },
    {
      "cell_type": "code",
      "metadata": {
        "id": "5Ik7P2MrI1EF"
      },
      "source": [
        "del df"
      ],
      "execution_count": null,
      "outputs": []
    }
  ]
}