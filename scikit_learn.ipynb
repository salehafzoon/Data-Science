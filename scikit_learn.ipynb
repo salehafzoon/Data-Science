{
  "nbformat": 4,
  "nbformat_minor": 0,
  "metadata": {
    "colab": {
      "name": "scikit-learn.ipynb",
      "provenance": [],
      "collapsed_sections": [],
      "toc_visible": true,
      "authorship_tag": "ABX9TyPnqjFk/BFRypNi6G38u6DJ",
      "include_colab_link": true
    },
    "kernelspec": {
      "name": "python3",
      "display_name": "Python 3"
    },
    "language_info": {
      "name": "python"
    }
  },
  "cells": [
    {
      "cell_type": "markdown",
      "metadata": {
        "id": "view-in-github",
        "colab_type": "text"
      },
      "source": [
        "<a href=\"https://colab.research.google.com/github/salehafzoon/Data-Science/blob/main/scikit_learn.ipynb\" target=\"_parent\"><img src=\"https://colab.research.google.com/assets/colab-badge.svg\" alt=\"Open In Colab\"/></a>"
      ]
    },
    {
      "cell_type": "markdown",
      "metadata": {
        "id": "AV827jYb-koV"
      },
      "source": [
        "# Getting started"
      ]
    },
    {
      "cell_type": "code",
      "metadata": {
        "colab": {
          "base_uri": "https://localhost:8080/"
        },
        "id": "f065bAev6I4T",
        "outputId": "a21ebd56-4e22-43b5-d876-7458107b5e90"
      },
      "source": [
        "from sklearn.datasets import load_iris\n",
        "\n",
        "# bunch object contains iris dataset and its attributes\n",
        "iris = load_iris()\n",
        "type(iris)"
      ],
      "execution_count": 1,
      "outputs": [
        {
          "output_type": "execute_result",
          "data": {
            "text/plain": [
              "sklearn.utils.Bunch"
            ]
          },
          "metadata": {
            "tags": []
          },
          "execution_count": 1
        }
      ]
    },
    {
      "cell_type": "markdown",
      "metadata": {
        "id": "pq9Mv47E8Xel"
      },
      "source": [
        "Each row is called observation/ record/ sample/ example/ instance\n",
        "\n",
        "Each column is called feature/ predictor/ attribute/ independent variable/ input/ regressor "
      ]
    },
    {
      "cell_type": "code",
      "metadata": {
        "colab": {
          "base_uri": "https://localhost:8080/"
        },
        "id": "Xj7UF9048s6l",
        "outputId": "2c0b1bde-03ca-4328-bb98-74524c471b89"
      },
      "source": [
        "iris.feature_names"
      ],
      "execution_count": null,
      "outputs": [
        {
          "output_type": "execute_result",
          "data": {
            "text/plain": [
              "['sepal length (cm)',\n",
              " 'sepal width (cm)',\n",
              " 'petal length (cm)',\n",
              " 'petal width (cm)']"
            ]
          },
          "metadata": {
            "tags": []
          },
          "execution_count": 7
        }
      ]
    },
    {
      "cell_type": "code",
      "metadata": {
        "id": "LLsn-LZW8zIt"
      },
      "source": [
        "iris.target"
      ],
      "execution_count": null,
      "outputs": []
    },
    {
      "cell_type": "code",
      "metadata": {
        "colab": {
          "base_uri": "https://localhost:8080/"
        },
        "id": "XX16cUva81PU",
        "outputId": "d8a07099-db96-43b8-ae0b-b2b6af8b98a9"
      },
      "source": [
        "iris.target_names"
      ],
      "execution_count": null,
      "outputs": [
        {
          "output_type": "execute_result",
          "data": {
            "text/plain": [
              "array(['setosa', 'versicolor', 'virginica'], dtype='<U10')"
            ]
          },
          "metadata": {
            "tags": []
          },
          "execution_count": 9
        }
      ]
    },
    {
      "cell_type": "code",
      "metadata": {
        "colab": {
          "base_uri": "https://localhost:8080/"
        },
        "id": "1qlHKT1e84MQ",
        "outputId": "4434d9d7-1cef-40ae-a779-ce17d6a970e7"
      },
      "source": [
        "print( type(iris.data))\n",
        "print( type(iris.target))\n",
        "print( iris.data.shape)\n",
        "print( iris.target.shape)\n",
        "\n",
        "X = iris.data\n",
        "y = iris.target"
      ],
      "execution_count": 2,
      "outputs": [
        {
          "output_type": "stream",
          "text": [
            "<class 'numpy.ndarray'>\n",
            "<class 'numpy.ndarray'>\n",
            "(150, 4)\n",
            "(150,)\n"
          ],
          "name": "stdout"
        }
      ]
    },
    {
      "cell_type": "markdown",
      "metadata": {
        "id": "7DGcgl6P-n0J"
      },
      "source": [
        "# Training a ML model"
      ]
    },
    {
      "cell_type": "code",
      "metadata": {
        "colab": {
          "base_uri": "https://localhost:8080/"
        },
        "id": "Nerivkte-3NE",
        "outputId": "a9eec339-a267-4905-e677-39c75b7b718a"
      },
      "source": [
        "from sklearn.neighbors import KNeighborsClassifier\n",
        "\n",
        "# instantiate the estimator\n",
        "knn1 = KNeighborsClassifier(n_neighbors = 1)\n",
        "\n",
        "print(knn1)"
      ],
      "execution_count": 3,
      "outputs": [
        {
          "output_type": "stream",
          "text": [
            "KNeighborsClassifier(algorithm='auto', leaf_size=30, metric='minkowski',\n",
            "                     metric_params=None, n_jobs=None, n_neighbors=1, p=2,\n",
            "                     weights='uniform')\n"
          ],
          "name": "stdout"
        }
      ]
    },
    {
      "cell_type": "code",
      "metadata": {
        "colab": {
          "base_uri": "https://localhost:8080/"
        },
        "id": "TJBFxVJb_bjd",
        "outputId": "f054268d-0427-411b-88c0-f72d4e769e12"
      },
      "source": [
        "X_new = [[3,5,4,2],[5,4,3,2]]\n",
        "\n",
        "knn1.fit(X,y)\n",
        "print(knn1.predict(X_new))\n",
        "\n",
        "knn5 = KNeighborsClassifier(n_neighbors = 5)\n",
        "knn5.fit(X,y)\n",
        "print(knn5.predict(X_new))"
      ],
      "execution_count": 4,
      "outputs": [
        {
          "output_type": "stream",
          "text": [
            "[2 1]\n",
            "[1 1]\n"
          ],
          "name": "stdout"
        }
      ]
    },
    {
      "cell_type": "code",
      "metadata": {
        "colab": {
          "base_uri": "https://localhost:8080/"
        },
        "id": "NBIPAaQXAwZN",
        "outputId": "8e4153c4-328e-4fb1-b155-a8199b8ebbf7"
      },
      "source": [
        "from sklearn.linear_model import LogisticRegression\n",
        "\n",
        "logreg = LogisticRegression(max_iter=120)\n",
        "logreg.fit(X, y)\n",
        "\n",
        "logreg.predict(X_new)"
      ],
      "execution_count": 5,
      "outputs": [
        {
          "output_type": "execute_result",
          "data": {
            "text/plain": [
              "array([0, 0])"
            ]
          },
          "metadata": {
            "tags": []
          },
          "execution_count": 5
        }
      ]
    },
    {
      "cell_type": "markdown",
      "metadata": {
        "id": "Yt7z8xc2BlOI"
      },
      "source": [
        "# Comparing ML models\n",
        "\n"
      ]
    },
    {
      "cell_type": "markdown",
      "metadata": {
        "id": "pGexV5YHCoye"
      },
      "source": [
        "> 1 : Train & Test on entire dataset\n"
      ]
    },
    {
      "cell_type": "code",
      "metadata": {
        "id": "_37xnOEtBgs7",
        "colab": {
          "base_uri": "https://localhost:8080/"
        },
        "outputId": "010e829c-2504-443a-852c-5a8c87f1779f"
      },
      "source": [
        "y_pred = logreg.predict(X)\n",
        "y_knn1 = knn1.predict(X)\n",
        "y_knn5 = knn5.predict(X)\n",
        "\n",
        "len(y_pred)"
      ],
      "execution_count": 6,
      "outputs": [
        {
          "output_type": "execute_result",
          "data": {
            "text/plain": [
              "150"
            ]
          },
          "metadata": {
            "tags": []
          },
          "execution_count": 6
        }
      ]
    },
    {
      "cell_type": "code",
      "metadata": {
        "colab": {
          "base_uri": "https://localhost:8080/"
        },
        "id": "tz_CZjrCVPv2",
        "outputId": "d66cdaae-2e73-4e1c-f6a0-5dd37f7acfab"
      },
      "source": [
        "from sklearn import metrics\n",
        "\n",
        "print( 'logreg training accuracy:',metrics.accuracy_score(y,y_pred))\n",
        "print( 'knn1 training accuracy:',metrics.accuracy_score(y,y_knn1))\n",
        "print( 'knn5 training accuracy:',metrics.accuracy_score(y,y_knn5))\n"
      ],
      "execution_count": null,
      "outputs": [
        {
          "output_type": "stream",
          "text": [
            "logreg training accuracy: 0.9733333333333334\n",
            "knn1 training accuracy: 1.0\n",
            "knn5 training accuracy: 0.9666666666666667\n"
          ],
          "name": "stdout"
        }
      ]
    },
    {
      "cell_type": "markdown",
      "metadata": {
        "id": "sgRAaoGUv6Fs"
      },
      "source": [
        "-Creating unnecessary model called overfiting like KNN-1\n",
        "- such model learn from noise data too"
      ]
    },
    {
      "cell_type": "code",
      "metadata": {
        "id": "mGMZOpdWVkNc",
        "colab": {
          "base_uri": "https://localhost:8080/"
        },
        "outputId": "54ea19f9-ac41-4c96-87b8-2094fb17cc78"
      },
      "source": [
        "from sklearn.model_selection import train_test_split\n",
        "X_train, X_test, y_train, y_test = \\\n",
        "train_test_split(X,y, test_size = 0.4, random_state = 4)\n",
        "\n",
        "print(X_train.shape)\n",
        "print(y_train.shape)"
      ],
      "execution_count": 14,
      "outputs": [
        {
          "output_type": "stream",
          "text": [
            "(90, 4)\n",
            "(90,)\n"
          ],
          "name": "stdout"
        }
      ]
    },
    {
      "cell_type": "code",
      "metadata": {
        "id": "jytLOnpPyLY2"
      },
      "source": [
        "logreg.fit(X_train, y_train)\n",
        "knn1.fit(X_train, y_train)\n",
        "knn5.fit(X_train, y_train)\n",
        "\n",
        "log_pred = logreg.predict(X_test)\n",
        "knn1_pred = knn1.predict(X_test)\n",
        "knn5_pred = knn5.predict(X_test)"
      ],
      "execution_count": 19,
      "outputs": []
    },
    {
      "cell_type": "code",
      "metadata": {
        "colab": {
          "base_uri": "https://localhost:8080/"
        },
        "id": "5WvLSPBAzLRo",
        "outputId": "cf901e6f-4fb9-42f8-eda8-1bbb42a98752"
      },
      "source": [
        "from sklearn import metrics\n",
        "\n",
        "print( 'logreg training accuracy:',metrics.accuracy_score(y_test,log_pred))\n",
        "print( 'knn1 training accuracy:',metrics.accuracy_score(y_test,knn1_pred))\n",
        "print( 'knn5 training accuracy:',metrics.accuracy_score(y_test,knn5_pred))\n"
      ],
      "execution_count": 20,
      "outputs": [
        {
          "output_type": "stream",
          "text": [
            "logreg training accuracy: 0.9666666666666667\n",
            "knn1 training accuracy: 0.95\n",
            "knn5 training accuracy: 0.9666666666666667\n"
          ],
          "name": "stdout"
        }
      ]
    },
    {
      "cell_type": "code",
      "metadata": {
        "id": "0VBLwzrU0Ak6"
      },
      "source": [
        "k_range = range(1,26)\n",
        "scores = []\n",
        "for k in k_range:\n",
        "  knn = KNeighborsClassifier(n_neighbors = k)\n",
        "  knn.fit(X_train, y_train)\n",
        "  pred = knn.predict(X_test)\n",
        "  scores.append(metrics.accuracy_score(y_test,pred))"
      ],
      "execution_count": 26,
      "outputs": []
    },
    {
      "cell_type": "code",
      "metadata": {
        "colab": {
          "base_uri": "https://localhost:8080/",
          "height": 300
        },
        "id": "6nK-3UL1zyHv",
        "outputId": "7a57c46c-0833-447f-960e-405c4650ea28"
      },
      "source": [
        "import matplotlib.pyplot as plt\n",
        "\n",
        "plt.plot(k_range , scores)\n",
        "plt.xlabel('Value of K for KNN')\n",
        "plt.ylabel('Testing Accuracy')"
      ],
      "execution_count": 28,
      "outputs": [
        {
          "output_type": "execute_result",
          "data": {
            "text/plain": [
              "Text(0, 0.5, 'Testing Accuracy')"
            ]
          },
          "metadata": {
            "tags": []
          },
          "execution_count": 28
        },
        {
          "output_type": "display_data",
          "data": {
            "image/png": "[encoded data removed]",
            "text/plain": [
              "<Figure size 432x288 with 1 Axes>"
            ]
          },
          "metadata": {
            "tags": [],
            "needs_background": "light"
          }
        }
      ]
    },
    {
      "cell_type": "markdown",
      "metadata": {
        "id": "_Vu2rMv91EMF"
      },
      "source": [
        "- Trainig accuracy rises as model complexity increases\n",
        "- Testing accuracy penalizes models that are too complex  or not complex enough"
      ]
    },
    {
      "cell_type": "markdown",
      "metadata": {
        "id": "kfVUC2uI1o5k"
      },
      "source": [
        "## Downsides of train/test split\n",
        "- Provides a **high-variance estimate** of out-of-sample accuracy\n",
        "- **K-fold cross-validation** overcomes this limitation"
      ]
    }
  ]
}