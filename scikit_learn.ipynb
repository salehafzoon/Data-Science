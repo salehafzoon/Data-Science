{
  "nbformat": 4,
  "nbformat_minor": 0,
  "metadata": {
    "colab": {
      "name": "scikit-learn.ipynb",
      "provenance": [],
      "collapsed_sections": [],
      "authorship_tag": "ABX9TyOcGaOUvRlMzeiHNrvljU6W",
      "include_colab_link": true
    },
    "kernelspec": {
      "name": "python3",
      "display_name": "Python 3"
    },
    "language_info": {
      "name": "python"
    }
  },
  "cells": [
    {
      "cell_type": "markdown",
      "metadata": {
        "id": "view-in-github",
        "colab_type": "text"
      },
      "source": [
        "<a href=\"https://colab.research.google.com/github/salehafzoon/Data-Science/blob/main/scikit_learn.ipynb\" target=\"_parent\"><img src=\"https://colab.research.google.com/assets/colab-badge.svg\" alt=\"Open In Colab\"/></a>"
      ]
    },
    {
      "cell_type": "markdown",
      "metadata": {
        "id": "AV827jYb-koV"
      },
      "source": [
        "# Getting started"
      ]
    },
    {
      "cell_type": "code",
      "metadata": {
        "colab": {
          "base_uri": "https://localhost:8080/"
        },
        "id": "f065bAev6I4T",
        "outputId": "3583abe3-79db-4b29-f954-e0a754dba4a7"
      },
      "source": [
        "from sklearn.datasets import load_iris\n",
        "\n",
        "# bunch object contains iris dataset and its attributes\n",
        "iris = load_iris()\n",
        "type(iris)"
      ],
      "execution_count": 6,
      "outputs": [
        {
          "output_type": "execute_result",
          "data": {
            "text/plain": [
              "sklearn.utils.Bunch"
            ]
          },
          "metadata": {
            "tags": []
          },
          "execution_count": 6
        }
      ]
    },
    {
      "cell_type": "markdown",
      "metadata": {
        "id": "pq9Mv47E8Xel"
      },
      "source": [
        "Each row is called observation/ record/ sample/ example/ instance\n",
        "\n",
        "Each column is called feature/ predictor/ attribute/ independent variable/ input/ regressor "
      ]
    },
    {
      "cell_type": "code",
      "metadata": {
        "colab": {
          "base_uri": "https://localhost:8080/"
        },
        "id": "Xj7UF9048s6l",
        "outputId": "2c0b1bde-03ca-4328-bb98-74524c471b89"
      },
      "source": [
        "iris.feature_names"
      ],
      "execution_count": 7,
      "outputs": [
        {
          "output_type": "execute_result",
          "data": {
            "text/plain": [
              "['sepal length (cm)',\n",
              " 'sepal width (cm)',\n",
              " 'petal length (cm)',\n",
              " 'petal width (cm)']"
            ]
          },
          "metadata": {
            "tags": []
          },
          "execution_count": 7
        }
      ]
    },
    {
      "cell_type": "code",
      "metadata": {
        "id": "LLsn-LZW8zIt"
      },
      "source": [
        "iris.target"
      ],
      "execution_count": null,
      "outputs": []
    },
    {
      "cell_type": "code",
      "metadata": {
        "colab": {
          "base_uri": "https://localhost:8080/"
        },
        "id": "XX16cUva81PU",
        "outputId": "d8a07099-db96-43b8-ae0b-b2b6af8b98a9"
      },
      "source": [
        "iris.target_names"
      ],
      "execution_count": 9,
      "outputs": [
        {
          "output_type": "execute_result",
          "data": {
            "text/plain": [
              "array(['setosa', 'versicolor', 'virginica'], dtype='<U10')"
            ]
          },
          "metadata": {
            "tags": []
          },
          "execution_count": 9
        }
      ]
    },
    {
      "cell_type": "code",
      "metadata": {
        "colab": {
          "base_uri": "https://localhost:8080/"
        },
        "id": "1qlHKT1e84MQ",
        "outputId": "e243c1f9-b1d2-4ce2-9598-bd1c9d3c56d6"
      },
      "source": [
        "print( type(iris.data))\n",
        "print( type(iris.target))\n",
        "print( iris.data.shape)\n",
        "print( iris.target.shape)\n",
        "\n",
        "X = iris.data\n",
        "y = iris.target"
      ],
      "execution_count": 20,
      "outputs": [
        {
          "output_type": "stream",
          "text": [
            "<class 'numpy.ndarray'>\n",
            "<class 'numpy.ndarray'>\n",
            "(150, 4)\n",
            "(150,)\n"
          ],
          "name": "stdout"
        }
      ]
    },
    {
      "cell_type": "markdown",
      "metadata": {
        "id": "7DGcgl6P-n0J"
      },
      "source": [
        "# Training a ML model"
      ]
    },
    {
      "cell_type": "code",
      "metadata": {
        "colab": {
          "base_uri": "https://localhost:8080/"
        },
        "id": "Nerivkte-3NE",
        "outputId": "6aa56e67-dca5-4b9d-f723-ca308635ed50"
      },
      "source": [
        "from sklearn.neighbors import KNeighborsClassifier\n",
        "\n",
        "# instantiate the estimator\n",
        "knn = KNeighborsClassifier(n_neighbors = 1)\n",
        "\n",
        "print(knn)"
      ],
      "execution_count": 28,
      "outputs": [
        {
          "output_type": "stream",
          "text": [
            "KNeighborsClassifier(algorithm='auto', leaf_size=30, metric='minkowski',\n",
            "                     metric_params=None, n_jobs=None, n_neighbors=1, p=2,\n",
            "                     weights='uniform')\n"
          ],
          "name": "stdout"
        }
      ]
    },
    {
      "cell_type": "code",
      "metadata": {
        "colab": {
          "base_uri": "https://localhost:8080/"
        },
        "id": "TJBFxVJb_bjd",
        "outputId": "599ce672-b133-4712-ed69-5997be66d690"
      },
      "source": [
        "X_new = [[3,5,4,2],[5,4,3,2]]\n",
        "\n",
        "knn.fit(X,y)\n",
        "print(knn.predict(X_new))\n",
        "\n",
        "knn = knn = KNeighborsClassifier(n_neighbors = 5)\n",
        "knn.fit(X,y)\n",
        "print(knn.predict(X_new))"
      ],
      "execution_count": 29,
      "outputs": [
        {
          "output_type": "stream",
          "text": [
            "[2 1]\n",
            "[1 1]\n"
          ],
          "name": "stdout"
        }
      ]
    },
    {
      "cell_type": "code",
      "metadata": {
        "colab": {
          "base_uri": "https://localhost:8080/"
        },
        "id": "NBIPAaQXAwZN",
        "outputId": "6464bce2-9ecc-4623-b3c3-4f10291e085e"
      },
      "source": [
        "from sklearn.linear_model import LogisticRegression\n",
        "\n",
        "logreg = LogisticRegression(max_iter=120)\n",
        "logreg.fit(X, y)\n",
        "\n",
        "logreg.predict(X_new)"
      ],
      "execution_count": 40,
      "outputs": [
        {
          "output_type": "execute_result",
          "data": {
            "text/plain": [
              "array([0, 0])"
            ]
          },
          "metadata": {
            "tags": []
          },
          "execution_count": 40
        }
      ]
    },
    {
      "cell_type": "markdown",
      "metadata": {
        "id": "Yt7z8xc2BlOI"
      },
      "source": [
        "# Comparing ML models"
      ]
    },
    {
      "cell_type": "code",
      "metadata": {
        "id": "_37xnOEtBgs7"
      },
      "source": [
        ""
      ],
      "execution_count": null,
      "outputs": []
    }
  ]
}